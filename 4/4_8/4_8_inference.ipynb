{
 "cells": [
  {
   "cell_type": "markdown",
   "metadata": {},
   "source": [
    "# 4.8. Wnioskowanie na podstawie nauczonego modelu\n",
    "\n",
    "Modeli regresji nie tworzymy dla sztuki, a chcemy najczęściej być w stanie przewidywać daną wartość w przyszłości, dla zupełnie nowych danych - najczęściej w zewnętrznych systemach. W związku z tym, dość istotną rzeczą jest możliwość przeniesienia nauczonego modelu. Większość dojrzałych narzędzi, w tym scikit-learn, umożliwiają *serializację* do formatu, który może być odczytany na zewnątrz."
   ]
  },
  {
   "cell_type": "code",
   "execution_count": 1,
   "metadata": {},
   "outputs": [],
   "source": [
    "import pandas as pd"
   ]
  },
  {
   "cell_type": "code",
   "execution_count": 2,
   "metadata": {},
   "outputs": [
    {
     "data": {
      "text/html": [
       "<div>\n",
       "<style scoped>\n",
       "    .dataframe tbody tr th:only-of-type {\n",
       "        vertical-align: middle;\n",
       "    }\n",
       "\n",
       "    .dataframe tbody tr th {\n",
       "        vertical-align: top;\n",
       "    }\n",
       "\n",
       "    .dataframe thead th {\n",
       "        text-align: right;\n",
       "    }\n",
       "</style>\n",
       "<table border=\"1\" class=\"dataframe\">\n",
       "  <thead>\n",
       "    <tr style=\"text-align: right;\">\n",
       "      <th></th>\n",
       "      <th>fixed acidity</th>\n",
       "      <th>volatile acidity</th>\n",
       "      <th>citric acid</th>\n",
       "      <th>residual sugar</th>\n",
       "      <th>chlorides</th>\n",
       "      <th>free sulfur dioxide</th>\n",
       "      <th>total sulfur dioxide</th>\n",
       "      <th>density</th>\n",
       "      <th>pH</th>\n",
       "      <th>sulphates</th>\n",
       "      <th>alcohol</th>\n",
       "      <th>quality</th>\n",
       "      <th>color_red</th>\n",
       "      <th>color_white</th>\n",
       "      <th>bound sulfur dioxide</th>\n",
       "    </tr>\n",
       "  </thead>\n",
       "  <tbody>\n",
       "    <tr>\n",
       "      <th>4181</th>\n",
       "      <td>6.6</td>\n",
       "      <td>0.25</td>\n",
       "      <td>0.32</td>\n",
       "      <td>5.60</td>\n",
       "      <td>0.039</td>\n",
       "      <td>15.0</td>\n",
       "      <td>68.0</td>\n",
       "      <td>0.99163</td>\n",
       "      <td>2.96</td>\n",
       "      <td>0.52</td>\n",
       "      <td>11.1</td>\n",
       "      <td>6</td>\n",
       "      <td>0</td>\n",
       "      <td>1</td>\n",
       "      <td>53.0</td>\n",
       "    </tr>\n",
       "    <tr>\n",
       "      <th>1040</th>\n",
       "      <td>8.2</td>\n",
       "      <td>0.68</td>\n",
       "      <td>0.30</td>\n",
       "      <td>2.10</td>\n",
       "      <td>0.047</td>\n",
       "      <td>17.0</td>\n",
       "      <td>138.0</td>\n",
       "      <td>0.99500</td>\n",
       "      <td>3.22</td>\n",
       "      <td>0.71</td>\n",
       "      <td>10.8</td>\n",
       "      <td>4</td>\n",
       "      <td>0</td>\n",
       "      <td>1</td>\n",
       "      <td>121.0</td>\n",
       "    </tr>\n",
       "    <tr>\n",
       "      <th>1362</th>\n",
       "      <td>6.4</td>\n",
       "      <td>0.25</td>\n",
       "      <td>0.33</td>\n",
       "      <td>1.40</td>\n",
       "      <td>0.040</td>\n",
       "      <td>42.0</td>\n",
       "      <td>115.0</td>\n",
       "      <td>0.99060</td>\n",
       "      <td>3.19</td>\n",
       "      <td>0.48</td>\n",
       "      <td>11.3</td>\n",
       "      <td>7</td>\n",
       "      <td>0</td>\n",
       "      <td>1</td>\n",
       "      <td>73.0</td>\n",
       "    </tr>\n",
       "    <tr>\n",
       "      <th>2996</th>\n",
       "      <td>6.5</td>\n",
       "      <td>0.35</td>\n",
       "      <td>0.36</td>\n",
       "      <td>0.80</td>\n",
       "      <td>0.034</td>\n",
       "      <td>32.0</td>\n",
       "      <td>111.0</td>\n",
       "      <td>0.98942</td>\n",
       "      <td>3.11</td>\n",
       "      <td>0.50</td>\n",
       "      <td>12.1</td>\n",
       "      <td>8</td>\n",
       "      <td>0</td>\n",
       "      <td>1</td>\n",
       "      <td>79.0</td>\n",
       "    </tr>\n",
       "    <tr>\n",
       "      <th>4056</th>\n",
       "      <td>6.5</td>\n",
       "      <td>0.43</td>\n",
       "      <td>0.18</td>\n",
       "      <td>13.15</td>\n",
       "      <td>0.032</td>\n",
       "      <td>25.0</td>\n",
       "      <td>131.0</td>\n",
       "      <td>0.99565</td>\n",
       "      <td>3.23</td>\n",
       "      <td>0.51</td>\n",
       "      <td>10.7</td>\n",
       "      <td>5</td>\n",
       "      <td>0</td>\n",
       "      <td>1</td>\n",
       "      <td>106.0</td>\n",
       "    </tr>\n",
       "  </tbody>\n",
       "</table>\n",
       "</div>"
      ],
      "text/plain": [
       "      fixed acidity  volatile acidity  citric acid  residual sugar  chlorides  \\\n",
       "4181            6.6              0.25         0.32            5.60      0.039   \n",
       "1040            8.2              0.68         0.30            2.10      0.047   \n",
       "1362            6.4              0.25         0.33            1.40      0.040   \n",
       "2996            6.5              0.35         0.36            0.80      0.034   \n",
       "4056            6.5              0.43         0.18           13.15      0.032   \n",
       "\n",
       "      free sulfur dioxide  total sulfur dioxide  density    pH  sulphates  \\\n",
       "4181                 15.0                  68.0  0.99163  2.96       0.52   \n",
       "1040                 17.0                 138.0  0.99500  3.22       0.71   \n",
       "1362                 42.0                 115.0  0.99060  3.19       0.48   \n",
       "2996                 32.0                 111.0  0.98942  3.11       0.50   \n",
       "4056                 25.0                 131.0  0.99565  3.23       0.51   \n",
       "\n",
       "      alcohol  quality  color_red  color_white  bound sulfur dioxide  \n",
       "4181     11.1        6          0            1                  53.0  \n",
       "1040     10.8        4          0            1                 121.0  \n",
       "1362     11.3        7          0            1                  73.0  \n",
       "2996     12.1        8          0            1                  79.0  \n",
       "4056     10.7        5          0            1                 106.0  "
      ]
     },
     "execution_count": 2,
     "metadata": {},
     "output_type": "execute_result"
    }
   ],
   "source": [
    "wine_quality_df = pd.read_parquet(\"./data/wine-quality.parquet\")\n",
    "wine_quality_df.sample(n=5)"
   ]
  },
  {
   "cell_type": "code",
   "execution_count": 3,
   "metadata": {},
   "outputs": [],
   "source": [
    "from sklearn.pipeline import Pipeline\n",
    "from sklearn.preprocessing import StandardScaler\n",
    "from sklearn.linear_model import LinearRegression"
   ]
  },
  {
   "cell_type": "code",
   "execution_count": 5,
   "metadata": {},
   "outputs": [
    {
     "data": {
      "text/plain": [
       "Pipeline(memory=None,\n",
       "         steps=[('scaler',\n",
       "                 StandardScaler(copy=True, with_mean=True, with_std=True)),\n",
       "                ('regressor',\n",
       "                 LinearRegression(copy_X=True, fit_intercept=True, n_jobs=None,\n",
       "                                  normalize=False))],\n",
       "         verbose=False)"
      ]
     },
     "execution_count": 5,
     "metadata": {},
     "output_type": "execute_result"
    }
   ],
   "source": [
    "pipeline = Pipeline(steps=[\n",
    "    (\"scaler\", StandardScaler()),\n",
    "    (\"regressor\", LinearRegression()),\n",
    "])\n",
    "pipeline.fit(wine_quality_df.drop(\"quality\", axis=\"columns\"), \n",
    "             wine_quality_df[\"quality\"])"
   ]
  },
  {
   "cell_type": "markdown",
   "metadata": {},
   "source": [
    "W momencie gdy przetestujemy już nasz model na niepełnym zbiorze, nic nie stoi na przeskodzie, aby nauczyć go jeszcze raz, tylko tym razem bez pomijania zbioru testowego. Zasadą jest to, iż ze wzrostem ilości danych, moc predykcyjna modelu powinna wzrastać."
   ]
  },
  {
   "cell_type": "markdown",
   "metadata": {},
   "source": [
    "## Serializacja modelu\n",
    "\n",
    "Python ma standardową bibliotekę *pickle*, która służy do serializacji obiektów. Nie jest to rozwiązanie najwydajniejsze ani najbezpieczniejsze. Ładowanie kodu zapisanego poprzez ten moduł powoduje konieczność odpalenia pewnego kodu przy deserializacji - jeśli nie znamy źródła modelu, to możemy potencjalnie wykonać niebezpieczny kod.\n",
    "\n",
    "Alternatywnym podejściem jest wykorzystanie modułu *joblib*, który umożliwia dokonanie serializacji z sposób bezpieczniejszy i typowo oszczędzając przy tym pamięć. "
   ]
  },
  {
   "cell_type": "code",
   "execution_count": 6,
   "metadata": {},
   "outputs": [],
   "source": [
    "import joblib"
   ]
  },
  {
   "cell_type": "code",
   "execution_count": 8,
   "metadata": {},
   "outputs": [
    {
     "data": {
      "text/plain": [
       "['./model/wine-quality-lr.joblib']"
      ]
     },
     "execution_count": 8,
     "metadata": {},
     "output_type": "execute_result"
    }
   ],
   "source": [
    "joblib.dump(pipeline, \"./model/wine-quality-lr.joblib\")"
   ]
  },
  {
   "cell_type": "code",
   "execution_count": 10,
   "metadata": {},
   "outputs": [
    {
     "data": {
      "text/plain": [
       "array([5.56949282, 5.23283093, 5.83355143, ..., 5.92097627, 5.57319118,\n",
       "       6.14957505])"
      ]
     },
     "execution_count": 10,
     "metadata": {},
     "output_type": "execute_result"
    }
   ],
   "source": [
    "loaded_pipeline = joblib.load(\"./model/wine-quality-lr.joblib\")\n",
    "loaded_pipeline.predict(wine_quality_df.drop(\"quality\", \n",
    "                                             axis=\"columns\"))"
   ]
  },
  {
   "cell_type": "markdown",
   "metadata": {},
   "source": [
    "## Monitorowanie jakości\n",
    "\n",
    "Ważnym aspektem produkcyjnego uruchamiania jakiegokolwiek modelu ML, jest monitorowanie jego zachowania w fazie wdrożenia. Uwzględnia to zarówno aspekty czasowe, takie jak średni czas predykcji, ale również poprawność przewidywań. Najczęściej jednak nie znamy prawidłowych odpowiedzi, ale jeśli jesteśmy w stanie logować podane mu przykłady, to w przyszłości będzie możliwe ewaluowanie jak i douczenie stworzonego systemu.\n",
    "\n",
    "**Wszystkie modele Machine Learning są nauczone na przeszłych danych i bazują na regularnościach obecnych historycznie, a niekoniecznie w przyszłości!**"
   ]
  },
  {
   "cell_type": "code",
   "execution_count": null,
   "metadata": {},
   "outputs": [],
   "source": []
  }
 ],
 "metadata": {
  "kernelspec": {
   "display_name": "Python 3",
   "language": "python",
   "name": "python3"
  },
  "language_info": {
   "codemirror_mode": {
    "name": "ipython",
    "version": 3
   },
   "file_extension": ".py",
   "mimetype": "text/x-python",
   "name": "python",
   "nbconvert_exporter": "python",
   "pygments_lexer": "ipython3",
   "version": "3.7.7"
  }
 },
 "nbformat": 4,
 "nbformat_minor": 4
}
