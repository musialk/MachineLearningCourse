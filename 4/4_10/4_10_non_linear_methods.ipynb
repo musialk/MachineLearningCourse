{
 "cells": [
  {
   "cell_type": "markdown",
   "metadata": {},
   "source": [
    "# 4.10. Metody liniowe, a nieliniowe\n",
    "\n",
    "Do tej pory zakładaliśmy o danych, iż istnieje między nimi liniowa relacja, tzn. wartość cechy, którą przewidujemy, jest liniową kombinacją wartości innych zmiennych. Często jednak nie jest to prawda i modele liniowe nie są w stanie w pełni oddać struktury danych."
   ]
  },
  {
   "cell_type": "markdown",
   "metadata": {},
   "source": [
    "## Problem nieliniowy\n",
    "\n",
    "Stworzymy zbiór danych, w którym sami zaszyjemy pewną nieliniową relację pomiędzy składowymi cechami."
   ]
  },
  {
   "cell_type": "code",
   "execution_count": 1,
   "metadata": {},
   "outputs": [],
   "source": [
    "import pandas as pd\n",
    "import numpy as np"
   ]
  },
  {
   "cell_type": "code",
   "execution_count": 29,
   "metadata": {},
   "outputs": [
    {
     "data": {
      "text/html": [
       "<div>\n",
       "<style scoped>\n",
       "    .dataframe tbody tr th:only-of-type {\n",
       "        vertical-align: middle;\n",
       "    }\n",
       "\n",
       "    .dataframe tbody tr th {\n",
       "        vertical-align: top;\n",
       "    }\n",
       "\n",
       "    .dataframe thead th {\n",
       "        text-align: right;\n",
       "    }\n",
       "</style>\n",
       "<table border=\"1\" class=\"dataframe\">\n",
       "  <thead>\n",
       "    <tr style=\"text-align: right;\">\n",
       "      <th></th>\n",
       "      <th>x</th>\n",
       "      <th>y</th>\n",
       "    </tr>\n",
       "  </thead>\n",
       "  <tbody>\n",
       "    <tr>\n",
       "      <th>0</th>\n",
       "      <td>0.000000</td>\n",
       "      <td>-3.537691</td>\n",
       "    </tr>\n",
       "    <tr>\n",
       "      <th>3</th>\n",
       "      <td>2.727273</td>\n",
       "      <td>-12.955753</td>\n",
       "    </tr>\n",
       "    <tr>\n",
       "      <th>10</th>\n",
       "      <td>9.090909</td>\n",
       "      <td>17.405597</td>\n",
       "    </tr>\n",
       "    <tr>\n",
       "      <th>11</th>\n",
       "      <td>10.000000</td>\n",
       "      <td>32.624070</td>\n",
       "    </tr>\n",
       "    <tr>\n",
       "      <th>8</th>\n",
       "      <td>7.272727</td>\n",
       "      <td>2.803697</td>\n",
       "    </tr>\n",
       "  </tbody>\n",
       "</table>\n",
       "</div>"
      ],
      "text/plain": [
       "            x          y\n",
       "0    0.000000  -3.537691\n",
       "3    2.727273 -12.955753\n",
       "10   9.090909  17.405597\n",
       "11  10.000000  32.624070\n",
       "8    7.272727   2.803697"
      ]
     },
     "execution_count": 29,
     "metadata": {},
     "output_type": "execute_result"
    }
   ],
   "source": [
    "np.random.seed(2020)\n",
    "x = np.linspace(0, 10, 12)\n",
    "xy_df = pd.DataFrame({\n",
    "    \"x\": x,\n",
    "    \"y\": x ** 2 - 7 * x + 2 * np.random.normal(size=12)\n",
    "})\n",
    "xy_df.sample(n=5)"
   ]
  },
  {
   "cell_type": "code",
   "execution_count": 19,
   "metadata": {},
   "outputs": [
    {
     "data": {
      "text/plain": [
       "<matplotlib.axes._subplots.AxesSubplot at 0x1abd84aac48>"
      ]
     },
     "execution_count": 19,
     "metadata": {},
     "output_type": "execute_result"
    },
    {
     "data": {
      "image/png": "[encoded data removed]",
      "text/plain": [
       "<Figure size 720x540 with 1 Axes>"
      ]
     },
     "metadata": {
      "needs_background": "light"
     },
     "output_type": "display_data"
    }
   ],
   "source": [
    "xy_df.plot.scatter(x=\"x\", y=\"y\", \n",
    "                   figsize=(10.0, 7.5))"
   ]
  },
  {
   "cell_type": "markdown",
   "metadata": {},
   "source": [
    "## Próba rozwiązania metodami liniowymi\n",
    "\n",
    "Spróbujemy zbudować liniowy predyktor dla naszego problemu i zobaczymy jak dobrze jest on w stanie przewidzieć wartość $ y $ na podstawie $ x $."
   ]
  },
  {
   "cell_type": "code",
   "execution_count": 20,
   "metadata": {},
   "outputs": [],
   "source": [
    "from sklearn.linear_model import LinearRegression"
   ]
  },
  {
   "cell_type": "code",
   "execution_count": 21,
   "metadata": {},
   "outputs": [],
   "source": [
    "import matplotlib.pyplot as plt"
   ]
  },
  {
   "cell_type": "code",
   "execution_count": 22,
   "metadata": {},
   "outputs": [],
   "source": [
    "def draw_line(a, b, x_min=-5, x_max=5, \n",
    "              c=(.75, .1, .1, .25)):\n",
    "    x = np.linspace(x_min, x_max, 1000)\n",
    "    y = a * x + b\n",
    "    plt.plot(x, y, \"-r\", c=c)"
   ]
  },
  {
   "cell_type": "code",
   "execution_count": 23,
   "metadata": {},
   "outputs": [
    {
     "data": {
      "text/plain": [
       "LinearRegression(copy_X=True, fit_intercept=True, n_jobs=None, normalize=False)"
      ]
     },
     "execution_count": 23,
     "metadata": {},
     "output_type": "execute_result"
    }
   ],
   "source": [
    "lr = LinearRegression()\n",
    "lr.fit(xy_df[[\"x\"]], xy_df[\"y\"])"
   ]
  },
  {
   "cell_type": "code",
   "execution_count": 31,
   "metadata": {},
   "outputs": [
    {
     "data": {
      "image/png": "[encoded data removed]",
      "text/plain": [
       "<Figure size 720x540 with 1 Axes>"
      ]
     },
     "metadata": {
      "needs_background": "light"
     },
     "output_type": "display_data"
    }
   ],
   "source": [
    "xy_df.plot.scatter(x=\"x\", y=\"y\", \n",
    "                   figsize=(10.0, 7.5))\n",
    "draw_line(lr.coef_[0], lr.intercept_, x_min=0, x_max=10)"
   ]
  },
  {
   "cell_type": "markdown",
   "metadata": {},
   "source": [
    "## Złożoność modelu\n",
    "\n",
    "Z zasady preferujemy jak najprostsze modele. Nie oznacza to, że dobieramy zawsze model liniowy, gdyż dla problemów o innej charakterystyce, niezbędne będzie wybranie bardziej skomplikowanej metody. \n",
    "\n",
    "Dla powyższego przykładu moglibyśmy dobrać np. parabolę, czyli wykres funkcji kwadratowej. Wiemy to jednak głównie dlatego, że sami wygenerowaliśmy dane używając funkcji kwadratowej z pewnym losowym szumem. Gdybyśmy jednak wybrali jeszcze bardziej skomplikowaną metodę, to moglibyśmy wylądować z poniższym modelem:"
   ]
  },
  {
   "cell_type": "code",
   "execution_count": 27,
   "metadata": {},
   "outputs": [
    {
     "data": {
      "text/plain": [
       "[<matplotlib.lines.Line2D at 0x1abd848d0c8>]"
      ]
     },
     "execution_count": 27,
     "metadata": {},
     "output_type": "execute_result"
    },
    {
     "data": {
      "image/png": "[encoded data removed]",
      "text/plain": [
       "<Figure size 720x540 with 1 Axes>"
      ]
     },
     "metadata": {
      "needs_background": "light"
     },
     "output_type": "display_data"
    }
   ],
   "source": [
    "xy_df.plot.scatter(x=\"x\", y=\"y\", \n",
    "                   figsize=(10.0, 7.5))\n",
    "plt.plot(xy_df[\"x\"], xy_df[\"y\"], \"-r\") "
   ]
  },
  {
   "cell_type": "code",
   "execution_count": null,
   "metadata": {},
   "outputs": [],
   "source": []
  }
 ],
 "metadata": {
  "kernelspec": {
   "display_name": "Python 3",
   "language": "python",
   "name": "python3"
  },
  "language_info": {
   "codemirror_mode": {
    "name": "ipython",
    "version": 3
   },
   "file_extension": ".py",
   "mimetype": "text/x-python",
   "name": "python",
   "nbconvert_exporter": "python",
   "pygments_lexer": "ipython3",
   "version": "3.7.7"
  }
 },
 "nbformat": 4,
 "nbformat_minor": 4
}
