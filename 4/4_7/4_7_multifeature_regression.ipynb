{
 "cells": [
  {
   "cell_type": "markdown",
   "metadata": {},
   "source": [
    "# 4.7. Regresja liniowa wielu zmiennych\n",
    "\n",
    "Rozpoczęliśmy swoje rozważania nad regresją liniową od przewidywania jakości wina tylko na podstawie zawartości alkoholu. Mamy jednak kilka innych zmiennych, które mogą być dość wartościowe. Spróbujmy więc dołożyć wszystkie pozostałe cechy, które zgromadziliśmy i zobaczmy jak wpływa to na skuteczność predykcji. Regresja w dwóch wymiarach jest atrakcyjna z jednego powodu - łatwo jest nam zwizualizować stworzoną funkcję, co nie jest już wykonalne w wyżejwymiarowych przestrzeniach."
   ]
  },
  {
   "cell_type": "code",
   "execution_count": 1,
   "metadata": {},
   "outputs": [],
   "source": [
    "import pandas as pd"
   ]
  },
  {
   "cell_type": "code",
   "execution_count": 2,
   "metadata": {},
   "outputs": [
    {
     "data": {
      "text/html": [
       "<div>\n",
       "<style scoped>\n",
       "    .dataframe tbody tr th:only-of-type {\n",
       "        vertical-align: middle;\n",
       "    }\n",
       "\n",
       "    .dataframe tbody tr th {\n",
       "        vertical-align: top;\n",
       "    }\n",
       "\n",
       "    .dataframe thead th {\n",
       "        text-align: right;\n",
       "    }\n",
       "</style>\n",
       "<table border=\"1\" class=\"dataframe\">\n",
       "  <thead>\n",
       "    <tr style=\"text-align: right;\">\n",
       "      <th></th>\n",
       "      <th>fixed acidity</th>\n",
       "      <th>volatile acidity</th>\n",
       "      <th>citric acid</th>\n",
       "      <th>residual sugar</th>\n",
       "      <th>chlorides</th>\n",
       "      <th>free sulfur dioxide</th>\n",
       "      <th>total sulfur dioxide</th>\n",
       "      <th>density</th>\n",
       "      <th>pH</th>\n",
       "      <th>sulphates</th>\n",
       "      <th>alcohol</th>\n",
       "      <th>quality</th>\n",
       "      <th>color_red</th>\n",
       "      <th>color_white</th>\n",
       "      <th>bound sulfur dioxide</th>\n",
       "    </tr>\n",
       "  </thead>\n",
       "  <tbody>\n",
       "    <tr>\n",
       "      <th>4066</th>\n",
       "      <td>7.1</td>\n",
       "      <td>0.440</td>\n",
       "      <td>0.27</td>\n",
       "      <td>8.4</td>\n",
       "      <td>0.057</td>\n",
       "      <td>60.0</td>\n",
       "      <td>160.0</td>\n",
       "      <td>0.99257</td>\n",
       "      <td>3.16</td>\n",
       "      <td>0.36</td>\n",
       "      <td>11.8</td>\n",
       "      <td>6</td>\n",
       "      <td>0</td>\n",
       "      <td>1</td>\n",
       "      <td>100.0</td>\n",
       "    </tr>\n",
       "    <tr>\n",
       "      <th>730</th>\n",
       "      <td>9.5</td>\n",
       "      <td>0.550</td>\n",
       "      <td>0.66</td>\n",
       "      <td>2.3</td>\n",
       "      <td>0.387</td>\n",
       "      <td>12.0</td>\n",
       "      <td>37.0</td>\n",
       "      <td>0.99820</td>\n",
       "      <td>3.17</td>\n",
       "      <td>0.67</td>\n",
       "      <td>9.6</td>\n",
       "      <td>5</td>\n",
       "      <td>1</td>\n",
       "      <td>0</td>\n",
       "      <td>25.0</td>\n",
       "    </tr>\n",
       "    <tr>\n",
       "      <th>3723</th>\n",
       "      <td>5.7</td>\n",
       "      <td>0.265</td>\n",
       "      <td>0.28</td>\n",
       "      <td>6.9</td>\n",
       "      <td>0.036</td>\n",
       "      <td>46.0</td>\n",
       "      <td>150.0</td>\n",
       "      <td>0.99299</td>\n",
       "      <td>3.36</td>\n",
       "      <td>0.44</td>\n",
       "      <td>10.8</td>\n",
       "      <td>7</td>\n",
       "      <td>0</td>\n",
       "      <td>1</td>\n",
       "      <td>104.0</td>\n",
       "    </tr>\n",
       "    <tr>\n",
       "      <th>3707</th>\n",
       "      <td>6.7</td>\n",
       "      <td>0.340</td>\n",
       "      <td>0.43</td>\n",
       "      <td>1.6</td>\n",
       "      <td>0.041</td>\n",
       "      <td>29.0</td>\n",
       "      <td>114.0</td>\n",
       "      <td>0.99014</td>\n",
       "      <td>3.23</td>\n",
       "      <td>0.44</td>\n",
       "      <td>12.6</td>\n",
       "      <td>6</td>\n",
       "      <td>0</td>\n",
       "      <td>1</td>\n",
       "      <td>85.0</td>\n",
       "    </tr>\n",
       "    <tr>\n",
       "      <th>4195</th>\n",
       "      <td>7.1</td>\n",
       "      <td>0.450</td>\n",
       "      <td>0.24</td>\n",
       "      <td>2.7</td>\n",
       "      <td>0.040</td>\n",
       "      <td>24.0</td>\n",
       "      <td>87.0</td>\n",
       "      <td>0.98862</td>\n",
       "      <td>2.94</td>\n",
       "      <td>0.38</td>\n",
       "      <td>13.4</td>\n",
       "      <td>8</td>\n",
       "      <td>0</td>\n",
       "      <td>1</td>\n",
       "      <td>63.0</td>\n",
       "    </tr>\n",
       "  </tbody>\n",
       "</table>\n",
       "</div>"
      ],
      "text/plain": [
       "      fixed acidity  volatile acidity  citric acid  residual sugar  chlorides  \\\n",
       "4066            7.1             0.440         0.27             8.4      0.057   \n",
       "730             9.5             0.550         0.66             2.3      0.387   \n",
       "3723            5.7             0.265         0.28             6.9      0.036   \n",
       "3707            6.7             0.340         0.43             1.6      0.041   \n",
       "4195            7.1             0.450         0.24             2.7      0.040   \n",
       "\n",
       "      free sulfur dioxide  total sulfur dioxide  density    pH  sulphates  \\\n",
       "4066                 60.0                 160.0  0.99257  3.16       0.36   \n",
       "730                  12.0                  37.0  0.99820  3.17       0.67   \n",
       "3723                 46.0                 150.0  0.99299  3.36       0.44   \n",
       "3707                 29.0                 114.0  0.99014  3.23       0.44   \n",
       "4195                 24.0                  87.0  0.98862  2.94       0.38   \n",
       "\n",
       "      alcohol  quality  color_red  color_white  bound sulfur dioxide  \n",
       "4066     11.8        6          0            1                 100.0  \n",
       "730       9.6        5          1            0                  25.0  \n",
       "3723     10.8        7          0            1                 104.0  \n",
       "3707     12.6        6          0            1                  85.0  \n",
       "4195     13.4        8          0            1                  63.0  "
      ]
     },
     "execution_count": 2,
     "metadata": {},
     "output_type": "execute_result"
    }
   ],
   "source": [
    "wine_quality_df = pd.read_parquet(\"./data/wine-quality.parquet\")\n",
    "wine_quality_df.sample(n=5)"
   ]
  },
  {
   "cell_type": "markdown",
   "metadata": {},
   "source": [
    "Do stworzenia tego modelu wykorzystamy wszystkie omówione wcześniej techniki. Po raz pierwszy skorzystamy również z mechanizmu tzw. *pipelines* dostarczanych przez scikit-learn."
   ]
  },
  {
   "cell_type": "code",
   "execution_count": 4,
   "metadata": {},
   "outputs": [],
   "source": [
    "from sklearn.model_selection import train_test_split"
   ]
  },
  {
   "cell_type": "code",
   "execution_count": 5,
   "metadata": {},
   "outputs": [],
   "source": [
    "train_df, test_df = train_test_split(wine_quality_df, test_size=0.2)"
   ]
  },
  {
   "cell_type": "code",
   "execution_count": 9,
   "metadata": {},
   "outputs": [],
   "source": [
    "from sklearn.pipeline import Pipeline\n",
    "from sklearn.preprocessing import StandardScaler\n",
    "from sklearn.linear_model import LinearRegression"
   ]
  },
  {
   "cell_type": "code",
   "execution_count": 11,
   "metadata": {},
   "outputs": [],
   "source": [
    "pipeline = Pipeline(steps=[\n",
    "    (\"scaler\", StandardScaler()),\n",
    "    (\"regressor\", LinearRegression()),\n",
    "])"
   ]
  },
  {
   "cell_type": "code",
   "execution_count": 13,
   "metadata": {},
   "outputs": [
    {
     "data": {
      "text/plain": [
       "Pipeline(memory=None,\n",
       "         steps=[('scaler',\n",
       "                 StandardScaler(copy=True, with_mean=True, with_std=True)),\n",
       "                ('regressor',\n",
       "                 LinearRegression(copy_X=True, fit_intercept=True, n_jobs=None,\n",
       "                                  normalize=False))],\n",
       "         verbose=False)"
      ]
     },
     "execution_count": 13,
     "metadata": {},
     "output_type": "execute_result"
    }
   ],
   "source": [
    "pipeline.fit(train_df.drop(\"quality\", axis=\"columns\"), \n",
    "             train_df[\"quality\"])"
   ]
  },
  {
   "cell_type": "code",
   "execution_count": 17,
   "metadata": {},
   "outputs": [],
   "source": [
    "train_pred = pipeline.predict(train_df.drop(\"quality\", \n",
    "                                            axis=\"columns\"))\n",
    "test_pred = pipeline.predict(test_df.drop(\"quality\", \n",
    "                                          axis=\"columns\"))"
   ]
  },
  {
   "cell_type": "code",
   "execution_count": 18,
   "metadata": {},
   "outputs": [],
   "source": [
    "from sklearn.metrics import mean_absolute_error, mean_squared_error"
   ]
  },
  {
   "cell_type": "code",
   "execution_count": 20,
   "metadata": {},
   "outputs": [
    {
     "data": {
      "text/plain": [
       "(0.5691584019624648, 0.5686292410727408)"
      ]
     },
     "execution_count": 20,
     "metadata": {},
     "output_type": "execute_result"
    }
   ],
   "source": [
    "mean_absolute_error(train_df[\"quality\"], train_pred), \\\n",
    "    mean_absolute_error(test_df[\"quality\"], test_pred)"
   ]
  },
  {
   "cell_type": "code",
   "execution_count": 21,
   "metadata": {},
   "outputs": [
    {
     "data": {
      "text/plain": [
       "(0.5382273452404189, 0.5296936519106971)"
      ]
     },
     "execution_count": 21,
     "metadata": {},
     "output_type": "execute_result"
    }
   ],
   "source": [
    "mean_squared_error(train_df[\"quality\"], train_pred), \\\n",
    "    mean_squared_error(test_df[\"quality\"], test_pred)"
   ]
  },
  {
   "cell_type": "code",
   "execution_count": 29,
   "metadata": {},
   "outputs": [
    {
     "data": {
      "text/plain": [
       "(array([ 0.10558157, -0.23635444, -0.00847628,  0.28972962, -0.02900862,\n",
       "         0.06232756, -0.01935634, -0.30312757,  0.07523227,  0.11067352,\n",
       "         0.26189113,  0.07284289, -0.07284289, -0.04810621]),\n",
       " 5.822974793149908)"
      ]
     },
     "execution_count": 29,
     "metadata": {},
     "output_type": "execute_result"
    }
   ],
   "source": [
    "pipeline.steps[1][1].coef_, pipeline.steps[1][1].intercept_"
   ]
  },
  {
   "cell_type": "code",
   "execution_count": 28,
   "metadata": {},
   "outputs": [
    {
     "data": {
      "text/plain": [
       "Index(['fixed acidity', 'volatile acidity', 'citric acid', 'residual sugar',\n",
       "       'chlorides', 'free sulfur dioxide', 'total sulfur dioxide', 'density',\n",
       "       'pH', 'sulphates', 'alcohol', 'color_red', 'color_white',\n",
       "       'bound sulfur dioxide'],\n",
       "      dtype='object')"
      ]
     },
     "execution_count": 28,
     "metadata": {},
     "output_type": "execute_result"
    }
   ],
   "source": [
    "train_df.drop(\"quality\", axis=\"columns\").columns"
   ]
  },
  {
   "cell_type": "code",
   "execution_count": 32,
   "metadata": {},
   "outputs": [
    {
     "data": {
      "text/plain": [
       "{'fixed acidity': 0.10558157362894088,\n",
       " 'volatile acidity': -0.23635443645529206,\n",
       " 'citric acid': -0.008476283622600432,\n",
       " 'residual sugar': 0.28972961551167686,\n",
       " 'chlorides': -0.02900861620212126,\n",
       " 'free sulfur dioxide': 0.062327556387413066,\n",
       " 'total sulfur dioxide': -0.01935633646894997,\n",
       " 'density': -0.30312756644283456,\n",
       " 'pH': 0.07523227277980737,\n",
       " 'sulphates': 0.11067352450605676,\n",
       " 'alcohol': 0.26189113268616315,\n",
       " 'color_red': 0.07284289253219821,\n",
       " 'color_white': -0.07284289253219826,\n",
       " 'bound sulfur dioxide': -0.04810620636219985}"
      ]
     },
     "execution_count": 32,
     "metadata": {},
     "output_type": "execute_result"
    }
   ],
   "source": [
    "feature_weights = dict(\n",
    "    zip(\n",
    "        train_df.drop(\"quality\", axis=\"columns\").columns,\n",
    "        pipeline.steps[1][1].coef_\n",
    "    )\n",
    ")\n",
    "feature_weights"
   ]
  },
  {
   "cell_type": "code",
   "execution_count": null,
   "metadata": {},
   "outputs": [],
   "source": []
  }
 ],
 "metadata": {
  "kernelspec": {
   "display_name": "Python 3",
   "language": "python",
   "name": "python3"
  },
  "language_info": {
   "codemirror_mode": {
    "name": "ipython",
    "version": 3
   },
   "file_extension": ".py",
   "mimetype": "text/x-python",
   "name": "python",
   "nbconvert_exporter": "python",
   "pygments_lexer": "ipython3",
   "version": "3.7.7"
  }
 },
 "nbformat": 4,
 "nbformat_minor": 4
}
