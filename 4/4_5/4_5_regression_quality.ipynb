{
 "cells": [
  {
   "cell_type": "markdown",
   "metadata": {},
   "source": [
    "# 4.5. Pomiar jakości modeli regresji\n",
    "\n",
    "Stworzyliśmy model, który w pewien sposób przewiduje jakość wina na podstawie stężenia alkoholu. Jak widzieliśmy na wykresie, daleko jest nam od perfekcji. Gdybyśmy teraz otrzymali inny model i musieli zdecydować który z nich działa lepiej, to naoczne stwierdzenie tego faktu jest niemożliwe. Potrzebujemy metody, która zwróci nam ocenę obydwu modeli, abyśmy wybrali ten lepszy."
   ]
  },
  {
   "cell_type": "markdown",
   "metadata": {},
   "source": [
    "## Proces ewaluacji, a proces nauczania\n",
    "\n",
    "Popełniliśmy podstawowy błąd podczas uczenia poprzedniego modelu i teraz go naprawimy. Wykorzystaliśmy cały zbiór do nauczenia regresji liniowej i teraz nie mamy na czym sprawdzić jakości jej predykcji dla nowych danych. Typowy proces zakłada podział zbioru na co najmniej 2, a czasem nawet 3 podzbiory:\n",
    "\n",
    "1. Zbiór treningowy\n",
    "2. Zbiór walidacyjny\n",
    "3. Zbiór testowy\n",
    "\n",
    "Wykorzystamy tylko zbiór treningowy i testowy, ponieważ regresja liniowa nie jest parametryzowalna."
   ]
  },
  {
   "cell_type": "code",
   "execution_count": 3,
   "metadata": {},
   "outputs": [],
   "source": [
    "import pandas as pd"
   ]
  },
  {
   "cell_type": "code",
   "execution_count": 4,
   "metadata": {},
   "outputs": [
    {
     "data": {
      "text/html": [
       "<div>\n",
       "<style scoped>\n",
       "    .dataframe tbody tr th:only-of-type {\n",
       "        vertical-align: middle;\n",
       "    }\n",
       "\n",
       "    .dataframe tbody tr th {\n",
       "        vertical-align: top;\n",
       "    }\n",
       "\n",
       "    .dataframe thead th {\n",
       "        text-align: right;\n",
       "    }\n",
       "</style>\n",
       "<table border=\"1\" class=\"dataframe\">\n",
       "  <thead>\n",
       "    <tr style=\"text-align: right;\">\n",
       "      <th></th>\n",
       "      <th>fixed acidity</th>\n",
       "      <th>volatile acidity</th>\n",
       "      <th>citric acid</th>\n",
       "      <th>residual sugar</th>\n",
       "      <th>chlorides</th>\n",
       "      <th>free sulfur dioxide</th>\n",
       "      <th>total sulfur dioxide</th>\n",
       "      <th>density</th>\n",
       "      <th>pH</th>\n",
       "      <th>sulphates</th>\n",
       "      <th>alcohol</th>\n",
       "      <th>quality</th>\n",
       "      <th>color_red</th>\n",
       "      <th>color_white</th>\n",
       "      <th>bound sulfur dioxide</th>\n",
       "    </tr>\n",
       "  </thead>\n",
       "  <tbody>\n",
       "    <tr>\n",
       "      <th>1532</th>\n",
       "      <td>7.5</td>\n",
       "      <td>0.23</td>\n",
       "      <td>0.49</td>\n",
       "      <td>7.7</td>\n",
       "      <td>0.049</td>\n",
       "      <td>61.0</td>\n",
       "      <td>209.0</td>\n",
       "      <td>0.99410</td>\n",
       "      <td>3.14</td>\n",
       "      <td>0.30</td>\n",
       "      <td>11.1</td>\n",
       "      <td>7</td>\n",
       "      <td>0</td>\n",
       "      <td>1</td>\n",
       "      <td>148.0</td>\n",
       "    </tr>\n",
       "    <tr>\n",
       "      <th>2383</th>\n",
       "      <td>6.7</td>\n",
       "      <td>0.26</td>\n",
       "      <td>0.29</td>\n",
       "      <td>5.8</td>\n",
       "      <td>0.025</td>\n",
       "      <td>26.0</td>\n",
       "      <td>74.0</td>\n",
       "      <td>0.99290</td>\n",
       "      <td>3.28</td>\n",
       "      <td>0.53</td>\n",
       "      <td>11.0</td>\n",
       "      <td>6</td>\n",
       "      <td>0</td>\n",
       "      <td>1</td>\n",
       "      <td>48.0</td>\n",
       "    </tr>\n",
       "    <tr>\n",
       "      <th>548</th>\n",
       "      <td>12.4</td>\n",
       "      <td>0.35</td>\n",
       "      <td>0.49</td>\n",
       "      <td>2.6</td>\n",
       "      <td>0.079</td>\n",
       "      <td>27.0</td>\n",
       "      <td>69.0</td>\n",
       "      <td>0.99940</td>\n",
       "      <td>3.12</td>\n",
       "      <td>0.75</td>\n",
       "      <td>10.4</td>\n",
       "      <td>6</td>\n",
       "      <td>1</td>\n",
       "      <td>0</td>\n",
       "      <td>42.0</td>\n",
       "    </tr>\n",
       "    <tr>\n",
       "      <th>204</th>\n",
       "      <td>7.0</td>\n",
       "      <td>0.43</td>\n",
       "      <td>0.36</td>\n",
       "      <td>1.6</td>\n",
       "      <td>0.089</td>\n",
       "      <td>14.0</td>\n",
       "      <td>37.0</td>\n",
       "      <td>0.99615</td>\n",
       "      <td>3.34</td>\n",
       "      <td>0.56</td>\n",
       "      <td>9.2</td>\n",
       "      <td>6</td>\n",
       "      <td>1</td>\n",
       "      <td>0</td>\n",
       "      <td>23.0</td>\n",
       "    </tr>\n",
       "    <tr>\n",
       "      <th>535</th>\n",
       "      <td>9.1</td>\n",
       "      <td>0.22</td>\n",
       "      <td>0.24</td>\n",
       "      <td>2.1</td>\n",
       "      <td>0.078</td>\n",
       "      <td>1.0</td>\n",
       "      <td>28.0</td>\n",
       "      <td>0.99900</td>\n",
       "      <td>3.41</td>\n",
       "      <td>0.87</td>\n",
       "      <td>10.3</td>\n",
       "      <td>6</td>\n",
       "      <td>1</td>\n",
       "      <td>0</td>\n",
       "      <td>27.0</td>\n",
       "    </tr>\n",
       "  </tbody>\n",
       "</table>\n",
       "</div>"
      ],
      "text/plain": [
       "      fixed acidity  volatile acidity  citric acid  residual sugar  chlorides  \\\n",
       "1532            7.5              0.23         0.49             7.7      0.049   \n",
       "2383            6.7              0.26         0.29             5.8      0.025   \n",
       "548            12.4              0.35         0.49             2.6      0.079   \n",
       "204             7.0              0.43         0.36             1.6      0.089   \n",
       "535             9.1              0.22         0.24             2.1      0.078   \n",
       "\n",
       "      free sulfur dioxide  total sulfur dioxide  density    pH  sulphates  \\\n",
       "1532                 61.0                 209.0  0.99410  3.14       0.30   \n",
       "2383                 26.0                  74.0  0.99290  3.28       0.53   \n",
       "548                  27.0                  69.0  0.99940  3.12       0.75   \n",
       "204                  14.0                  37.0  0.99615  3.34       0.56   \n",
       "535                   1.0                  28.0  0.99900  3.41       0.87   \n",
       "\n",
       "      alcohol  quality  color_red  color_white  bound sulfur dioxide  \n",
       "1532     11.1        7          0            1                 148.0  \n",
       "2383     11.0        6          0            1                  48.0  \n",
       "548      10.4        6          1            0                  42.0  \n",
       "204       9.2        6          1            0                  23.0  \n",
       "535      10.3        6          1            0                  27.0  "
      ]
     },
     "execution_count": 4,
     "metadata": {},
     "output_type": "execute_result"
    }
   ],
   "source": [
    "wine_quality_df = pd.read_parquet(\"./data/wine-quality.parquet\")\n",
    "wine_quality_df.sample(n=5)"
   ]
  },
  {
   "cell_type": "code",
   "execution_count": 5,
   "metadata": {},
   "outputs": [],
   "source": [
    "from sklearn.model_selection import train_test_split"
   ]
  },
  {
   "cell_type": "code",
   "execution_count": 7,
   "metadata": {},
   "outputs": [
    {
     "data": {
      "text/plain": [
       "((5197, 15), (1300, 15))"
      ]
     },
     "execution_count": 7,
     "metadata": {},
     "output_type": "execute_result"
    }
   ],
   "source": [
    "train_df, test_df = train_test_split(wine_quality_df, test_size=0.2)\n",
    "train_df.shape, test_df.shape"
   ]
  },
  {
   "cell_type": "code",
   "execution_count": 8,
   "metadata": {},
   "outputs": [],
   "source": [
    "from sklearn.linear_model import LinearRegression"
   ]
  },
  {
   "cell_type": "code",
   "execution_count": 9,
   "metadata": {},
   "outputs": [
    {
     "data": {
      "text/plain": [
       "LinearRegression(copy_X=True, fit_intercept=True, n_jobs=None, normalize=False)"
      ]
     },
     "execution_count": 9,
     "metadata": {},
     "output_type": "execute_result"
    }
   ],
   "source": [
    "lr = LinearRegression()\n",
    "lr.fit(train_df[[\"alcohol\"]], train_df[\"quality\"])"
   ]
  },
  {
   "cell_type": "code",
   "execution_count": 10,
   "metadata": {},
   "outputs": [
    {
     "data": {
      "text/plain": [
       "(array([0.32735383]), 2.3844524492584953)"
      ]
     },
     "execution_count": 10,
     "metadata": {},
     "output_type": "execute_result"
    }
   ],
   "source": [
    "lr.coef_, lr.intercept_"
   ]
  },
  {
   "cell_type": "markdown",
   "metadata": {},
   "source": [
    "## Metody pomiaru jakości\n",
    "\n",
    "Istnieje kilka metod pomiaru jakości stworzonego modelu regresji i opierają się one typowo na pomiarze błędu, jaki średnio popełnia dany model. Sam błąd można jednak liczyć na kilka sposobów i stąd też różnorodność dostępnych metod.\n",
    "\n",
    "Od razu zauważmy, że błąd możemy policzyć osobno dla zbioru treningowego i testowego. "
   ]
  },
  {
   "cell_type": "markdown",
   "metadata": {},
   "source": [
    "### MAE (Mean Absolute Error)\n",
    "\n",
    "Jeśli błąd predykcji modelu będziemy liczyć jako wartość absolutną różnicy pomiędzy oczekiwaną wartością, a tą przewidzianą przez model, to wartość średniego błędu będzie obliczana w następujący sposób:\n",
    "\n",
    "$$ MAE = \\frac{ \\sum_{i=0}^{N}{ | \\overline{y_{i}} - y_{i} | } }{ N } $$"
   ]
  },
  {
   "cell_type": "code",
   "execution_count": 11,
   "metadata": {},
   "outputs": [],
   "source": [
    "from sklearn.metrics import mean_absolute_error"
   ]
  },
  {
   "cell_type": "code",
   "execution_count": 12,
   "metadata": {},
   "outputs": [
    {
     "data": {
      "text/plain": [
       "0.6194424181995732"
      ]
     },
     "execution_count": 12,
     "metadata": {},
     "output_type": "execute_result"
    }
   ],
   "source": [
    "train_pred = lr.predict(train_df[[\"alcohol\"]])\n",
    "mean_absolute_error(train_df[\"quality\"], train_pred)"
   ]
  },
  {
   "cell_type": "code",
   "execution_count": 14,
   "metadata": {},
   "outputs": [
    {
     "data": {
      "text/plain": [
       "0.6155902885507313"
      ]
     },
     "execution_count": 14,
     "metadata": {},
     "output_type": "execute_result"
    }
   ],
   "source": [
    "test_pred = lr.predict(test_df[[\"alcohol\"]])\n",
    "mean_absolute_error(test_df[\"quality\"], test_pred)"
   ]
  },
  {
   "cell_type": "markdown",
   "metadata": {},
   "source": [
    "### MSE (Mean Squared Error)\n",
    "\n",
    "Kolejną z metod pomiaru błędu dla modelu jest MSE, czyli błąd średniokwadratowy.\n",
    "\n",
    "$$ MSE = \\frac{ \\sum_{i=0}^{N}{ ( \\overline{y_{i}} - y_{i} )^{2} } }{ N } $$"
   ]
  },
  {
   "cell_type": "code",
   "execution_count": 15,
   "metadata": {},
   "outputs": [],
   "source": [
    "from sklearn.metrics import mean_squared_error"
   ]
  },
  {
   "cell_type": "code",
   "execution_count": 16,
   "metadata": {},
   "outputs": [
    {
     "data": {
      "text/plain": [
       "0.6133844987775265"
      ]
     },
     "execution_count": 16,
     "metadata": {},
     "output_type": "execute_result"
    }
   ],
   "source": [
    "mean_squared_error(train_df[\"quality\"], train_pred)"
   ]
  },
  {
   "cell_type": "code",
   "execution_count": 17,
   "metadata": {},
   "outputs": [
    {
     "data": {
      "text/plain": [
       "0.6061661189126857"
      ]
     },
     "execution_count": 17,
     "metadata": {},
     "output_type": "execute_result"
    }
   ],
   "source": [
    "mean_squared_error(test_df[\"quality\"], test_pred)"
   ]
  },
  {
   "cell_type": "markdown",
   "metadata": {},
   "source": [
    "MSE uwypukla istnienie tzw. outlierów, gdyż podnosi do kwadratu błędy większe niż 1. Istnieje także metryka RMSE (Root Mean Squared Error), która likwiduje zjawisko uwypuklania dużych błędów i liczy się ją w następujący sposób:\n",
    "\n",
    "$$ RMSE = \\sqrt{MSE} = \\sqrt{ \\frac{ \\sum_{i=0}^{N}{ ( \\overline{y_{i}} - y_{i} )^{2} } }{ N } } $$"
   ]
  },
  {
   "cell_type": "code",
   "execution_count": 21,
   "metadata": {},
   "outputs": [],
   "source": [
    "import numpy as np"
   ]
  },
  {
   "cell_type": "code",
   "execution_count": 24,
   "metadata": {},
   "outputs": [
    {
     "data": {
      "text/plain": [
       "0.783188673805697"
      ]
     },
     "execution_count": 24,
     "metadata": {},
     "output_type": "execute_result"
    }
   ],
   "source": [
    "mean_squared_error(train_df[\"quality\"], train_pred, \n",
    "                   squared=False)"
   ]
  },
  {
   "cell_type": "code",
   "execution_count": 25,
   "metadata": {},
   "outputs": [
    {
     "data": {
      "text/plain": [
       "0.7785667080685416"
      ]
     },
     "execution_count": 25,
     "metadata": {},
     "output_type": "execute_result"
    }
   ],
   "source": [
    "mean_squared_error(test_df[\"quality\"], test_pred, \n",
    "                   squared=False)"
   ]
  },
  {
   "cell_type": "code",
   "execution_count": null,
   "metadata": {},
   "outputs": [],
   "source": []
  }
 ],
 "metadata": {
  "kernelspec": {
   "display_name": "Python 3",
   "language": "python",
   "name": "python3"
  },
  "language_info": {
   "codemirror_mode": {
    "name": "ipython",
    "version": 3
   },
   "file_extension": ".py",
   "mimetype": "text/x-python",
   "name": "python",
   "nbconvert_exporter": "python",
   "pygments_lexer": "ipython3",
   "version": "3.7.7"
  }
 },
 "nbformat": 4,
 "nbformat_minor": 4
}
