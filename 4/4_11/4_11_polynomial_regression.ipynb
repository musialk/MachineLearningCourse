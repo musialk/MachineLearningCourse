{
 "cells": [
  {
   "cell_type": "markdown",
   "metadata": {},
   "source": [
    "# 4.11. Regresja wielomianowa\n",
    "\n",
    "Pewnym rozszerzeniem regresji liniowej jest regresja wielomianowa. Na jej potrzeby określamy stopień wielomianu, jakim będziemy chcieli przybliżyć modelowaną funkcję, a parametry dobierane są w taki sam sposób jak w przypadku regresji liniowej. Zamiast zmieniać funkcję błędu, dokonujemy tego poszerzenia w sposób niejawny, dołączając kwadraty oraz iloczyny oryginalnych zmiennych do przestrzeni wejściowej.\n",
    "\n",
    "Powróćmy do przykładu z poprzedniego rozdziału, gdzie regresja liniowa nie poradziła sobie zbyt dobrze."
   ]
  },
  {
   "cell_type": "code",
   "execution_count": 1,
   "metadata": {},
   "outputs": [],
   "source": [
    "import pandas as pd\n",
    "import numpy as np"
   ]
  },
  {
   "cell_type": "code",
   "execution_count": 2,
   "metadata": {},
   "outputs": [
    {
     "data": {
      "text/html": [
       "<div>\n",
       "<style scoped>\n",
       "    .dataframe tbody tr th:only-of-type {\n",
       "        vertical-align: middle;\n",
       "    }\n",
       "\n",
       "    .dataframe tbody tr th {\n",
       "        vertical-align: top;\n",
       "    }\n",
       "\n",
       "    .dataframe thead th {\n",
       "        text-align: right;\n",
       "    }\n",
       "</style>\n",
       "<table border=\"1\" class=\"dataframe\">\n",
       "  <thead>\n",
       "    <tr style=\"text-align: right;\">\n",
       "      <th></th>\n",
       "      <th>x</th>\n",
       "      <th>y</th>\n",
       "    </tr>\n",
       "  </thead>\n",
       "  <tbody>\n",
       "    <tr>\n",
       "      <th>0</th>\n",
       "      <td>0.000000</td>\n",
       "      <td>-3.537691</td>\n",
       "    </tr>\n",
       "    <tr>\n",
       "      <th>3</th>\n",
       "      <td>2.727273</td>\n",
       "      <td>-12.955753</td>\n",
       "    </tr>\n",
       "    <tr>\n",
       "      <th>10</th>\n",
       "      <td>9.090909</td>\n",
       "      <td>17.405597</td>\n",
       "    </tr>\n",
       "    <tr>\n",
       "      <th>11</th>\n",
       "      <td>10.000000</td>\n",
       "      <td>32.624070</td>\n",
       "    </tr>\n",
       "    <tr>\n",
       "      <th>8</th>\n",
       "      <td>7.272727</td>\n",
       "      <td>2.803697</td>\n",
       "    </tr>\n",
       "  </tbody>\n",
       "</table>\n",
       "</div>"
      ],
      "text/plain": [
       "            x          y\n",
       "0    0.000000  -3.537691\n",
       "3    2.727273 -12.955753\n",
       "10   9.090909  17.405597\n",
       "11  10.000000  32.624070\n",
       "8    7.272727   2.803697"
      ]
     },
     "execution_count": 2,
     "metadata": {},
     "output_type": "execute_result"
    }
   ],
   "source": [
    "np.random.seed(2020)\n",
    "x = np.linspace(0, 10, 12)\n",
    "xy_df = pd.DataFrame({\n",
    "    \"x\": x,\n",
    "    \"y\": x ** 2 - 7 * x + 2 * np.random.normal(size=12)\n",
    "})\n",
    "xy_df.sample(n=5)"
   ]
  },
  {
   "cell_type": "code",
   "execution_count": 3,
   "metadata": {},
   "outputs": [
    {
     "data": {
      "text/plain": [
       "<matplotlib.axes._subplots.AxesSubplot at 0x27eecbf0c88>"
      ]
     },
     "execution_count": 3,
     "metadata": {},
     "output_type": "execute_result"
    },
    {
     "data": {
      "image/png": "[encoded data removed]",
      "text/plain": [
       "<Figure size 720x540 with 1 Axes>"
      ]
     },
     "metadata": {
      "needs_background": "light"
     },
     "output_type": "display_data"
    }
   ],
   "source": [
    "xy_df.plot.scatter(x=\"x\", y=\"y\", \n",
    "                   figsize=(10.0, 7.5))"
   ]
  },
  {
   "cell_type": "markdown",
   "metadata": {},
   "source": [
    "Przeprowadzimy poszerzenie naszego zbioru danych ręcznie, a następnie nauczymy model regresji liniowej."
   ]
  },
  {
   "cell_type": "code",
   "execution_count": 4,
   "metadata": {},
   "outputs": [
    {
     "data": {
      "text/html": [
       "<div>\n",
       "<style scoped>\n",
       "    .dataframe tbody tr th:only-of-type {\n",
       "        vertical-align: middle;\n",
       "    }\n",
       "\n",
       "    .dataframe tbody tr th {\n",
       "        vertical-align: top;\n",
       "    }\n",
       "\n",
       "    .dataframe thead th {\n",
       "        text-align: right;\n",
       "    }\n",
       "</style>\n",
       "<table border=\"1\" class=\"dataframe\">\n",
       "  <thead>\n",
       "    <tr style=\"text-align: right;\">\n",
       "      <th></th>\n",
       "      <th>x</th>\n",
       "      <th>y</th>\n",
       "      <th>x2</th>\n",
       "    </tr>\n",
       "  </thead>\n",
       "  <tbody>\n",
       "    <tr>\n",
       "      <th>3</th>\n",
       "      <td>2.727273</td>\n",
       "      <td>-12.955753</td>\n",
       "      <td>7.438017</td>\n",
       "    </tr>\n",
       "    <tr>\n",
       "      <th>1</th>\n",
       "      <td>0.909091</td>\n",
       "      <td>-5.386086</td>\n",
       "      <td>0.826446</td>\n",
       "    </tr>\n",
       "    <tr>\n",
       "      <th>0</th>\n",
       "      <td>0.000000</td>\n",
       "      <td>-3.537691</td>\n",
       "      <td>0.000000</td>\n",
       "    </tr>\n",
       "    <tr>\n",
       "      <th>2</th>\n",
       "      <td>1.818182</td>\n",
       "      <td>-11.682747</td>\n",
       "      <td>3.305785</td>\n",
       "    </tr>\n",
       "    <tr>\n",
       "      <th>8</th>\n",
       "      <td>7.272727</td>\n",
       "      <td>2.803697</td>\n",
       "      <td>52.892562</td>\n",
       "    </tr>\n",
       "  </tbody>\n",
       "</table>\n",
       "</div>"
      ],
      "text/plain": [
       "          x          y         x2\n",
       "3  2.727273 -12.955753   7.438017\n",
       "1  0.909091  -5.386086   0.826446\n",
       "0  0.000000  -3.537691   0.000000\n",
       "2  1.818182 -11.682747   3.305785\n",
       "8  7.272727   2.803697  52.892562"
      ]
     },
     "execution_count": 4,
     "metadata": {},
     "output_type": "execute_result"
    }
   ],
   "source": [
    "xy_df[\"x2\"] = xy_df[\"x\"] ** 2\n",
    "xy_df.sample(n=5)"
   ]
  },
  {
   "cell_type": "code",
   "execution_count": 5,
   "metadata": {},
   "outputs": [],
   "source": [
    "from sklearn.linear_model import LinearRegression"
   ]
  },
  {
   "cell_type": "code",
   "execution_count": 6,
   "metadata": {},
   "outputs": [],
   "source": [
    "import matplotlib.pyplot as plt"
   ]
  },
  {
   "cell_type": "code",
   "execution_count": 7,
   "metadata": {},
   "outputs": [],
   "source": [
    "def draw_line(a, b, x_min=-5, x_max=5, \n",
    "              c=(.75, .1, .1, .25)):\n",
    "    x = np.linspace(x_min, x_max, 1000)\n",
    "    y = a * x + b\n",
    "    plt.plot(x, y, \"-r\", c=c)"
   ]
  },
  {
   "cell_type": "code",
   "execution_count": 8,
   "metadata": {},
   "outputs": [],
   "source": [
    "X = xy_df.drop(\"y\", axis=\"columns\")"
   ]
  },
  {
   "cell_type": "code",
   "execution_count": 9,
   "metadata": {},
   "outputs": [
    {
     "data": {
      "text/plain": [
       "LinearRegression(copy_X=True, fit_intercept=True, n_jobs=None, normalize=False)"
      ]
     },
     "execution_count": 9,
     "metadata": {},
     "output_type": "execute_result"
    }
   ],
   "source": [
    "lr = LinearRegression()\n",
    "lr.fit(X, xy_df[\"y\"])"
   ]
  },
  {
   "cell_type": "code",
   "execution_count": 10,
   "metadata": {},
   "outputs": [
    {
     "data": {
      "text/plain": [
       "(array([-6.87839988,  1.01806729]), -2.119498165130876)"
      ]
     },
     "execution_count": 10,
     "metadata": {},
     "output_type": "execute_result"
    }
   ],
   "source": [
    "lr.coef_, lr.intercept_"
   ]
  },
  {
   "cell_type": "code",
   "execution_count": 11,
   "metadata": {},
   "outputs": [
    {
     "data": {
      "text/plain": [
       "[<matplotlib.lines.Line2D at 0x27eef7402c8>]"
      ]
     },
     "execution_count": 11,
     "metadata": {},
     "output_type": "execute_result"
    },
    {
     "data": {
      "image/png": "[encoded data removed]",
      "text/plain": [
       "<Figure size 720x540 with 1 Axes>"
      ]
     },
     "metadata": {
      "needs_background": "light"
     },
     "output_type": "display_data"
    }
   ],
   "source": [
    "xy_df.plot.scatter(x=\"x\", y=\"y\", \n",
    "                   figsize=(10.0, 7.5))\n",
    "plt.plot(X[\"x\"], lr.predict(X), \"-r\")"
   ]
  },
  {
   "cell_type": "markdown",
   "metadata": {},
   "source": [
    "## Uogólnione podejście w scikit-learn\n",
    "\n",
    "Oczywiście poszerzenie zbioru danych w sposób ręczny jest możliwe, a czasem nawet wskazane. Jednak nie ma sensu robić tego manualnie poza momentami, gdy wynika to z naszej wiedzy eksperckiej. Na całe szczęście scikit-learn dostarcza zaimplementowany mechanizm wyliczający kombinacje wielomianowe naszych cech, aż do określonego stopnia, a także iloczyny potęg poszczególnych cech."
   ]
  },
  {
   "cell_type": "code",
   "execution_count": 12,
   "metadata": {},
   "outputs": [],
   "source": [
    "from sklearn.pipeline import Pipeline\n",
    "from sklearn.preprocessing import StandardScaler\n",
    "from sklearn.linear_model import LinearRegression\n",
    "from sklearn.preprocessing import PolynomialFeatures"
   ]
  },
  {
   "cell_type": "code",
   "execution_count": 13,
   "metadata": {},
   "outputs": [],
   "source": [
    "pipeline = Pipeline(steps=[\n",
    "    (\"scaler\", StandardScaler()),\n",
    "    (\"polynomial_features\", PolynomialFeatures(degree=15)),\n",
    "    (\"regressor\", LinearRegression()),\n",
    "])"
   ]
  },
  {
   "cell_type": "code",
   "execution_count": 14,
   "metadata": {},
   "outputs": [
    {
     "data": {
      "text/plain": [
       "Pipeline(memory=None,\n",
       "         steps=[('scaler',\n",
       "                 StandardScaler(copy=True, with_mean=True, with_std=True)),\n",
       "                ('polynomial_features',\n",
       "                 PolynomialFeatures(degree=15, include_bias=True,\n",
       "                                    interaction_only=False, order='C')),\n",
       "                ('regressor',\n",
       "                 LinearRegression(copy_X=True, fit_intercept=True, n_jobs=None,\n",
       "                                  normalize=False))],\n",
       "         verbose=False)"
      ]
     },
     "execution_count": 14,
     "metadata": {},
     "output_type": "execute_result"
    }
   ],
   "source": [
    "pipeline.fit(xy_df[[\"x\"]], xy_df[\"y\"])"
   ]
  },
  {
   "cell_type": "code",
   "execution_count": 15,
   "metadata": {},
   "outputs": [
    {
     "data": {
      "text/plain": [
       "array([-1.27400313e-11,  1.89234068e+01,  1.29010612e+01, -5.60617764e+01,\n",
       "        5.05398373e-01,  9.49062515e+01, -3.02681251e+00, -5.03217955e+00,\n",
       "       -2.54989729e+00, -5.19510055e+01,  4.87638405e-02, -2.09113225e+01,\n",
       "        2.63897848e+00,  4.09874721e+01, -8.33197736e-01, -1.03062217e+01])"
      ]
     },
     "execution_count": 15,
     "metadata": {},
     "output_type": "execute_result"
    }
   ],
   "source": [
    "pipeline.steps[2][1].coef_"
   ]
  },
  {
   "cell_type": "code",
   "execution_count": 16,
   "metadata": {},
   "outputs": [
    {
     "data": {
      "text/plain": [
       "[<matplotlib.lines.Line2D at 0x27eef816388>]"
      ]
     },
     "execution_count": 16,
     "metadata": {},
     "output_type": "execute_result"
    },
    {
     "data": {
      "image/png": "[encoded data removed]",
      "text/plain": [
       "<Figure size 720x540 with 1 Axes>"
      ]
     },
     "metadata": {
      "needs_background": "light"
     },
     "output_type": "display_data"
    }
   ],
   "source": [
    "xy_df.plot.scatter(x=\"x\", y=\"y\", \n",
    "                   figsize=(10.0, 7.5))\n",
    "x = np.linspace(0, 10, 1000)\n",
    "plt.plot(x, pipeline.predict(x.reshape(-1, 1)), \"-r\")"
   ]
  },
  {
   "cell_type": "code",
   "execution_count": 17,
   "metadata": {},
   "outputs": [
    {
     "data": {
      "text/plain": [
       "[<matplotlib.lines.Line2D at 0x27eef82b308>]"
      ]
     },
     "execution_count": 17,
     "metadata": {},
     "output_type": "execute_result"
    },
    {
     "data": {
      "image/png": "[encoded data removed]",
      "text/plain": [
       "<Figure size 720x540 with 1 Axes>"
      ]
     },
     "metadata": {
      "needs_background": "light"
     },
     "output_type": "display_data"
    }
   ],
   "source": [
    "plt.figure(figsize=(10.0, 7.5))\n",
    "x = np.linspace(-100, 100, 10000)\n",
    "plt.plot(x, pipeline.predict(x.reshape(-1, 1)), \"-r\")"
   ]
  },
  {
   "cell_type": "markdown",
   "metadata": {},
   "source": [
    "Trochę zbyt optymistycznie założyliśmy, że możemy ustalić sobie dowolnie wysoki stopień wielomianu, a system sam rozpozna jakich wyrazów użyć. Stało się coś, czego musimy unikać - model dopasował się bardzo mocno do danych treningowych i raczej nie rozpozna za dobrze nowych przykładów. Spróbujemy skorzystać z regularyzacji Lasso, aby ograniczyć wymiarowość zbioru."
   ]
  },
  {
   "cell_type": "code",
   "execution_count": 18,
   "metadata": {},
   "outputs": [],
   "source": [
    "from sklearn.linear_model import Lasso"
   ]
  },
  {
   "cell_type": "code",
   "execution_count": 19,
   "metadata": {},
   "outputs": [
    {
     "name": "stderr",
     "output_type": "stream",
     "text": [
      "C:\\Users\\lukaw\\anaconda3\\envs\\intro-to-ml\\lib\\site-packages\\sklearn\\linear_model\\_coordinate_descent.py:476: ConvergenceWarning: Objective did not converge. You might want to increase the number of iterations. Duality gap: 3.1055982829609547, tolerance: 0.2253682543229436\n",
      "  positive)\n"
     ]
    },
    {
     "data": {
      "text/plain": [
       "array([ 0.        ,  0.        ,  0.        ,  0.        ,  0.        ,\n",
       "        0.        ,  0.        ,  0.        ,  0.        ,  0.        ,\n",
       "        0.18925292,  0.4165586 ,  0.        ,  0.        , -0.        ,\n",
       "       -0.04759072])"
      ]
     },
     "execution_count": 19,
     "metadata": {},
     "output_type": "execute_result"
    }
   ],
   "source": [
    "pipeline = Pipeline(steps=[\n",
    "    (\"scaler\", StandardScaler()),\n",
    "    (\"polynomial_features\", PolynomialFeatures(degree=15)),\n",
    "    (\"regressor\", Lasso(alpha=10.0)),\n",
    "])\n",
    "pipeline.fit(xy_df[[\"x\"]], xy_df[\"y\"])\n",
    "pipeline.steps[2][1].coef_"
   ]
  },
  {
   "cell_type": "code",
   "execution_count": 20,
   "metadata": {},
   "outputs": [
    {
     "data": {
      "text/plain": [
       "[<matplotlib.lines.Line2D at 0x27eef8e9dc8>]"
      ]
     },
     "execution_count": 20,
     "metadata": {},
     "output_type": "execute_result"
    },
    {
     "data": {
      "image/png": "[encoded data removed]",
      "text/plain": [
       "<Figure size 720x540 with 1 Axes>"
      ]
     },
     "metadata": {
      "needs_background": "light"
     },
     "output_type": "display_data"
    }
   ],
   "source": [
    "xy_df.plot.scatter(x=\"x\", y=\"y\", \n",
    "                   figsize=(10.0, 7.5))\n",
    "x = np.linspace(0, 10, 1000)\n",
    "plt.plot(x, pipeline.predict(x.reshape(-1, 1)), \"-r\")"
   ]
  },
  {
   "cell_type": "code",
   "execution_count": 21,
   "metadata": {},
   "outputs": [
    {
     "data": {
      "text/plain": [
       "[<matplotlib.lines.Line2D at 0x27eef8a8988>]"
      ]
     },
     "execution_count": 21,
     "metadata": {},
     "output_type": "execute_result"
    },
    {
     "data": {
      "image/png": "[encoded data removed]",
      "text/plain": [
       "<Figure size 720x540 with 1 Axes>"
      ]
     },
     "metadata": {
      "needs_background": "light"
     },
     "output_type": "display_data"
    }
   ],
   "source": [
    "plt.figure(figsize=(10.0, 7.5))\n",
    "x = np.linspace(-100, 100, 10000)\n",
    "plt.plot(x, pipeline.predict(x.reshape(-1, 1)), \"-r\")"
   ]
  },
  {
   "cell_type": "markdown",
   "metadata": {},
   "source": [
    "## Dobór optymalnego stopnia wielomianu\n",
    "\n",
    "Zdecydowanie sama regularyzacja nie załatwi problemu doboru optymalnej konfiguracji modelu. Musimy ciągle zwracać uwagę na zdolności modelu do generalizacji, czyli wielkość błędu dla zbioru testowego."
   ]
  },
  {
   "cell_type": "code",
   "execution_count": 22,
   "metadata": {},
   "outputs": [],
   "source": [
    "from sklearn.model_selection import GridSearchCV"
   ]
  },
  {
   "cell_type": "code",
   "execution_count": 23,
   "metadata": {},
   "outputs": [],
   "source": [
    "cv = GridSearchCV(estimator=pipeline, param_grid={\n",
    "    \"polynomial_features__degree\": range(1, 15),\n",
    "    \"regressor__alpha\": np.linspace(0.5, 100.0, 10),\n",
    "})"
   ]
  },
  {
   "cell_type": "code",
   "execution_count": 24,
   "metadata": {
    "scrolled": false
   },
   "outputs": [
    {
     "name": "stderr",
     "output_type": "stream",
     "text": [
      "C:\\Users\\lukaw\\anaconda3\\envs\\intro-to-ml\\lib\\site-packages\\sklearn\\linear_model\\_coordinate_descent.py:476: ConvergenceWarning: Objective did not converge. You might want to increase the number of iterations. Duality gap: 0.2854488880428576, tolerance: 0.16254698014326596\n",
      "  positive)\n",
      "C:\\Users\\lukaw\\anaconda3\\envs\\intro-to-ml\\lib\\site-packages\\sklearn\\linear_model\\_coordinate_descent.py:476: ConvergenceWarning: Objective did not converge. You might want to increase the number of iterations. Duality gap: 2.930471351754939, tolerance: 0.21296817302742263\n",
      "  positive)\n",
      "C:\\Users\\lukaw\\anaconda3\\envs\\intro-to-ml\\lib\\site-packages\\sklearn\\linear_model\\_coordinate_descent.py:476: ConvergenceWarning: Objective did not converge. You might want to increase the number of iterations. Duality gap: 0.2841350466278314, tolerance: 0.16254698014326596\n",
      "  positive)\n",
      "C:\\Users\\lukaw\\anaconda3\\envs\\intro-to-ml\\lib\\site-packages\\sklearn\\linear_model\\_coordinate_descent.py:476: ConvergenceWarning: Objective did not converge. You might want to increase the number of iterations. Duality gap: 19.82378215168297, tolerance: 0.21296817302742263\n",
      "  positive)\n",
      "C:\\Users\\lukaw\\anaconda3\\envs\\intro-to-ml\\lib\\site-packages\\sklearn\\linear_model\\_coordinate_descent.py:476: ConvergenceWarning: Objective did not converge. You might want to increase the number of iterations. Duality gap: 1.6681253956902893, tolerance: 0.16254698014326596\n",
      "  positive)\n",
      "C:\\Users\\lukaw\\anaconda3\\envs\\intro-to-ml\\lib\\site-packages\\sklearn\\linear_model\\_coordinate_descent.py:476: ConvergenceWarning: Objective did not converge. You might want to increase the number of iterations. Duality gap: 20.873199060078342, tolerance: 0.21296817302742263\n",
      "  positive)\n",
      "C:\\Users\\lukaw\\anaconda3\\envs\\intro-to-ml\\lib\\site-packages\\sklearn\\linear_model\\_coordinate_descent.py:476: ConvergenceWarning: Objective did not converge. You might want to increase the number of iterations. Duality gap: 1.9496134515850088, tolerance: 0.20810039909640682\n",
      "  positive)\n",
      "C:\\Users\\lukaw\\anaconda3\\envs\\intro-to-ml\\lib\\site-packages\\sklearn\\linear_model\\_coordinate_descent.py:476: ConvergenceWarning: Objective did not converge. You might want to increase the number of iterations. Duality gap: 1.6101946930595794, tolerance: 0.16254698014326596\n",
      "  positive)\n",
      "C:\\Users\\lukaw\\anaconda3\\envs\\intro-to-ml\\lib\\site-packages\\sklearn\\linear_model\\_coordinate_descent.py:476: ConvergenceWarning: Objective did not converge. You might want to increase the number of iterations. Duality gap: 35.12513897984981, tolerance: 0.21296817302742263\n",
      "  positive)\n",
      "C:\\Users\\lukaw\\anaconda3\\envs\\intro-to-ml\\lib\\site-packages\\sklearn\\linear_model\\_coordinate_descent.py:476: ConvergenceWarning: Objective did not converge. You might want to increase the number of iterations. Duality gap: 1.3298381513932327, tolerance: 0.0509457056851689\n",
      "  positive)\n",
      "C:\\Users\\lukaw\\anaconda3\\envs\\intro-to-ml\\lib\\site-packages\\sklearn\\linear_model\\_coordinate_descent.py:476: ConvergenceWarning: Objective did not converge. You might want to increase the number of iterations. Duality gap: 5.825688328871166, tolerance: 0.21296817302742263\n",
      "  positive)\n",
      "C:\\Users\\lukaw\\anaconda3\\envs\\intro-to-ml\\lib\\site-packages\\sklearn\\linear_model\\_coordinate_descent.py:476: ConvergenceWarning: Objective did not converge. You might want to increase the number of iterations. Duality gap: 1.9496134515841845, tolerance: 0.20810039909640682\n",
      "  positive)\n",
      "C:\\Users\\lukaw\\anaconda3\\envs\\intro-to-ml\\lib\\site-packages\\sklearn\\linear_model\\_coordinate_descent.py:476: ConvergenceWarning: Objective did not converge. You might want to increase the number of iterations. Duality gap: 2.9023510372631804, tolerance: 0.16254698014326596\n",
      "  positive)\n",
      "C:\\Users\\lukaw\\anaconda3\\envs\\intro-to-ml\\lib\\site-packages\\sklearn\\linear_model\\_coordinate_descent.py:476: ConvergenceWarning: Objective did not converge. You might want to increase the number of iterations. Duality gap: 33.82118721674394, tolerance: 0.21296817302742263\n",
      "  positive)\n",
      "C:\\Users\\lukaw\\anaconda3\\envs\\intro-to-ml\\lib\\site-packages\\sklearn\\linear_model\\_coordinate_descent.py:476: ConvergenceWarning: Objective did not converge. You might want to increase the number of iterations. Duality gap: 1.3298376994685093, tolerance: 0.0509457056851689\n",
      "  positive)\n",
      "C:\\Users\\lukaw\\anaconda3\\envs\\intro-to-ml\\lib\\site-packages\\sklearn\\linear_model\\_coordinate_descent.py:476: ConvergenceWarning: Objective did not converge. You might want to increase the number of iterations. Duality gap: 6.750435948330164, tolerance: 0.16254698014326596\n",
      "  positive)\n",
      "C:\\Users\\lukaw\\anaconda3\\envs\\intro-to-ml\\lib\\site-packages\\sklearn\\linear_model\\_coordinate_descent.py:476: ConvergenceWarning: Objective did not converge. You might want to increase the number of iterations. Duality gap: 9.517046560000892, tolerance: 0.21296817302742263\n",
      "  positive)\n",
      "C:\\Users\\lukaw\\anaconda3\\envs\\intro-to-ml\\lib\\site-packages\\sklearn\\linear_model\\_coordinate_descent.py:476: ConvergenceWarning: Objective did not converge. You might want to increase the number of iterations. Duality gap: 5.636965996143772, tolerance: 0.21296817302742263\n",
      "  positive)\n",
      "C:\\Users\\lukaw\\anaconda3\\envs\\intro-to-ml\\lib\\site-packages\\sklearn\\linear_model\\_coordinate_descent.py:476: ConvergenceWarning: Objective did not converge. You might want to increase the number of iterations. Duality gap: 9.820393557280882, tolerance: 0.20810039909640682\n",
      "  positive)\n",
      "C:\\Users\\lukaw\\anaconda3\\envs\\intro-to-ml\\lib\\site-packages\\sklearn\\linear_model\\_coordinate_descent.py:476: ConvergenceWarning: Objective did not converge. You might want to increase the number of iterations. Duality gap: 2.8392443325169268, tolerance: 0.16254698014326596\n",
      "  positive)\n",
      "C:\\Users\\lukaw\\anaconda3\\envs\\intro-to-ml\\lib\\site-packages\\sklearn\\linear_model\\_coordinate_descent.py:476: ConvergenceWarning: Objective did not converge. You might want to increase the number of iterations. Duality gap: 0.5127458021794453, tolerance: 0.2177988356956923\n",
      "  positive)\n",
      "C:\\Users\\lukaw\\anaconda3\\envs\\intro-to-ml\\lib\\site-packages\\sklearn\\linear_model\\_coordinate_descent.py:476: ConvergenceWarning: Objective did not converge. You might want to increase the number of iterations. Duality gap: 44.67188832278725, tolerance: 0.21296817302742263\n",
      "  positive)\n",
      "C:\\Users\\lukaw\\anaconda3\\envs\\intro-to-ml\\lib\\site-packages\\sklearn\\linear_model\\_coordinate_descent.py:476: ConvergenceWarning: Objective did not converge. You might want to increase the number of iterations. Duality gap: 5.044749800840464, tolerance: 0.0509457056851689\n",
      "  positive)\n",
      "C:\\Users\\lukaw\\anaconda3\\envs\\intro-to-ml\\lib\\site-packages\\sklearn\\linear_model\\_coordinate_descent.py:476: ConvergenceWarning: Objective did not converge. You might want to increase the number of iterations. Duality gap: 8.932531139144146, tolerance: 0.16254698014326596\n",
      "  positive)\n",
      "C:\\Users\\lukaw\\anaconda3\\envs\\intro-to-ml\\lib\\site-packages\\sklearn\\linear_model\\_coordinate_descent.py:476: ConvergenceWarning: Objective did not converge. You might want to increase the number of iterations. Duality gap: 34.60592983766493, tolerance: 0.21296817302742263\n",
      "  positive)\n",
      "C:\\Users\\lukaw\\anaconda3\\envs\\intro-to-ml\\lib\\site-packages\\sklearn\\linear_model\\_coordinate_descent.py:476: ConvergenceWarning: Objective did not converge. You might want to increase the number of iterations. Duality gap: 7.63339473872918, tolerance: 0.21296817302742263\n",
      "  positive)\n",
      "C:\\Users\\lukaw\\anaconda3\\envs\\intro-to-ml\\lib\\site-packages\\sklearn\\linear_model\\_coordinate_descent.py:476: ConvergenceWarning: Objective did not converge. You might want to increase the number of iterations. Duality gap: 6.273251401886853, tolerance: 0.21296817302742263\n",
      "  positive)\n"
     ]
    },
    {
     "data": {
      "text/plain": [
       "[<matplotlib.lines.Line2D at 0x27eef9243c8>]"
      ]
     },
     "execution_count": 24,
     "metadata": {},
     "output_type": "execute_result"
    },
    {
     "data": {
      "image/png": "[encoded data removed]",
      "text/plain": [
       "<Figure size 720x540 with 1 Axes>"
      ]
     },
     "metadata": {
      "needs_background": "light"
     },
     "output_type": "display_data"
    }
   ],
   "source": [
    "cv.fit(xy_df[[\"x\"]], xy_df[\"y\"])\n",
    "xy_df.plot.scatter(x=\"x\", y=\"y\", \n",
    "                   figsize=(10.0, 7.5))\n",
    "plt.plot(x, cv.predict(x.reshape(-1, 1)), \"-r\")"
   ]
  },
  {
   "cell_type": "code",
   "execution_count": 25,
   "metadata": {},
   "outputs": [
    {
     "data": {
      "text/plain": [
       "array([0.        , 9.86329097, 9.38802746])"
      ]
     },
     "execution_count": 25,
     "metadata": {},
     "output_type": "execute_result"
    }
   ],
   "source": [
    "cv.best_estimator_.steps[2][1].coef_"
   ]
  },
  {
   "cell_type": "code",
   "execution_count": 26,
   "metadata": {},
   "outputs": [
    {
     "data": {
      "text/plain": [
       "[<matplotlib.lines.Line2D at 0x27eefbe8348>]"
      ]
     },
     "execution_count": 26,
     "metadata": {},
     "output_type": "execute_result"
    },
    {
     "data": {
      "image/png": "[encoded data removed]",
      "text/plain": [
       "<Figure size 720x540 with 1 Axes>"
      ]
     },
     "metadata": {
      "needs_background": "light"
     },
     "output_type": "display_data"
    }
   ],
   "source": [
    "x = np.linspace(0, 10, 10000)\n",
    "xy_df.plot.scatter(x=\"x\", y=\"y\", \n",
    "                   figsize=(10.0, 7.5))\n",
    "plt.plot(x, cv.predict(x.reshape(-1, 1)), \"-r\")"
   ]
  },
  {
   "cell_type": "code",
   "execution_count": null,
   "metadata": {},
   "outputs": [],
   "source": []
  }
 ],
 "metadata": {
  "kernelspec": {
   "display_name": "Python 3",
   "language": "python",
   "name": "python3"
  },
  "language_info": {
   "codemirror_mode": {
    "name": "ipython",
    "version": 3
   },
   "file_extension": ".py",
   "mimetype": "text/x-python",
   "name": "python",
   "nbconvert_exporter": "python",
   "pygments_lexer": "ipython3",
   "version": "3.7.7"
  }
 },
 "nbformat": 4,
 "nbformat_minor": 4
}
