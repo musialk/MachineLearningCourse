{
 "cells": [
  {
   "cell_type": "markdown",
   "metadata": {},
   "source": [
    "# 5.9. Wykorzystanie KNN do klasyfikacji\n",
    "\n",
    "Znamy już podstawy algorytmu K-Nearest Neighbours. Wykorzystajmy tę metodę, żeby nauczyć kolejny model przewidujący default na karcie kredytowej. Wczytajmy zbiór przygotowany wcześniej, dla którego przeprowadziliśmy już wstępne przetworzenie oraz przefiltrowanie cech, jakie model regresji logistycznej uznał za istotne."
   ]
  },
  {
   "cell_type": "code",
   "execution_count": 1,
   "metadata": {},
   "outputs": [],
   "source": [
    "import pandas as pd"
   ]
  },
  {
   "cell_type": "code",
   "execution_count": 2,
   "metadata": {},
   "outputs": [
    {
     "data": {
      "text/html": [
       "<div>\n",
       "<style scoped>\n",
       "    .dataframe tbody tr th:only-of-type {\n",
       "        vertical-align: middle;\n",
       "    }\n",
       "\n",
       "    .dataframe tbody tr th {\n",
       "        vertical-align: top;\n",
       "    }\n",
       "\n",
       "    .dataframe thead th {\n",
       "        text-align: right;\n",
       "    }\n",
       "</style>\n",
       "<table border=\"1\" class=\"dataframe\">\n",
       "  <thead>\n",
       "    <tr style=\"text-align: right;\">\n",
       "      <th>ID</th>\n",
       "      <th>22626</th>\n",
       "      <th>7045</th>\n",
       "      <th>20757</th>\n",
       "      <th>10624</th>\n",
       "      <th>16675</th>\n",
       "    </tr>\n",
       "  </thead>\n",
       "  <tbody>\n",
       "    <tr>\n",
       "      <th>AGE</th>\n",
       "      <td>34.000000</td>\n",
       "      <td>42.00</td>\n",
       "      <td>46.000000</td>\n",
       "      <td>27.000000</td>\n",
       "      <td>48.000000</td>\n",
       "    </tr>\n",
       "    <tr>\n",
       "      <th>PAY_1</th>\n",
       "      <td>2.000000</td>\n",
       "      <td>-1.00</td>\n",
       "      <td>2.000000</td>\n",
       "      <td>0.000000</td>\n",
       "      <td>0.000000</td>\n",
       "    </tr>\n",
       "    <tr>\n",
       "      <th>PAY_2</th>\n",
       "      <td>2.000000</td>\n",
       "      <td>-1.00</td>\n",
       "      <td>2.000000</td>\n",
       "      <td>0.000000</td>\n",
       "      <td>0.000000</td>\n",
       "    </tr>\n",
       "    <tr>\n",
       "      <th>PAY_3</th>\n",
       "      <td>2.000000</td>\n",
       "      <td>-1.00</td>\n",
       "      <td>2.000000</td>\n",
       "      <td>0.000000</td>\n",
       "      <td>2.000000</td>\n",
       "    </tr>\n",
       "    <tr>\n",
       "      <th>PAY_4</th>\n",
       "      <td>2.000000</td>\n",
       "      <td>-1.00</td>\n",
       "      <td>3.000000</td>\n",
       "      <td>2.000000</td>\n",
       "      <td>2.000000</td>\n",
       "    </tr>\n",
       "    <tr>\n",
       "      <th>PAY_5</th>\n",
       "      <td>2.000000</td>\n",
       "      <td>-1.00</td>\n",
       "      <td>2.000000</td>\n",
       "      <td>0.000000</td>\n",
       "      <td>2.000000</td>\n",
       "    </tr>\n",
       "    <tr>\n",
       "      <th>PAY_6</th>\n",
       "      <td>2.000000</td>\n",
       "      <td>-1.00</td>\n",
       "      <td>3.000000</td>\n",
       "      <td>0.000000</td>\n",
       "      <td>2.000000</td>\n",
       "    </tr>\n",
       "    <tr>\n",
       "      <th>PAY_OVERDUE_COUNT</th>\n",
       "      <td>6.000000</td>\n",
       "      <td>0.00</td>\n",
       "      <td>6.000000</td>\n",
       "      <td>1.000000</td>\n",
       "      <td>4.000000</td>\n",
       "    </tr>\n",
       "    <tr>\n",
       "      <th>WEIGHTED_PAYMENT_HISTORY</th>\n",
       "      <td>4.900000</td>\n",
       "      <td>-2.45</td>\n",
       "      <td>5.316667</td>\n",
       "      <td>0.500000</td>\n",
       "      <td>1.900000</td>\n",
       "    </tr>\n",
       "    <tr>\n",
       "      <th>AVG_PAY_AMT</th>\n",
       "      <td>13600.166667</td>\n",
       "      <td>386.00</td>\n",
       "      <td>1579.833333</td>\n",
       "      <td>1666.666667</td>\n",
       "      <td>1416.666667</td>\n",
       "    </tr>\n",
       "    <tr>\n",
       "      <th>SEX_2</th>\n",
       "      <td>1.000000</td>\n",
       "      <td>1.00</td>\n",
       "      <td>0.000000</td>\n",
       "      <td>1.000000</td>\n",
       "      <td>0.000000</td>\n",
       "    </tr>\n",
       "    <tr>\n",
       "      <th>EDUCATION_1</th>\n",
       "      <td>1.000000</td>\n",
       "      <td>0.00</td>\n",
       "      <td>0.000000</td>\n",
       "      <td>0.000000</td>\n",
       "      <td>0.000000</td>\n",
       "    </tr>\n",
       "    <tr>\n",
       "      <th>EDUCATION_2</th>\n",
       "      <td>0.000000</td>\n",
       "      <td>1.00</td>\n",
       "      <td>1.000000</td>\n",
       "      <td>0.000000</td>\n",
       "      <td>1.000000</td>\n",
       "    </tr>\n",
       "    <tr>\n",
       "      <th>EDUCATION_3</th>\n",
       "      <td>0.000000</td>\n",
       "      <td>0.00</td>\n",
       "      <td>0.000000</td>\n",
       "      <td>1.000000</td>\n",
       "      <td>0.000000</td>\n",
       "    </tr>\n",
       "    <tr>\n",
       "      <th>EDUCATION_4</th>\n",
       "      <td>0.000000</td>\n",
       "      <td>0.00</td>\n",
       "      <td>0.000000</td>\n",
       "      <td>0.000000</td>\n",
       "      <td>0.000000</td>\n",
       "    </tr>\n",
       "    <tr>\n",
       "      <th>EDUCATION_5</th>\n",
       "      <td>0.000000</td>\n",
       "      <td>0.00</td>\n",
       "      <td>0.000000</td>\n",
       "      <td>0.000000</td>\n",
       "      <td>0.000000</td>\n",
       "    </tr>\n",
       "    <tr>\n",
       "      <th>MARRIAGE_1</th>\n",
       "      <td>0.000000</td>\n",
       "      <td>1.00</td>\n",
       "      <td>1.000000</td>\n",
       "      <td>1.000000</td>\n",
       "      <td>1.000000</td>\n",
       "    </tr>\n",
       "    <tr>\n",
       "      <th>MARRIAGE_2</th>\n",
       "      <td>1.000000</td>\n",
       "      <td>0.00</td>\n",
       "      <td>0.000000</td>\n",
       "      <td>0.000000</td>\n",
       "      <td>0.000000</td>\n",
       "    </tr>\n",
       "    <tr>\n",
       "      <th>MARRIAGE_3</th>\n",
       "      <td>0.000000</td>\n",
       "      <td>0.00</td>\n",
       "      <td>0.000000</td>\n",
       "      <td>0.000000</td>\n",
       "      <td>0.000000</td>\n",
       "    </tr>\n",
       "    <tr>\n",
       "      <th>DEFAULT</th>\n",
       "      <td>0.000000</td>\n",
       "      <td>0.00</td>\n",
       "      <td>1.000000</td>\n",
       "      <td>0.000000</td>\n",
       "      <td>0.000000</td>\n",
       "    </tr>\n",
       "  </tbody>\n",
       "</table>\n",
       "</div>"
      ],
      "text/plain": [
       "ID                               22626   7045         20757        10624  \\\n",
       "AGE                          34.000000   42.00    46.000000    27.000000   \n",
       "PAY_1                         2.000000   -1.00     2.000000     0.000000   \n",
       "PAY_2                         2.000000   -1.00     2.000000     0.000000   \n",
       "PAY_3                         2.000000   -1.00     2.000000     0.000000   \n",
       "PAY_4                         2.000000   -1.00     3.000000     2.000000   \n",
       "PAY_5                         2.000000   -1.00     2.000000     0.000000   \n",
       "PAY_6                         2.000000   -1.00     3.000000     0.000000   \n",
       "PAY_OVERDUE_COUNT             6.000000    0.00     6.000000     1.000000   \n",
       "WEIGHTED_PAYMENT_HISTORY      4.900000   -2.45     5.316667     0.500000   \n",
       "AVG_PAY_AMT               13600.166667  386.00  1579.833333  1666.666667   \n",
       "SEX_2                         1.000000    1.00     0.000000     1.000000   \n",
       "EDUCATION_1                   1.000000    0.00     0.000000     0.000000   \n",
       "EDUCATION_2                   0.000000    1.00     1.000000     0.000000   \n",
       "EDUCATION_3                   0.000000    0.00     0.000000     1.000000   \n",
       "EDUCATION_4                   0.000000    0.00     0.000000     0.000000   \n",
       "EDUCATION_5                   0.000000    0.00     0.000000     0.000000   \n",
       "MARRIAGE_1                    0.000000    1.00     1.000000     1.000000   \n",
       "MARRIAGE_2                    1.000000    0.00     0.000000     0.000000   \n",
       "MARRIAGE_3                    0.000000    0.00     0.000000     0.000000   \n",
       "DEFAULT                       0.000000    0.00     1.000000     0.000000   \n",
       "\n",
       "ID                              16675  \n",
       "AGE                         48.000000  \n",
       "PAY_1                        0.000000  \n",
       "PAY_2                        0.000000  \n",
       "PAY_3                        2.000000  \n",
       "PAY_4                        2.000000  \n",
       "PAY_5                        2.000000  \n",
       "PAY_6                        2.000000  \n",
       "PAY_OVERDUE_COUNT            4.000000  \n",
       "WEIGHTED_PAYMENT_HISTORY     1.900000  \n",
       "AVG_PAY_AMT               1416.666667  \n",
       "SEX_2                        0.000000  \n",
       "EDUCATION_1                  0.000000  \n",
       "EDUCATION_2                  1.000000  \n",
       "EDUCATION_3                  0.000000  \n",
       "EDUCATION_4                  0.000000  \n",
       "EDUCATION_5                  0.000000  \n",
       "MARRIAGE_1                   1.000000  \n",
       "MARRIAGE_2                   0.000000  \n",
       "MARRIAGE_3                   0.000000  \n",
       "DEFAULT                      0.000000  "
      ]
     },
     "execution_count": 2,
     "metadata": {},
     "output_type": "execute_result"
    }
   ],
   "source": [
    "credit_cards_df = pd.read_parquet(\"../data/credit-cards-reduced.parquet\")\n",
    "credit_cards_df.sample(n=5).T"
   ]
  },
  {
   "cell_type": "markdown",
   "metadata": {},
   "source": [
    "Nie wiemy jednak początkowo, jak wiele sąsiadujących obserwacji powinien rozważyć model. Przetestujmy kilka wartości oraz wykonajmy dodatkowo walidację krzyżową. Tym razem musimy podzielić nasz zbiór na treningowy, walidacyjny oraz testowy. Pierwsze dwa zbiory zostaną niejako samodzielnie utworzone podczas procedury CV."
   ]
  },
  {
   "cell_type": "code",
   "execution_count": 3,
   "metadata": {},
   "outputs": [],
   "source": [
    "from sklearn.neighbors import KNeighborsClassifier\n",
    "from sklearn.model_selection import GridSearchCV\n",
    "from sklearn.model_selection import train_test_split"
   ]
  },
  {
   "cell_type": "code",
   "execution_count": 4,
   "metadata": {},
   "outputs": [],
   "source": [
    "X_train, X_test = train_test_split(credit_cards_df,\n",
    "                                   test_size=0.2, \n",
    "                                   random_state=2020)"
   ]
  },
  {
   "cell_type": "code",
   "execution_count": 5,
   "metadata": {},
   "outputs": [],
   "source": [
    "grid_cv = GridSearchCV(KNeighborsClassifier(), \n",
    "                       param_grid={\n",
    "                           \"n_neighbors\": range(1, 10)\n",
    "                       }, cv=5, scoring=\"f1\", \n",
    "                       verbose=1, n_jobs=6)"
   ]
  },
  {
   "cell_type": "code",
   "execution_count": 6,
   "metadata": {},
   "outputs": [
    {
     "name": "stdout",
     "output_type": "stream",
     "text": [
      "Fitting 5 folds for each of 9 candidates, totalling 45 fits\n"
     ]
    },
    {
     "name": "stderr",
     "output_type": "stream",
     "text": [
      "[Parallel(n_jobs=6)]: Using backend LokyBackend with 6 concurrent workers.\n",
      "[Parallel(n_jobs=6)]: Done  45 out of  45 | elapsed:    6.9s finished\n"
     ]
    },
    {
     "data": {
      "text/plain": [
       "GridSearchCV(cv=5, error_score=nan,\n",
       "             estimator=KNeighborsClassifier(algorithm='auto', leaf_size=30,\n",
       "                                            metric='minkowski',\n",
       "                                            metric_params=None, n_jobs=None,\n",
       "                                            n_neighbors=5, p=2,\n",
       "                                            weights='uniform'),\n",
       "             iid='deprecated', n_jobs=6,\n",
       "             param_grid={'n_neighbors': range(1, 10)}, pre_dispatch='2*n_jobs',\n",
       "             refit=True, return_train_score=False, scoring='f1', verbose=1)"
      ]
     },
     "execution_count": 6,
     "metadata": {},
     "output_type": "execute_result"
    }
   ],
   "source": [
    "grid_cv.fit(X_train.drop(columns=\"DEFAULT\"), \n",
    "            X_train[\"DEFAULT\"])"
   ]
  },
  {
   "cell_type": "code",
   "execution_count": 7,
   "metadata": {},
   "outputs": [
    {
     "data": {
      "text/plain": [
       "0.31372138700274566"
      ]
     },
     "execution_count": 7,
     "metadata": {},
     "output_type": "execute_result"
    }
   ],
   "source": [
    "grid_cv.best_score_"
   ]
  },
  {
   "cell_type": "code",
   "execution_count": 8,
   "metadata": {},
   "outputs": [
    {
     "data": {
      "text/plain": [
       "KNeighborsClassifier(algorithm='auto', leaf_size=30, metric='minkowski',\n",
       "                     metric_params=None, n_jobs=None, n_neighbors=1, p=2,\n",
       "                     weights='uniform')"
      ]
     },
     "execution_count": 8,
     "metadata": {},
     "output_type": "execute_result"
    }
   ],
   "source": [
    "knn = grid_cv.best_estimator_\n",
    "knn"
   ]
  },
  {
   "cell_type": "code",
   "execution_count": 9,
   "metadata": {},
   "outputs": [],
   "source": [
    "from sklearn.metrics import f1_score"
   ]
  },
  {
   "cell_type": "code",
   "execution_count": 10,
   "metadata": {},
   "outputs": [
    {
     "data": {
      "text/plain": [
       "0.3337250293772033"
      ]
     },
     "execution_count": 10,
     "metadata": {},
     "output_type": "execute_result"
    }
   ],
   "source": [
    "f1_score(X_test[\"DEFAULT\"],\n",
    "         knn.predict(X_test.drop(columns=\"DEFAULT\")))"
   ]
  },
  {
   "cell_type": "markdown",
   "metadata": {},
   "source": [
    "Wiemy już jaka konfiguracja modelu zdaje się dawać najlepsze rezultaty. Ciągle jest ona drastycznie niższa niż dla regresji logistycznej.\n",
    "\n",
    "**Popełniliśmy jednak pewien istotny błąd!**"
   ]
  },
  {
   "cell_type": "markdown",
   "metadata": {},
   "source": [
    "## Skalowanie zmiennych, a KNN\n",
    "\n",
    "Kilkukrotnie wspomnieliśmy już o potrzebie skalowania zmiennych. Zobaczmy, jak kształtują się wartości w naszym zbiorze."
   ]
  },
  {
   "cell_type": "code",
   "execution_count": 11,
   "metadata": {},
   "outputs": [
    {
     "data": {
      "text/html": [
       "<div>\n",
       "<style scoped>\n",
       "    .dataframe tbody tr th:only-of-type {\n",
       "        vertical-align: middle;\n",
       "    }\n",
       "\n",
       "    .dataframe tbody tr th {\n",
       "        vertical-align: top;\n",
       "    }\n",
       "\n",
       "    .dataframe thead th {\n",
       "        text-align: right;\n",
       "    }\n",
       "</style>\n",
       "<table border=\"1\" class=\"dataframe\">\n",
       "  <thead>\n",
       "    <tr style=\"text-align: right;\">\n",
       "      <th></th>\n",
       "      <th>count</th>\n",
       "      <th>mean</th>\n",
       "      <th>std</th>\n",
       "      <th>min</th>\n",
       "      <th>25%</th>\n",
       "      <th>50%</th>\n",
       "      <th>75%</th>\n",
       "      <th>max</th>\n",
       "    </tr>\n",
       "  </thead>\n",
       "  <tbody>\n",
       "    <tr>\n",
       "      <th>AGE</th>\n",
       "      <td>30000.0</td>\n",
       "      <td>35.485500</td>\n",
       "      <td>9.217904</td>\n",
       "      <td>21.0</td>\n",
       "      <td>28.000000</td>\n",
       "      <td>34.000000</td>\n",
       "      <td>41.000000</td>\n",
       "      <td>79.000000</td>\n",
       "    </tr>\n",
       "    <tr>\n",
       "      <th>PAY_1</th>\n",
       "      <td>30000.0</td>\n",
       "      <td>-0.016700</td>\n",
       "      <td>1.123802</td>\n",
       "      <td>-2.0</td>\n",
       "      <td>-1.000000</td>\n",
       "      <td>0.000000</td>\n",
       "      <td>0.000000</td>\n",
       "      <td>8.000000</td>\n",
       "    </tr>\n",
       "    <tr>\n",
       "      <th>PAY_2</th>\n",
       "      <td>30000.0</td>\n",
       "      <td>-0.133767</td>\n",
       "      <td>1.197186</td>\n",
       "      <td>-2.0</td>\n",
       "      <td>-1.000000</td>\n",
       "      <td>0.000000</td>\n",
       "      <td>0.000000</td>\n",
       "      <td>8.000000</td>\n",
       "    </tr>\n",
       "    <tr>\n",
       "      <th>PAY_3</th>\n",
       "      <td>30000.0</td>\n",
       "      <td>-0.166200</td>\n",
       "      <td>1.196868</td>\n",
       "      <td>-2.0</td>\n",
       "      <td>-1.000000</td>\n",
       "      <td>0.000000</td>\n",
       "      <td>0.000000</td>\n",
       "      <td>8.000000</td>\n",
       "    </tr>\n",
       "    <tr>\n",
       "      <th>PAY_4</th>\n",
       "      <td>30000.0</td>\n",
       "      <td>-0.220667</td>\n",
       "      <td>1.169139</td>\n",
       "      <td>-2.0</td>\n",
       "      <td>-1.000000</td>\n",
       "      <td>0.000000</td>\n",
       "      <td>0.000000</td>\n",
       "      <td>8.000000</td>\n",
       "    </tr>\n",
       "    <tr>\n",
       "      <th>PAY_5</th>\n",
       "      <td>30000.0</td>\n",
       "      <td>-0.266200</td>\n",
       "      <td>1.133187</td>\n",
       "      <td>-2.0</td>\n",
       "      <td>-1.000000</td>\n",
       "      <td>0.000000</td>\n",
       "      <td>0.000000</td>\n",
       "      <td>8.000000</td>\n",
       "    </tr>\n",
       "    <tr>\n",
       "      <th>PAY_6</th>\n",
       "      <td>30000.0</td>\n",
       "      <td>-0.291100</td>\n",
       "      <td>1.149988</td>\n",
       "      <td>-2.0</td>\n",
       "      <td>-1.000000</td>\n",
       "      <td>0.000000</td>\n",
       "      <td>0.000000</td>\n",
       "      <td>8.000000</td>\n",
       "    </tr>\n",
       "    <tr>\n",
       "      <th>PAY_OVERDUE_COUNT</th>\n",
       "      <td>30000.0</td>\n",
       "      <td>0.834200</td>\n",
       "      <td>1.554303</td>\n",
       "      <td>0.0</td>\n",
       "      <td>0.000000</td>\n",
       "      <td>0.000000</td>\n",
       "      <td>1.000000</td>\n",
       "      <td>6.000000</td>\n",
       "    </tr>\n",
       "    <tr>\n",
       "      <th>WEIGHTED_PAYMENT_HISTORY</th>\n",
       "      <td>30000.0</td>\n",
       "      <td>-0.295907</td>\n",
       "      <td>2.398339</td>\n",
       "      <td>-4.9</td>\n",
       "      <td>-1.900000</td>\n",
       "      <td>0.000000</td>\n",
       "      <td>0.133333</td>\n",
       "      <td>16.050000</td>\n",
       "    </tr>\n",
       "    <tr>\n",
       "      <th>AVG_PAY_AMT</th>\n",
       "      <td>30000.0</td>\n",
       "      <td>5275.232094</td>\n",
       "      <td>10137.946323</td>\n",
       "      <td>0.0</td>\n",
       "      <td>1113.291667</td>\n",
       "      <td>2397.166667</td>\n",
       "      <td>5583.916667</td>\n",
       "      <td>627344.333333</td>\n",
       "    </tr>\n",
       "    <tr>\n",
       "      <th>SEX_2</th>\n",
       "      <td>30000.0</td>\n",
       "      <td>0.603733</td>\n",
       "      <td>0.489129</td>\n",
       "      <td>0.0</td>\n",
       "      <td>0.000000</td>\n",
       "      <td>1.000000</td>\n",
       "      <td>1.000000</td>\n",
       "      <td>1.000000</td>\n",
       "    </tr>\n",
       "    <tr>\n",
       "      <th>EDUCATION_1</th>\n",
       "      <td>30000.0</td>\n",
       "      <td>0.352833</td>\n",
       "      <td>0.477859</td>\n",
       "      <td>0.0</td>\n",
       "      <td>0.000000</td>\n",
       "      <td>0.000000</td>\n",
       "      <td>1.000000</td>\n",
       "      <td>1.000000</td>\n",
       "    </tr>\n",
       "    <tr>\n",
       "      <th>EDUCATION_2</th>\n",
       "      <td>30000.0</td>\n",
       "      <td>0.467667</td>\n",
       "      <td>0.498962</td>\n",
       "      <td>0.0</td>\n",
       "      <td>0.000000</td>\n",
       "      <td>0.000000</td>\n",
       "      <td>1.000000</td>\n",
       "      <td>1.000000</td>\n",
       "    </tr>\n",
       "    <tr>\n",
       "      <th>EDUCATION_3</th>\n",
       "      <td>30000.0</td>\n",
       "      <td>0.163900</td>\n",
       "      <td>0.370191</td>\n",
       "      <td>0.0</td>\n",
       "      <td>0.000000</td>\n",
       "      <td>0.000000</td>\n",
       "      <td>0.000000</td>\n",
       "      <td>1.000000</td>\n",
       "    </tr>\n",
       "    <tr>\n",
       "      <th>EDUCATION_4</th>\n",
       "      <td>30000.0</td>\n",
       "      <td>0.004100</td>\n",
       "      <td>0.063901</td>\n",
       "      <td>0.0</td>\n",
       "      <td>0.000000</td>\n",
       "      <td>0.000000</td>\n",
       "      <td>0.000000</td>\n",
       "      <td>1.000000</td>\n",
       "    </tr>\n",
       "    <tr>\n",
       "      <th>EDUCATION_5</th>\n",
       "      <td>30000.0</td>\n",
       "      <td>0.009333</td>\n",
       "      <td>0.096159</td>\n",
       "      <td>0.0</td>\n",
       "      <td>0.000000</td>\n",
       "      <td>0.000000</td>\n",
       "      <td>0.000000</td>\n",
       "      <td>1.000000</td>\n",
       "    </tr>\n",
       "    <tr>\n",
       "      <th>MARRIAGE_1</th>\n",
       "      <td>30000.0</td>\n",
       "      <td>0.455300</td>\n",
       "      <td>0.498006</td>\n",
       "      <td>0.0</td>\n",
       "      <td>0.000000</td>\n",
       "      <td>0.000000</td>\n",
       "      <td>1.000000</td>\n",
       "      <td>1.000000</td>\n",
       "    </tr>\n",
       "    <tr>\n",
       "      <th>MARRIAGE_2</th>\n",
       "      <td>30000.0</td>\n",
       "      <td>0.532133</td>\n",
       "      <td>0.498975</td>\n",
       "      <td>0.0</td>\n",
       "      <td>0.000000</td>\n",
       "      <td>1.000000</td>\n",
       "      <td>1.000000</td>\n",
       "      <td>1.000000</td>\n",
       "    </tr>\n",
       "    <tr>\n",
       "      <th>MARRIAGE_3</th>\n",
       "      <td>30000.0</td>\n",
       "      <td>0.010767</td>\n",
       "      <td>0.103204</td>\n",
       "      <td>0.0</td>\n",
       "      <td>0.000000</td>\n",
       "      <td>0.000000</td>\n",
       "      <td>0.000000</td>\n",
       "      <td>1.000000</td>\n",
       "    </tr>\n",
       "    <tr>\n",
       "      <th>DEFAULT</th>\n",
       "      <td>30000.0</td>\n",
       "      <td>0.221200</td>\n",
       "      <td>0.415062</td>\n",
       "      <td>0.0</td>\n",
       "      <td>0.000000</td>\n",
       "      <td>0.000000</td>\n",
       "      <td>0.000000</td>\n",
       "      <td>1.000000</td>\n",
       "    </tr>\n",
       "  </tbody>\n",
       "</table>\n",
       "</div>"
      ],
      "text/plain": [
       "                            count         mean           std   min  \\\n",
       "AGE                       30000.0    35.485500      9.217904  21.0   \n",
       "PAY_1                     30000.0    -0.016700      1.123802  -2.0   \n",
       "PAY_2                     30000.0    -0.133767      1.197186  -2.0   \n",
       "PAY_3                     30000.0    -0.166200      1.196868  -2.0   \n",
       "PAY_4                     30000.0    -0.220667      1.169139  -2.0   \n",
       "PAY_5                     30000.0    -0.266200      1.133187  -2.0   \n",
       "PAY_6                     30000.0    -0.291100      1.149988  -2.0   \n",
       "PAY_OVERDUE_COUNT         30000.0     0.834200      1.554303   0.0   \n",
       "WEIGHTED_PAYMENT_HISTORY  30000.0    -0.295907      2.398339  -4.9   \n",
       "AVG_PAY_AMT               30000.0  5275.232094  10137.946323   0.0   \n",
       "SEX_2                     30000.0     0.603733      0.489129   0.0   \n",
       "EDUCATION_1               30000.0     0.352833      0.477859   0.0   \n",
       "EDUCATION_2               30000.0     0.467667      0.498962   0.0   \n",
       "EDUCATION_3               30000.0     0.163900      0.370191   0.0   \n",
       "EDUCATION_4               30000.0     0.004100      0.063901   0.0   \n",
       "EDUCATION_5               30000.0     0.009333      0.096159   0.0   \n",
       "MARRIAGE_1                30000.0     0.455300      0.498006   0.0   \n",
       "MARRIAGE_2                30000.0     0.532133      0.498975   0.0   \n",
       "MARRIAGE_3                30000.0     0.010767      0.103204   0.0   \n",
       "DEFAULT                   30000.0     0.221200      0.415062   0.0   \n",
       "\n",
       "                                  25%          50%          75%            max  \n",
       "AGE                         28.000000    34.000000    41.000000      79.000000  \n",
       "PAY_1                       -1.000000     0.000000     0.000000       8.000000  \n",
       "PAY_2                       -1.000000     0.000000     0.000000       8.000000  \n",
       "PAY_3                       -1.000000     0.000000     0.000000       8.000000  \n",
       "PAY_4                       -1.000000     0.000000     0.000000       8.000000  \n",
       "PAY_5                       -1.000000     0.000000     0.000000       8.000000  \n",
       "PAY_6                       -1.000000     0.000000     0.000000       8.000000  \n",
       "PAY_OVERDUE_COUNT            0.000000     0.000000     1.000000       6.000000  \n",
       "WEIGHTED_PAYMENT_HISTORY    -1.900000     0.000000     0.133333      16.050000  \n",
       "AVG_PAY_AMT               1113.291667  2397.166667  5583.916667  627344.333333  \n",
       "SEX_2                        0.000000     1.000000     1.000000       1.000000  \n",
       "EDUCATION_1                  0.000000     0.000000     1.000000       1.000000  \n",
       "EDUCATION_2                  0.000000     0.000000     1.000000       1.000000  \n",
       "EDUCATION_3                  0.000000     0.000000     0.000000       1.000000  \n",
       "EDUCATION_4                  0.000000     0.000000     0.000000       1.000000  \n",
       "EDUCATION_5                  0.000000     0.000000     0.000000       1.000000  \n",
       "MARRIAGE_1                   0.000000     0.000000     1.000000       1.000000  \n",
       "MARRIAGE_2                   0.000000     1.000000     1.000000       1.000000  \n",
       "MARRIAGE_3                   0.000000     0.000000     0.000000       1.000000  \n",
       "DEFAULT                      0.000000     0.000000     0.000000       1.000000  "
      ]
     },
     "execution_count": 11,
     "metadata": {},
     "output_type": "execute_result"
    }
   ],
   "source": [
    "credit_cards_df.describe().T"
   ]
  },
  {
   "cell_type": "markdown",
   "metadata": {},
   "source": [
    "KNN, wykorzystując funkcję odległości, nie rozróżnia poszczególnych cech. Dlatego też kolumny o większych wartościach mogą sztucznie zawyżać odległość. Na potrzeby KNN powinniśmy postarać się zeskalować zmienne, aby uniknąć tego zjawiska."
   ]
  },
  {
   "cell_type": "code",
   "execution_count": 12,
   "metadata": {},
   "outputs": [],
   "source": [
    "from sklearn.pipeline import Pipeline\n",
    "from sklearn.preprocessing import StandardScaler"
   ]
  },
  {
   "cell_type": "code",
   "execution_count": 13,
   "metadata": {},
   "outputs": [],
   "source": [
    "pipeline = Pipeline(steps=[\n",
    "    (\"scaler\", StandardScaler()),\n",
    "    (\"classifier\", GridSearchCV(KNeighborsClassifier(), \n",
    "                                param_grid={\n",
    "                                    \"n_neighbors\": range(1, 10)\n",
    "                                }, cv=5, scoring=\"f1\", \n",
    "                                verbose=1, n_jobs=6, refit=True))\n",
    "])"
   ]
  },
  {
   "cell_type": "code",
   "execution_count": 14,
   "metadata": {},
   "outputs": [
    {
     "name": "stdout",
     "output_type": "stream",
     "text": [
      "Fitting 5 folds for each of 9 candidates, totalling 45 fits\n"
     ]
    },
    {
     "name": "stderr",
     "output_type": "stream",
     "text": [
      "[Parallel(n_jobs=6)]: Using backend LokyBackend with 6 concurrent workers.\n",
      "[Parallel(n_jobs=6)]: Done  45 out of  45 | elapsed:   52.3s finished\n"
     ]
    },
    {
     "data": {
      "text/plain": [
       "Pipeline(memory=None,\n",
       "         steps=[('scaler',\n",
       "                 StandardScaler(copy=True, with_mean=True, with_std=True)),\n",
       "                ('classifier',\n",
       "                 GridSearchCV(cv=5, error_score=nan,\n",
       "                              estimator=KNeighborsClassifier(algorithm='auto',\n",
       "                                                             leaf_size=30,\n",
       "                                                             metric='minkowski',\n",
       "                                                             metric_params=None,\n",
       "                                                             n_jobs=None,\n",
       "                                                             n_neighbors=5, p=2,\n",
       "                                                             weights='uniform'),\n",
       "                              iid='deprecated', n_jobs=6,\n",
       "                              param_grid={'n_neighbors': range(1, 10)},\n",
       "                              pre_dispatch='2*n_jobs', refit=True,\n",
       "                              return_train_score=False, scoring='f1',\n",
       "                              verbose=1))],\n",
       "         verbose=False)"
      ]
     },
     "execution_count": 14,
     "metadata": {},
     "output_type": "execute_result"
    }
   ],
   "source": [
    "pipeline.fit(X_train.drop(columns=\"DEFAULT\"), \n",
    "             X_train[\"DEFAULT\"])"
   ]
  },
  {
   "cell_type": "code",
   "execution_count": 15,
   "metadata": {},
   "outputs": [
    {
     "data": {
      "text/plain": [
       "0.46248230297310056"
      ]
     },
     "execution_count": 15,
     "metadata": {},
     "output_type": "execute_result"
    }
   ],
   "source": [
    "f1_score(X_test[\"DEFAULT\"],\n",
    "         pipeline.predict(X_test.drop(columns=\"DEFAULT\")))"
   ]
  },
  {
   "cell_type": "markdown",
   "metadata": {},
   "source": [
    "Prawdopodobnie powinniśmy także rozważyć inne strategie skalowania zmiennych, tym bardziej że w oczywisty sposób mają one ogromny wpływ na wyniki."
   ]
  }
 ],
 "metadata": {
  "kernelspec": {
   "display_name": "Python 3",
   "language": "python",
   "name": "python3"
  },
  "language_info": {
   "codemirror_mode": {
    "name": "ipython",
    "version": 3
   },
   "file_extension": ".py",
   "mimetype": "text/x-python",
   "name": "python",
   "nbconvert_exporter": "python",
   "pygments_lexer": "ipython3",
   "version": "3.7.7"
  }
 },
 "nbformat": 4,
 "nbformat_minor": 4
}
