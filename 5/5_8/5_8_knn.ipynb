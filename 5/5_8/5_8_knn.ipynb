{
 "cells": [
  {
   "cell_type": "markdown",
   "metadata": {},
   "source": [
    "# 5.8. K-Nearest Neighbours\n",
    "\n",
    "Jedną z powszechnie używanych rodzin metod, stosowanych nie tylko na potrzeby klasyfikacji, są algorytmy oparte o sąsiedztwo wektorów danych. Wspomnieliśmy już istnienie takich możliwości w trakcie omawiania innych dostępnych metod regresji, jednakże są one na tyle interesujące, że warto omówić przynajmniej jedną z nich dokładniej."
   ]
  },
  {
   "cell_type": "markdown",
   "metadata": {},
   "source": [
    "## Odległość punktów w przestrzeni\n",
    "\n",
    "Mając dane dwa punkty w przestrzeni 2D: $ (1, 4) $ oraz $ (-3, 2) $, jesteśmy w stanie wyliczyć ich odległość za pomocą różnych funkcji dystansu, inaczej odległości. Najpopularniejszą taką funkcją jest odległość Euklidesowa, liczona w następujący sposób:\n",
    "\n",
    "$$ d(A, B) = \\sqrt{ \\sum_{i=1}^{N}{ (x_{iA} - x_{iB})^{2} } } $$\n",
    "\n",
    "W naszym przypadku, dla dwóch ww. punktów, zapisalibyśmy to w sposób następujący:\n",
    "\n",
    "$$ d( (1, 4), (-3, 2) ) = \\sqrt{ (1 - (-3))^{2} + (4 - 2)^{2} } = \\sqrt{ 4^2 + 2^2 } = \\sqrt {16 + 4} = \\sqrt{20} $$\n",
    "\n",
    "Istnieje wiele innych metryk, które można wykorzystać. Więcej informacji o tym jakie warunki musi spełniać funkcja oraz jakie są inne popularne przykłady, można znaleźć na stronie: https://towardsdatascience.com/importance-of-distance-metrics-in-machine-learning-modelling-e51395ffe60d"
   ]
  },
  {
   "cell_type": "markdown",
   "metadata": {},
   "source": [
    "## K-Nearest Neighbours\n",
    "\n",
    "Podstawowym algorytmem opartym o sąsiedztwo jest algorytm KNN. Jego ideą jest odnalezienie **K** najbliższych sąsiadów dla danej obserwacji, a następnie przypisanie mu klasy na podstawie najpopularniejszej etykiety w obrębie tych właśnie najbliższych wektorów. Idea jest bardzo prosta, a samo uczenie modelu niezmiernie szybkie."
   ]
  },
  {
   "cell_type": "code",
   "execution_count": 2,
   "metadata": {},
   "outputs": [],
   "source": [
    "import pandas as pd\n",
    "import numpy as np"
   ]
  },
  {
   "cell_type": "code",
   "execution_count": 30,
   "metadata": {},
   "outputs": [
    {
     "data": {
      "text/plain": [
       "<matplotlib.axes._subplots.AxesSubplot at 0x1d3098af6c8>"
      ]
     },
     "execution_count": 30,
     "metadata": {},
     "output_type": "execute_result"
    },
    {
     "data": {
      "image/png": "[encoded data removed]",
      "text/plain": [
       "<Figure size 720x540 with 2 Axes>"
      ]
     },
     "metadata": {
      "needs_background": "light"
     },
     "output_type": "display_data"
    }
   ],
   "source": [
    "np.random.seed(49)\n",
    "\n",
    "xy_df = pd.DataFrame({\n",
    "    \"x\": np.random.normal(size=10),\n",
    "    \"y\": np.random.normal(size=10),\n",
    "    \"c\": np.random.choice([0, 1], size=10, \n",
    "                          p=[.75, .25])\n",
    "})\n",
    "xy_df.plot.scatter(x=\"x\", y=\"y\", c=\"c\", cmap=\"bwr\", \n",
    "                   figsize=(10.0, 7.5))"
   ]
  },
  {
   "cell_type": "code",
   "execution_count": 31,
   "metadata": {},
   "outputs": [
    {
     "data": {
      "text/html": [
       "<div>\n",
       "<style scoped>\n",
       "    .dataframe tbody tr th:only-of-type {\n",
       "        vertical-align: middle;\n",
       "    }\n",
       "\n",
       "    .dataframe tbody tr th {\n",
       "        vertical-align: top;\n",
       "    }\n",
       "\n",
       "    .dataframe thead th {\n",
       "        text-align: right;\n",
       "    }\n",
       "</style>\n",
       "<table border=\"1\" class=\"dataframe\">\n",
       "  <thead>\n",
       "    <tr style=\"text-align: right;\">\n",
       "      <th></th>\n",
       "      <th>x</th>\n",
       "      <th>y</th>\n",
       "      <th>c</th>\n",
       "    </tr>\n",
       "  </thead>\n",
       "  <tbody>\n",
       "    <tr>\n",
       "      <th>count</th>\n",
       "      <td>10.000000</td>\n",
       "      <td>10.000000</td>\n",
       "      <td>10.000000</td>\n",
       "    </tr>\n",
       "    <tr>\n",
       "      <th>mean</th>\n",
       "      <td>0.178074</td>\n",
       "      <td>0.191598</td>\n",
       "      <td>0.300000</td>\n",
       "    </tr>\n",
       "    <tr>\n",
       "      <th>std</th>\n",
       "      <td>1.093662</td>\n",
       "      <td>0.878519</td>\n",
       "      <td>0.483046</td>\n",
       "    </tr>\n",
       "    <tr>\n",
       "      <th>min</th>\n",
       "      <td>-1.441583</td>\n",
       "      <td>-1.128953</td>\n",
       "      <td>0.000000</td>\n",
       "    </tr>\n",
       "    <tr>\n",
       "      <th>25%</th>\n",
       "      <td>-0.618123</td>\n",
       "      <td>-0.401045</td>\n",
       "      <td>0.000000</td>\n",
       "    </tr>\n",
       "    <tr>\n",
       "      <th>50%</th>\n",
       "      <td>0.232511</td>\n",
       "      <td>0.356104</td>\n",
       "      <td>0.000000</td>\n",
       "    </tr>\n",
       "    <tr>\n",
       "      <th>75%</th>\n",
       "      <td>0.583764</td>\n",
       "      <td>0.921051</td>\n",
       "      <td>0.750000</td>\n",
       "    </tr>\n",
       "    <tr>\n",
       "      <th>max</th>\n",
       "      <td>1.822627</td>\n",
       "      <td>1.367844</td>\n",
       "      <td>1.000000</td>\n",
       "    </tr>\n",
       "  </tbody>\n",
       "</table>\n",
       "</div>"
      ],
      "text/plain": [
       "               x          y          c\n",
       "count  10.000000  10.000000  10.000000\n",
       "mean    0.178074   0.191598   0.300000\n",
       "std     1.093662   0.878519   0.483046\n",
       "min    -1.441583  -1.128953   0.000000\n",
       "25%    -0.618123  -0.401045   0.000000\n",
       "50%     0.232511   0.356104   0.000000\n",
       "75%     0.583764   0.921051   0.750000\n",
       "max     1.822627   1.367844   1.000000"
      ]
     },
     "execution_count": 31,
     "metadata": {},
     "output_type": "execute_result"
    }
   ],
   "source": [
    "xy_df.describe()"
   ]
  },
  {
   "cell_type": "markdown",
   "metadata": {},
   "source": [
    "Nauczymy prosty model, który będzie dla podanego punktu na płaszczyźnie, wybierał 2 najbliższe punkty sąsiednie."
   ]
  },
  {
   "cell_type": "code",
   "execution_count": 23,
   "metadata": {},
   "outputs": [],
   "source": [
    "from sklearn.neighbors import KNeighborsClassifier"
   ]
  },
  {
   "cell_type": "code",
   "execution_count": 25,
   "metadata": {},
   "outputs": [],
   "source": [
    "X, y = xy_df.drop(columns=\"c\"), xy_df[\"c\"]"
   ]
  },
  {
   "cell_type": "code",
   "execution_count": 28,
   "metadata": {},
   "outputs": [
    {
     "data": {
      "text/plain": [
       "KNeighborsClassifier(algorithm='auto', leaf_size=30, metric='minkowski',\n",
       "                     metric_params=None, n_jobs=None, n_neighbors=2, p=2,\n",
       "                     weights='uniform')"
      ]
     },
     "execution_count": 28,
     "metadata": {},
     "output_type": "execute_result"
    }
   ],
   "source": [
    "knn = KNeighborsClassifier(n_neighbors=2)\n",
    "knn.fit(X, y)"
   ]
  },
  {
   "cell_type": "markdown",
   "metadata": {},
   "source": [
    "Wyświetlmy teraz granice decyzyjne naszego modelu, żeby zobaczyć jak podzielił on przestrzeń wejściową."
   ]
  },
  {
   "cell_type": "code",
   "execution_count": 55,
   "metadata": {},
   "outputs": [],
   "source": [
    "x_test = np.linspace(-2, 2, 1000)\n",
    "y_test = np.linspace(-2, 2, 1000)"
   ]
  },
  {
   "cell_type": "code",
   "execution_count": 56,
   "metadata": {},
   "outputs": [],
   "source": [
    "import matplotlib.pyplot as plt"
   ]
  },
  {
   "cell_type": "code",
   "execution_count": 57,
   "metadata": {},
   "outputs": [],
   "source": [
    "xx, yy = np.meshgrid(x_test, y_test)\n",
    "Z = knn.predict(np.c_[xx.ravel(), yy.ravel()]) \\\n",
    "    .reshape(xx.shape)"
   ]
  },
  {
   "cell_type": "code",
   "execution_count": 58,
   "metadata": {},
   "outputs": [
    {
     "data": {
      "text/plain": [
       "<matplotlib.collections.PathCollection at 0x1d36b7e4648>"
      ]
     },
     "execution_count": 58,
     "metadata": {},
     "output_type": "execute_result"
    },
    {
     "data": {
      "image/png": "[encoded data removed]",
      "text/plain": [
       "<Figure size 540x540 with 1 Axes>"
      ]
     },
     "metadata": {
      "needs_background": "light"
     },
     "output_type": "display_data"
    }
   ],
   "source": [
    "plt.figure(figsize=(7.5, 7.5))\n",
    "plt.imshow(Z, interpolation=\"nearest\",\n",
    "           extent=(-2, 2, -2 ,2),\n",
    "           cmap=\"Wistia\", origin=\"lower\")\n",
    "plt.scatter(xy_df[\"x\"], xy_df[\"y\"], c=xy_df[\"c\"],\n",
    "            cmap=\"bwr\")"
   ]
  },
  {
   "cell_type": "code",
   "execution_count": null,
   "metadata": {},
   "outputs": [],
   "source": []
  }
 ],
 "metadata": {
  "kernelspec": {
   "display_name": "Python 3",
   "language": "python",
   "name": "python3"
  },
  "language_info": {
   "codemirror_mode": {
    "name": "ipython",
    "version": 3
   },
   "file_extension": ".py",
   "mimetype": "text/x-python",
   "name": "python",
   "nbconvert_exporter": "python",
   "pygments_lexer": "ipython3",
   "version": "3.7.7"
  }
 },
 "nbformat": 4,
 "nbformat_minor": 4
}
