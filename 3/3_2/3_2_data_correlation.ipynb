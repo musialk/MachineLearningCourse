{
 "cells": [
  {
   "cell_type": "markdown",
   "metadata": {},
   "source": [
    "# 3.2. Korelacja danych\n",
    "\n",
    "Istnieją matematyczne miary współzależności dwóch zmiennych. Dzięki nim jesteśmy w stanie określić wzajemne powiązania naszego zbioru danych. Umożliwiają one wczesne wykrycie obiecujących zmiennych skorelowanych z wartością, którą chcemy modelować bądź też par cech, które wzajemnie wnoszą tę samą informację. W drugim przypadku możemy rozważyć pozostawienie jedynie reprezentata grupy powiązanych ze sobą zmiennych, jako że zawsze preferujemy modele jak najprostsze.\n",
    "\n",
    "Co ważne, **korelacja nie oznacza związku przyczynowo-skutkowego**!"
   ]
  },
  {
   "cell_type": "code",
   "execution_count": 1,
   "metadata": {},
   "outputs": [],
   "source": [
    "import numpy as np\n",
    "import pandas as pd"
   ]
  },
  {
   "cell_type": "code",
   "execution_count": 2,
   "metadata": {},
   "outputs": [
    {
     "data": {
      "text/html": [
       "<div>\n",
       "<style scoped>\n",
       "    .dataframe tbody tr th:only-of-type {\n",
       "        vertical-align: middle;\n",
       "    }\n",
       "\n",
       "    .dataframe tbody tr th {\n",
       "        vertical-align: top;\n",
       "    }\n",
       "\n",
       "    .dataframe thead th {\n",
       "        text-align: right;\n",
       "    }\n",
       "</style>\n",
       "<table border=\"1\" class=\"dataframe\">\n",
       "  <thead>\n",
       "    <tr style=\"text-align: right;\">\n",
       "      <th></th>\n",
       "      <th>x</th>\n",
       "    </tr>\n",
       "  </thead>\n",
       "  <tbody>\n",
       "    <tr>\n",
       "      <th>0</th>\n",
       "      <td>0.000000</td>\n",
       "    </tr>\n",
       "    <tr>\n",
       "      <th>1</th>\n",
       "      <td>0.012592</td>\n",
       "    </tr>\n",
       "    <tr>\n",
       "      <th>2</th>\n",
       "      <td>0.025183</td>\n",
       "    </tr>\n",
       "    <tr>\n",
       "      <th>3</th>\n",
       "      <td>0.037775</td>\n",
       "    </tr>\n",
       "    <tr>\n",
       "      <th>4</th>\n",
       "      <td>0.050366</td>\n",
       "    </tr>\n",
       "    <tr>\n",
       "      <th>...</th>\n",
       "      <td>...</td>\n",
       "    </tr>\n",
       "    <tr>\n",
       "      <th>495</th>\n",
       "      <td>6.232819</td>\n",
       "    </tr>\n",
       "    <tr>\n",
       "      <th>496</th>\n",
       "      <td>6.245411</td>\n",
       "    </tr>\n",
       "    <tr>\n",
       "      <th>497</th>\n",
       "      <td>6.258002</td>\n",
       "    </tr>\n",
       "    <tr>\n",
       "      <th>498</th>\n",
       "      <td>6.270594</td>\n",
       "    </tr>\n",
       "    <tr>\n",
       "      <th>499</th>\n",
       "      <td>6.283185</td>\n",
       "    </tr>\n",
       "  </tbody>\n",
       "</table>\n",
       "<p>500 rows × 1 columns</p>\n",
       "</div>"
      ],
      "text/plain": [
       "            x\n",
       "0    0.000000\n",
       "1    0.012592\n",
       "2    0.025183\n",
       "3    0.037775\n",
       "4    0.050366\n",
       "..        ...\n",
       "495  6.232819\n",
       "496  6.245411\n",
       "497  6.258002\n",
       "498  6.270594\n",
       "499  6.283185\n",
       "\n",
       "[500 rows x 1 columns]"
      ]
     },
     "execution_count": 2,
     "metadata": {},
     "output_type": "execute_result"
    }
   ],
   "source": [
    "dataset_df = pd.DataFrame({\n",
    "    \"x\": np.linspace(0, 2 * np.pi, 500)\n",
    "})\n",
    "dataset_df"
   ]
  },
  {
   "cell_type": "code",
   "execution_count": 3,
   "metadata": {},
   "outputs": [
    {
     "data": {
      "text/html": [
       "<div>\n",
       "<style scoped>\n",
       "    .dataframe tbody tr th:only-of-type {\n",
       "        vertical-align: middle;\n",
       "    }\n",
       "\n",
       "    .dataframe tbody tr th {\n",
       "        vertical-align: top;\n",
       "    }\n",
       "\n",
       "    .dataframe thead th {\n",
       "        text-align: right;\n",
       "    }\n",
       "</style>\n",
       "<table border=\"1\" class=\"dataframe\">\n",
       "  <thead>\n",
       "    <tr style=\"text-align: right;\">\n",
       "      <th></th>\n",
       "      <th>x</th>\n",
       "      <th>y</th>\n",
       "      <th>z</th>\n",
       "      <th>sin_x</th>\n",
       "      <th>random</th>\n",
       "      <th>log_x</th>\n",
       "    </tr>\n",
       "  </thead>\n",
       "  <tbody>\n",
       "    <tr>\n",
       "      <th>35</th>\n",
       "      <td>0.440704</td>\n",
       "      <td>1.881409</td>\n",
       "      <td>-1.440704</td>\n",
       "      <td>0.426577</td>\n",
       "      <td>-0.646881</td>\n",
       "      <td>-0.819358</td>\n",
       "    </tr>\n",
       "    <tr>\n",
       "      <th>431</th>\n",
       "      <td>5.426960</td>\n",
       "      <td>11.853919</td>\n",
       "      <td>-6.426960</td>\n",
       "      <td>-0.755375</td>\n",
       "      <td>-3.759041</td>\n",
       "      <td>1.691381</td>\n",
       "    </tr>\n",
       "    <tr>\n",
       "      <th>486</th>\n",
       "      <td>6.119495</td>\n",
       "      <td>13.238990</td>\n",
       "      <td>-7.119495</td>\n",
       "      <td>-0.162960</td>\n",
       "      <td>-0.942390</td>\n",
       "      <td>1.811481</td>\n",
       "    </tr>\n",
       "    <tr>\n",
       "      <th>328</th>\n",
       "      <td>4.130030</td>\n",
       "      <td>9.260059</td>\n",
       "      <td>-5.130030</td>\n",
       "      <td>-0.835167</td>\n",
       "      <td>-0.548558</td>\n",
       "      <td>1.418287</td>\n",
       "    </tr>\n",
       "    <tr>\n",
       "      <th>37</th>\n",
       "      <td>0.465887</td>\n",
       "      <td>1.931775</td>\n",
       "      <td>-1.465887</td>\n",
       "      <td>0.449216</td>\n",
       "      <td>0.294167</td>\n",
       "      <td>-0.763790</td>\n",
       "    </tr>\n",
       "  </tbody>\n",
       "</table>\n",
       "</div>"
      ],
      "text/plain": [
       "            x          y         z     sin_x    random     log_x\n",
       "35   0.440704   1.881409 -1.440704  0.426577 -0.646881 -0.819358\n",
       "431  5.426960  11.853919 -6.426960 -0.755375 -3.759041  1.691381\n",
       "486  6.119495  13.238990 -7.119495 -0.162960 -0.942390  1.811481\n",
       "328  4.130030   9.260059 -5.130030 -0.835167 -0.548558  1.418287\n",
       "37   0.465887   1.931775 -1.465887  0.449216  0.294167 -0.763790"
      ]
     },
     "execution_count": 3,
     "metadata": {},
     "output_type": "execute_result"
    }
   ],
   "source": [
    "np.random.seed(2020)\n",
    "\n",
    "dataset_df = dataset_df \\\n",
    "    .assign(y=2 * dataset_df[\"x\"] + 1) \\\n",
    "    .assign(z=-dataset_df[\"x\"] - 1) \\\n",
    "    .assign(sin_x=np.sin(dataset_df[\"x\"])) \\\n",
    "    .assign(random=np.random.normal(scale=3.0, \n",
    "                                    size=500)) \\\n",
    "    .assign(log_x=np.log(dataset_df[\"x\"] + 10e-6))\n",
    "dataset_df.sample(n=5)"
   ]
  },
  {
   "cell_type": "code",
   "execution_count": 4,
   "metadata": {
    "scrolled": false
   },
   "outputs": [
    {
     "data": {
      "text/plain": [
       "array([[<matplotlib.axes._subplots.AxesSubplot object at 0x0000016BBE8CBAC8>],\n",
       "       [<matplotlib.axes._subplots.AxesSubplot object at 0x0000016BBF07E988>],\n",
       "       [<matplotlib.axes._subplots.AxesSubplot object at 0x0000016BBE93EA08>],\n",
       "       [<matplotlib.axes._subplots.AxesSubplot object at 0x0000016BBF0E7E88>],\n",
       "       [<matplotlib.axes._subplots.AxesSubplot object at 0x0000016BBF120E48>]],\n",
       "      dtype=object)"
      ]
     },
     "execution_count": 4,
     "metadata": {},
     "output_type": "execute_result"
    },
    {
     "data": {
      "image/png": "[encoded data removed]",
      "text/plain": [
       "<Figure size 720x540 with 5 Axes>"
      ]
     },
     "metadata": {
      "needs_background": "light"
     },
     "output_type": "display_data"
    }
   ],
   "source": [
    "dataset_df.plot(figsize=(10.0, 7.5), x=\"x\", \n",
    "                subplots=True, layout=(5, 1))"
   ]
  },
  {
   "cell_type": "markdown",
   "metadata": {},
   "source": [
    "## Współczynnik korelacji liniowej Pearsona\n",
    "\n",
    "Najczęściej używanym współczynnikiem korelacji jest współczynnik korelacji liniowej Pearsona. Pozwala on na wykrycie zależności liniowych dla pary zmiennych. Estymator tego współczynnika definiuje się w następujący sposób:\n",
    "\n",
    "$$ {\\displaystyle r_{xy}={\\frac {\\sum _{i=1}^{n}(x_{i}-{\\overline {x}})(y_{i}-{\\overline {y}})}{{\\sqrt {\\sum _{i=1}^{n}(x_{i}-{\\overline {x}})^{2}}}{\\sqrt {\\sum _{i=1}^{n}(y_{i}-{\\overline {y}})^{2}}}}},} $$\n",
    "\n",
    "$ x $ i $ y $ to zmienne, dla których współczynnik liczymy, a $ \\overline{x} $ oraz $ \\overline{y} $ to odpowiednie wartości średnie dla nich."
   ]
  },
  {
   "cell_type": "markdown",
   "metadata": {},
   "source": [
    "W pandas możemy łatwo obliczyć współczynnik korelacji dla wszystkich par zmiennych jakie posiadamy."
   ]
  },
  {
   "cell_type": "code",
   "execution_count": 5,
   "metadata": {},
   "outputs": [
    {
     "data": {
      "text/html": [
       "<div>\n",
       "<style scoped>\n",
       "    .dataframe tbody tr th:only-of-type {\n",
       "        vertical-align: middle;\n",
       "    }\n",
       "\n",
       "    .dataframe tbody tr th {\n",
       "        vertical-align: top;\n",
       "    }\n",
       "\n",
       "    .dataframe thead th {\n",
       "        text-align: right;\n",
       "    }\n",
       "</style>\n",
       "<table border=\"1\" class=\"dataframe\">\n",
       "  <thead>\n",
       "    <tr style=\"text-align: right;\">\n",
       "      <th></th>\n",
       "      <th>x</th>\n",
       "      <th>y</th>\n",
       "      <th>z</th>\n",
       "      <th>sin_x</th>\n",
       "      <th>random</th>\n",
       "      <th>log_x</th>\n",
       "    </tr>\n",
       "  </thead>\n",
       "  <tbody>\n",
       "    <tr>\n",
       "      <th>x</th>\n",
       "      <td>1.000000</td>\n",
       "      <td>1.000000</td>\n",
       "      <td>-1.000000</td>\n",
       "      <td>-0.777350</td>\n",
       "      <td>0.016248</td>\n",
       "      <td>0.799246</td>\n",
       "    </tr>\n",
       "    <tr>\n",
       "      <th>y</th>\n",
       "      <td>1.000000</td>\n",
       "      <td>1.000000</td>\n",
       "      <td>-1.000000</td>\n",
       "      <td>-0.777350</td>\n",
       "      <td>0.016248</td>\n",
       "      <td>0.799246</td>\n",
       "    </tr>\n",
       "    <tr>\n",
       "      <th>z</th>\n",
       "      <td>-1.000000</td>\n",
       "      <td>-1.000000</td>\n",
       "      <td>1.000000</td>\n",
       "      <td>0.777350</td>\n",
       "      <td>-0.016248</td>\n",
       "      <td>-0.799246</td>\n",
       "    </tr>\n",
       "    <tr>\n",
       "      <th>sin_x</th>\n",
       "      <td>-0.777350</td>\n",
       "      <td>-0.777350</td>\n",
       "      <td>0.777350</td>\n",
       "      <td>1.000000</td>\n",
       "      <td>-0.013599</td>\n",
       "      <td>-0.489557</td>\n",
       "    </tr>\n",
       "    <tr>\n",
       "      <th>random</th>\n",
       "      <td>0.016248</td>\n",
       "      <td>0.016248</td>\n",
       "      <td>-0.016248</td>\n",
       "      <td>-0.013599</td>\n",
       "      <td>1.000000</td>\n",
       "      <td>0.051965</td>\n",
       "    </tr>\n",
       "    <tr>\n",
       "      <th>log_x</th>\n",
       "      <td>0.799246</td>\n",
       "      <td>0.799246</td>\n",
       "      <td>-0.799246</td>\n",
       "      <td>-0.489557</td>\n",
       "      <td>0.051965</td>\n",
       "      <td>1.000000</td>\n",
       "    </tr>\n",
       "  </tbody>\n",
       "</table>\n",
       "</div>"
      ],
      "text/plain": [
       "               x         y         z     sin_x    random     log_x\n",
       "x       1.000000  1.000000 -1.000000 -0.777350  0.016248  0.799246\n",
       "y       1.000000  1.000000 -1.000000 -0.777350  0.016248  0.799246\n",
       "z      -1.000000 -1.000000  1.000000  0.777350 -0.016248 -0.799246\n",
       "sin_x  -0.777350 -0.777350  0.777350  1.000000 -0.013599 -0.489557\n",
       "random  0.016248  0.016248 -0.016248 -0.013599  1.000000  0.051965\n",
       "log_x   0.799246  0.799246 -0.799246 -0.489557  0.051965  1.000000"
      ]
     },
     "execution_count": 5,
     "metadata": {},
     "output_type": "execute_result"
    }
   ],
   "source": [
    "dataset_df.corr()"
   ]
  },
  {
   "cell_type": "markdown",
   "metadata": {},
   "source": [
    "Zarówno wartości $ -1 $ oraz $ 1 $ oznaczają idealną korelację, jednak inny jej kierunek. Ujemna wartość korelacji oznacza, że wraz ze wzrostem wartości jednej zmiennej, wartość drugiej spada. Jeśli korelacja jest dodatnia, to obie wartości zmieniają swoją wartość równolegle w tym samym kierunku.\n",
    "\n",
    "Nie ma jednej słusznej definicji mocnej i słabej korelacji - w niektórych dziedzinach wartość $ 0.3 $ będzie uznawana za istotną, a np. w fizyce $ 0.9 $ może być za mała."
   ]
  },
  {
   "cell_type": "markdown",
   "metadata": {},
   "source": [
    "## Problemy z korelacją\n",
    "\n",
    "Wartości korelacji mogą być czasem mylące i warto znać szerszy kontekst, aby dobrze zrozumieć dane zjawiska. Ponadto, statystyczna korelacja niekoniecznie oznacza korelację praktyczną.\n",
    "\n",
    "![](images/3_2_nicolas_cage_corr.png)\n",
    "\n",
    "*Źródło: https://tylervigen.com/view_correlation?id=359*"
   ]
  },
  {
   "cell_type": "markdown",
   "metadata": {},
   "source": [
    "## Inne metody liczenia koleracji\n",
    "\n",
    "Istnieją jeszcze inne metody liczenia współczynnika korelacji i niektóre z nich są z automatu dostarczone przez pandas."
   ]
  },
  {
   "cell_type": "markdown",
   "metadata": {},
   "source": [
    "### Korelacja rang Spearman'a"
   ]
  },
  {
   "cell_type": "code",
   "execution_count": 6,
   "metadata": {},
   "outputs": [
    {
     "data": {
      "text/html": [
       "<div>\n",
       "<style scoped>\n",
       "    .dataframe tbody tr th:only-of-type {\n",
       "        vertical-align: middle;\n",
       "    }\n",
       "\n",
       "    .dataframe tbody tr th {\n",
       "        vertical-align: top;\n",
       "    }\n",
       "\n",
       "    .dataframe thead th {\n",
       "        text-align: right;\n",
       "    }\n",
       "</style>\n",
       "<table border=\"1\" class=\"dataframe\">\n",
       "  <thead>\n",
       "    <tr style=\"text-align: right;\">\n",
       "      <th></th>\n",
       "      <th>x</th>\n",
       "      <th>y</th>\n",
       "      <th>z</th>\n",
       "      <th>sin_x</th>\n",
       "      <th>random</th>\n",
       "      <th>log_x</th>\n",
       "    </tr>\n",
       "  </thead>\n",
       "  <tbody>\n",
       "    <tr>\n",
       "      <th>x</th>\n",
       "      <td>1.000000</td>\n",
       "      <td>1.000000</td>\n",
       "      <td>-1.000000</td>\n",
       "      <td>-0.748503</td>\n",
       "      <td>0.028816</td>\n",
       "      <td>1.000000</td>\n",
       "    </tr>\n",
       "    <tr>\n",
       "      <th>y</th>\n",
       "      <td>1.000000</td>\n",
       "      <td>1.000000</td>\n",
       "      <td>-1.000000</td>\n",
       "      <td>-0.748503</td>\n",
       "      <td>0.028816</td>\n",
       "      <td>1.000000</td>\n",
       "    </tr>\n",
       "    <tr>\n",
       "      <th>z</th>\n",
       "      <td>-1.000000</td>\n",
       "      <td>-1.000000</td>\n",
       "      <td>1.000000</td>\n",
       "      <td>0.748503</td>\n",
       "      <td>-0.028816</td>\n",
       "      <td>-1.000000</td>\n",
       "    </tr>\n",
       "    <tr>\n",
       "      <th>sin_x</th>\n",
       "      <td>-0.748503</td>\n",
       "      <td>-0.748503</td>\n",
       "      <td>0.748503</td>\n",
       "      <td>1.000000</td>\n",
       "      <td>-0.018555</td>\n",
       "      <td>-0.748503</td>\n",
       "    </tr>\n",
       "    <tr>\n",
       "      <th>random</th>\n",
       "      <td>0.028816</td>\n",
       "      <td>0.028816</td>\n",
       "      <td>-0.028816</td>\n",
       "      <td>-0.018555</td>\n",
       "      <td>1.000000</td>\n",
       "      <td>0.028816</td>\n",
       "    </tr>\n",
       "    <tr>\n",
       "      <th>log_x</th>\n",
       "      <td>1.000000</td>\n",
       "      <td>1.000000</td>\n",
       "      <td>-1.000000</td>\n",
       "      <td>-0.748503</td>\n",
       "      <td>0.028816</td>\n",
       "      <td>1.000000</td>\n",
       "    </tr>\n",
       "  </tbody>\n",
       "</table>\n",
       "</div>"
      ],
      "text/plain": [
       "               x         y         z     sin_x    random     log_x\n",
       "x       1.000000  1.000000 -1.000000 -0.748503  0.028816  1.000000\n",
       "y       1.000000  1.000000 -1.000000 -0.748503  0.028816  1.000000\n",
       "z      -1.000000 -1.000000  1.000000  0.748503 -0.028816 -1.000000\n",
       "sin_x  -0.748503 -0.748503  0.748503  1.000000 -0.018555 -0.748503\n",
       "random  0.028816  0.028816 -0.028816 -0.018555  1.000000  0.028816\n",
       "log_x   1.000000  1.000000 -1.000000 -0.748503  0.028816  1.000000"
      ]
     },
     "execution_count": 6,
     "metadata": {},
     "output_type": "execute_result"
    }
   ],
   "source": [
    "dataset_df.corr(method=\"spearman\")"
   ]
  },
  {
   "cell_type": "markdown",
   "metadata": {},
   "source": [
    "### Korelacja Kendall Tau"
   ]
  },
  {
   "cell_type": "code",
   "execution_count": 7,
   "metadata": {},
   "outputs": [
    {
     "data": {
      "text/html": [
       "<div>\n",
       "<style scoped>\n",
       "    .dataframe tbody tr th:only-of-type {\n",
       "        vertical-align: middle;\n",
       "    }\n",
       "\n",
       "    .dataframe tbody tr th {\n",
       "        vertical-align: top;\n",
       "    }\n",
       "\n",
       "    .dataframe thead th {\n",
       "        text-align: right;\n",
       "    }\n",
       "</style>\n",
       "<table border=\"1\" class=\"dataframe\">\n",
       "  <thead>\n",
       "    <tr style=\"text-align: right;\">\n",
       "      <th></th>\n",
       "      <th>x</th>\n",
       "      <th>y</th>\n",
       "      <th>z</th>\n",
       "      <th>sin_x</th>\n",
       "      <th>random</th>\n",
       "      <th>log_x</th>\n",
       "    </tr>\n",
       "  </thead>\n",
       "  <tbody>\n",
       "    <tr>\n",
       "      <th>x</th>\n",
       "      <td>1.000000</td>\n",
       "      <td>1.000000</td>\n",
       "      <td>-1.000000</td>\n",
       "      <td>-0.498998</td>\n",
       "      <td>0.018998</td>\n",
       "      <td>1.000000</td>\n",
       "    </tr>\n",
       "    <tr>\n",
       "      <th>y</th>\n",
       "      <td>1.000000</td>\n",
       "      <td>1.000000</td>\n",
       "      <td>-1.000000</td>\n",
       "      <td>-0.498998</td>\n",
       "      <td>0.018998</td>\n",
       "      <td>1.000000</td>\n",
       "    </tr>\n",
       "    <tr>\n",
       "      <th>z</th>\n",
       "      <td>-1.000000</td>\n",
       "      <td>-1.000000</td>\n",
       "      <td>1.000000</td>\n",
       "      <td>0.498998</td>\n",
       "      <td>-0.018998</td>\n",
       "      <td>-1.000000</td>\n",
       "    </tr>\n",
       "    <tr>\n",
       "      <th>sin_x</th>\n",
       "      <td>-0.498998</td>\n",
       "      <td>-0.498998</td>\n",
       "      <td>0.498998</td>\n",
       "      <td>1.000000</td>\n",
       "      <td>-0.011848</td>\n",
       "      <td>-0.498998</td>\n",
       "    </tr>\n",
       "    <tr>\n",
       "      <th>random</th>\n",
       "      <td>0.018998</td>\n",
       "      <td>0.018998</td>\n",
       "      <td>-0.018998</td>\n",
       "      <td>-0.011848</td>\n",
       "      <td>1.000000</td>\n",
       "      <td>0.018998</td>\n",
       "    </tr>\n",
       "    <tr>\n",
       "      <th>log_x</th>\n",
       "      <td>1.000000</td>\n",
       "      <td>1.000000</td>\n",
       "      <td>-1.000000</td>\n",
       "      <td>-0.498998</td>\n",
       "      <td>0.018998</td>\n",
       "      <td>1.000000</td>\n",
       "    </tr>\n",
       "  </tbody>\n",
       "</table>\n",
       "</div>"
      ],
      "text/plain": [
       "               x         y         z     sin_x    random     log_x\n",
       "x       1.000000  1.000000 -1.000000 -0.498998  0.018998  1.000000\n",
       "y       1.000000  1.000000 -1.000000 -0.498998  0.018998  1.000000\n",
       "z      -1.000000 -1.000000  1.000000  0.498998 -0.018998 -1.000000\n",
       "sin_x  -0.498998 -0.498998  0.498998  1.000000 -0.011848 -0.498998\n",
       "random  0.018998  0.018998 -0.018998 -0.011848  1.000000  0.018998\n",
       "log_x   1.000000  1.000000 -1.000000 -0.498998  0.018998  1.000000"
      ]
     },
     "execution_count": 7,
     "metadata": {},
     "output_type": "execute_result"
    }
   ],
   "source": [
    "dataset_df.corr(method=\"kendall\")"
   ]
  },
  {
   "cell_type": "code",
   "execution_count": null,
   "metadata": {},
   "outputs": [],
   "source": []
  }
 ],
 "metadata": {
  "kernelspec": {
   "display_name": "Python 3",
   "language": "python",
   "name": "python3"
  },
  "language_info": {
   "codemirror_mode": {
    "name": "ipython",
    "version": 3
   },
   "file_extension": ".py",
   "mimetype": "text/x-python",
   "name": "python",
   "nbconvert_exporter": "python",
   "pygments_lexer": "ipython3",
   "version": "3.7.7"
  }
 },
 "nbformat": 4,
 "nbformat_minor": 4
}
