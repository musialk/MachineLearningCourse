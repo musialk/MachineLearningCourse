{
 "cells": [
  {
   "cell_type": "markdown",
   "metadata": {},
   "source": [
    "# 3.3. Redukcja wymiarowości danych\n",
    "\n",
    "Nie istnieje jeden uniwersalny format zapisu dla każdego typu danych. Jakakolwiek informacja zawierająca w sobie jednostkę, może zapewne zostać skonwertowana do innych jednostek. Co więcej, jeśli mamy wiele cech, to niekoniecznie zmiana formatu zapisu musi przebiegać w relacji 1:1. "
   ]
  },
  {
   "cell_type": "markdown",
   "metadata": {},
   "source": [
    "## Współrzędne biegunowe\n",
    "\n",
    "Dość naturalną formą reprezentacji danych w dwóch wymiarach są współrzędne kartezjańskie $ (x, y) $. Nie jest to jednak jedyna forma zapisu liczb w dwóch wymiarach, jaką możemy sobie wyobrazić."
   ]
  },
  {
   "cell_type": "code",
   "execution_count": 1,
   "metadata": {},
   "outputs": [],
   "source": [
    "import pandas as pd"
   ]
  },
  {
   "cell_type": "code",
   "execution_count": 2,
   "metadata": {},
   "outputs": [
    {
     "data": {
      "text/plain": [
       "<matplotlib.axes._subplots.AxesSubplot at 0x169d48cc708>"
      ]
     },
     "execution_count": 2,
     "metadata": {},
     "output_type": "execute_result"
    },
    {
     "data": {
      "image/png": "[encoded data removed]",
      "text/plain": [
       "<Figure size 720x540 with 1 Axes>"
      ]
     },
     "metadata": {
      "needs_background": "light"
     },
     "output_type": "display_data"
    }
   ],
   "source": [
    "xy_df = pd.DataFrame({\n",
    "    \"x\": [2, -5, 6, -3],\n",
    "    \"y\": [1, 3, -4, -2]\n",
    "})\n",
    "\n",
    "ax = xy_df.plot.scatter(x=\"x\", y=\"y\", c=range(4), \n",
    "                        colorbar=False, cmap=\"tab20\", \n",
    "                        figsize=(10.0, 7.5))\n",
    "ax"
   ]
  },
  {
   "cell_type": "code",
   "execution_count": 3,
   "metadata": {},
   "outputs": [
    {
     "data": {
      "image/png": "[encoded data removed]",
      "text/plain": [
       "<Figure size 720x540 with 1 Axes>"
      ]
     },
     "metadata": {
      "needs_background": "light"
     },
     "output_type": "display_data"
    }
   ],
   "source": [
    "ax = xy_df.plot.scatter(x=\"x\", y=\"y\", c=range(4), \n",
    "                        colorbar=False, cmap=\"tab20\", \n",
    "                        figsize=(10.0, 7.5))\n",
    "ax.spines[\"top\"].set_visible(False)\n",
    "ax.spines[\"right\"].set_visible(False)\n",
    "ax.spines[\"left\"].set_position(\"zero\")\n",
    "ax.spines[\"bottom\"].set_position(\"zero\")"
   ]
  },
  {
   "cell_type": "markdown",
   "metadata": {},
   "source": [
    "Każdy z punktów możemy również zapisać jako odległość od punktu $ (0,0) $ oraz kąt pomiędzy osią $ OX $, a odcinkiem wskazującym tę odległość. Oba zapisy jednoznacznie wyznaczają ten sam punkt przestrzeni, jednak wartości liczbowe są zupełnie inne.\n",
    "\n",
    "$$ r = \\sqrt{ x^{2} + y^{2} } $$\n",
    "\n",
    "$$ \\varphi = arccos(\\frac{x}{r}) \\cdot sgn(y) $$\n",
    "\n",
    "Konwersji odwrotnej dokonujemy za pomocą:\n",
    "\n",
    "$$ x = r \\cdot \\cos \\varphi $$\n",
    "\n",
    "$$ y = r \\cdot \\sin \\varphi $$"
   ]
  },
  {
   "cell_type": "code",
   "execution_count": 4,
   "metadata": {},
   "outputs": [],
   "source": [
    "import numpy as np"
   ]
  },
  {
   "cell_type": "code",
   "execution_count": 5,
   "metadata": {},
   "outputs": [
    {
     "data": {
      "text/html": [
       "<div>\n",
       "<style scoped>\n",
       "    .dataframe tbody tr th:only-of-type {\n",
       "        vertical-align: middle;\n",
       "    }\n",
       "\n",
       "    .dataframe tbody tr th {\n",
       "        vertical-align: top;\n",
       "    }\n",
       "\n",
       "    .dataframe thead th {\n",
       "        text-align: right;\n",
       "    }\n",
       "</style>\n",
       "<table border=\"1\" class=\"dataframe\">\n",
       "  <thead>\n",
       "    <tr style=\"text-align: right;\">\n",
       "      <th></th>\n",
       "      <th>x</th>\n",
       "      <th>y</th>\n",
       "      <th>r</th>\n",
       "      <th>phi</th>\n",
       "    </tr>\n",
       "  </thead>\n",
       "  <tbody>\n",
       "    <tr>\n",
       "      <th>0</th>\n",
       "      <td>2</td>\n",
       "      <td>1</td>\n",
       "      <td>2.236068</td>\n",
       "      <td>0.463648</td>\n",
       "    </tr>\n",
       "    <tr>\n",
       "      <th>1</th>\n",
       "      <td>-5</td>\n",
       "      <td>3</td>\n",
       "      <td>5.830952</td>\n",
       "      <td>2.601173</td>\n",
       "    </tr>\n",
       "    <tr>\n",
       "      <th>2</th>\n",
       "      <td>6</td>\n",
       "      <td>-4</td>\n",
       "      <td>7.211103</td>\n",
       "      <td>-0.588003</td>\n",
       "    </tr>\n",
       "    <tr>\n",
       "      <th>3</th>\n",
       "      <td>-3</td>\n",
       "      <td>-2</td>\n",
       "      <td>3.605551</td>\n",
       "      <td>-2.553590</td>\n",
       "    </tr>\n",
       "  </tbody>\n",
       "</table>\n",
       "</div>"
      ],
      "text/plain": [
       "   x  y         r       phi\n",
       "0  2  1  2.236068  0.463648\n",
       "1 -5  3  5.830952  2.601173\n",
       "2  6 -4  7.211103 -0.588003\n",
       "3 -3 -2  3.605551 -2.553590"
      ]
     },
     "execution_count": 5,
     "metadata": {},
     "output_type": "execute_result"
    }
   ],
   "source": [
    "xy_df[\"r\"] = np.sqrt((xy_df[\"x\"] ** 2) + (xy_df[\"y\"] ** 2))\n",
    "xy_df[\"phi\"] = np.arccos(xy_df[\"x\"] / xy_df[\"r\"]) * np.sign(xy_df[\"y\"])\n",
    "xy_df"
   ]
  },
  {
   "cell_type": "code",
   "execution_count": 6,
   "metadata": {},
   "outputs": [
    {
     "data": {
      "text/plain": [
       "0    2.0\n",
       "1   -5.0\n",
       "2    6.0\n",
       "3   -3.0\n",
       "dtype: float64"
      ]
     },
     "execution_count": 6,
     "metadata": {},
     "output_type": "execute_result"
    }
   ],
   "source": [
    "xy_df[\"r\"] * np.cos(xy_df[\"phi\"])"
   ]
  },
  {
   "cell_type": "code",
   "execution_count": 7,
   "metadata": {},
   "outputs": [
    {
     "data": {
      "text/plain": [
       "0    1.0\n",
       "1    3.0\n",
       "2   -4.0\n",
       "3   -2.0\n",
       "dtype: float64"
      ]
     },
     "execution_count": 7,
     "metadata": {},
     "output_type": "execute_result"
    }
   ],
   "source": [
    "xy_df[\"r\"] * np.sin(xy_df[\"phi\"])"
   ]
  },
  {
   "cell_type": "code",
   "execution_count": 8,
   "metadata": {},
   "outputs": [
    {
     "data": {
      "image/png": "[encoded data removed]",
      "text/plain": [
       "<Figure size 720x540 with 1 Axes>"
      ]
     },
     "metadata": {
      "needs_background": "light"
     },
     "output_type": "display_data"
    }
   ],
   "source": [
    "ax = xy_df.plot.scatter(x=\"r\", y=\"phi\", c=range(4), \n",
    "                        colorbar=False, cmap=\"tab20\",\n",
    "                        figsize=(10.0, 7.5))"
   ]
  },
  {
   "cell_type": "markdown",
   "metadata": {},
   "source": [
    "## PCA - Principal Component Analysis\n",
    "\n",
    "Istnieją metody, które są w stanie zakodować dany zbiór cech w innej przestrzeni niż oryginalna. Jednym z podstawowych algorytmów jest metoda PCA. Koduje ona informacje z wykorzystaniem kombinacji liniowych oryginalnych wymiarów w taki sposób, iż na pierwszym wymiarach kodowane jest jak najwięcej wariancji oryginalnych danych.\n",
    "\n",
    "W scikit-learn metoda PCA jest dostępna jako już zaimplementowany moduł, z którego skorzystamy."
   ]
  },
  {
   "cell_type": "code",
   "execution_count": 9,
   "metadata": {},
   "outputs": [],
   "source": [
    "from sklearn.decomposition import PCA"
   ]
  },
  {
   "cell_type": "code",
   "execution_count": 10,
   "metadata": {},
   "outputs": [
    {
     "data": {
      "text/html": [
       "<div>\n",
       "<style scoped>\n",
       "    .dataframe tbody tr th:only-of-type {\n",
       "        vertical-align: middle;\n",
       "    }\n",
       "\n",
       "    .dataframe tbody tr th {\n",
       "        vertical-align: top;\n",
       "    }\n",
       "\n",
       "    .dataframe thead th {\n",
       "        text-align: right;\n",
       "    }\n",
       "</style>\n",
       "<table border=\"1\" class=\"dataframe\">\n",
       "  <thead>\n",
       "    <tr style=\"text-align: right;\">\n",
       "      <th></th>\n",
       "      <th>sepal_length</th>\n",
       "      <th>sepal_width</th>\n",
       "      <th>petal_length</th>\n",
       "      <th>petal_width</th>\n",
       "      <th>species</th>\n",
       "    </tr>\n",
       "  </thead>\n",
       "  <tbody>\n",
       "    <tr>\n",
       "      <th>70</th>\n",
       "      <td>5.9</td>\n",
       "      <td>3.2</td>\n",
       "      <td>4.8</td>\n",
       "      <td>1.8</td>\n",
       "      <td>versicolor</td>\n",
       "    </tr>\n",
       "    <tr>\n",
       "      <th>127</th>\n",
       "      <td>6.1</td>\n",
       "      <td>3.0</td>\n",
       "      <td>4.9</td>\n",
       "      <td>1.8</td>\n",
       "      <td>virginica</td>\n",
       "    </tr>\n",
       "    <tr>\n",
       "      <th>9</th>\n",
       "      <td>4.9</td>\n",
       "      <td>3.1</td>\n",
       "      <td>1.5</td>\n",
       "      <td>0.1</td>\n",
       "      <td>setosa</td>\n",
       "    </tr>\n",
       "    <tr>\n",
       "      <th>12</th>\n",
       "      <td>4.8</td>\n",
       "      <td>3.0</td>\n",
       "      <td>1.4</td>\n",
       "      <td>0.1</td>\n",
       "      <td>setosa</td>\n",
       "    </tr>\n",
       "    <tr>\n",
       "      <th>35</th>\n",
       "      <td>5.0</td>\n",
       "      <td>3.2</td>\n",
       "      <td>1.2</td>\n",
       "      <td>0.2</td>\n",
       "      <td>setosa</td>\n",
       "    </tr>\n",
       "  </tbody>\n",
       "</table>\n",
       "</div>"
      ],
      "text/plain": [
       "     sepal_length  sepal_width  petal_length  petal_width     species\n",
       "70            5.9          3.2           4.8          1.8  versicolor\n",
       "127           6.1          3.0           4.9          1.8   virginica\n",
       "9             4.9          3.1           1.5          0.1      setosa\n",
       "12            4.8          3.0           1.4          0.1      setosa\n",
       "35            5.0          3.2           1.2          0.2      setosa"
      ]
     },
     "execution_count": 10,
     "metadata": {},
     "output_type": "execute_result"
    }
   ],
   "source": [
    "iris_df = pd.read_csv(\n",
    "    \"https://raw.githubusercontent.com/mwaskom/seaborn-data/master/iris.csv\"\n",
    ")\n",
    "iris_df.sample(n=5)"
   ]
  },
  {
   "cell_type": "code",
   "execution_count": 11,
   "metadata": {},
   "outputs": [
    {
     "data": {
      "text/html": [
       "<div>\n",
       "<style scoped>\n",
       "    .dataframe tbody tr th:only-of-type {\n",
       "        vertical-align: middle;\n",
       "    }\n",
       "\n",
       "    .dataframe tbody tr th {\n",
       "        vertical-align: top;\n",
       "    }\n",
       "\n",
       "    .dataframe thead th {\n",
       "        text-align: right;\n",
       "    }\n",
       "</style>\n",
       "<table border=\"1\" class=\"dataframe\">\n",
       "  <thead>\n",
       "    <tr style=\"text-align: right;\">\n",
       "      <th></th>\n",
       "      <th>pca_0</th>\n",
       "      <th>pca_1</th>\n",
       "    </tr>\n",
       "  </thead>\n",
       "  <tbody>\n",
       "    <tr>\n",
       "      <th>50</th>\n",
       "      <td>1.284826</td>\n",
       "      <td>0.685160</td>\n",
       "    </tr>\n",
       "    <tr>\n",
       "      <th>124</th>\n",
       "      <td>2.275431</td>\n",
       "      <td>0.334991</td>\n",
       "    </tr>\n",
       "    <tr>\n",
       "      <th>32</th>\n",
       "      <td>-2.648862</td>\n",
       "      <td>0.813364</td>\n",
       "    </tr>\n",
       "    <tr>\n",
       "      <th>86</th>\n",
       "      <td>1.220691</td>\n",
       "      <td>0.407620</td>\n",
       "    </tr>\n",
       "    <tr>\n",
       "      <th>25</th>\n",
       "      <td>-2.506669</td>\n",
       "      <td>-0.146017</td>\n",
       "    </tr>\n",
       "  </tbody>\n",
       "</table>\n",
       "</div>"
      ],
      "text/plain": [
       "        pca_0     pca_1\n",
       "50   1.284826  0.685160\n",
       "124  2.275431  0.334991\n",
       "32  -2.648862  0.813364\n",
       "86   1.220691  0.407620\n",
       "25  -2.506669 -0.146017"
      ]
     },
     "execution_count": 11,
     "metadata": {},
     "output_type": "execute_result"
    }
   ],
   "source": [
    "pca = PCA(n_components=2)\n",
    "iris_2d = pca.fit_transform(\n",
    "    iris_df.drop(columns=\"species\")\n",
    ")\n",
    "iris_2d_df = pd.DataFrame(iris_2d, \n",
    "                          columns=[\"pca_0\", \"pca_1\"])\n",
    "iris_2d_df.sample(n=5)"
   ]
  },
  {
   "cell_type": "code",
   "execution_count": 12,
   "metadata": {},
   "outputs": [
    {
     "data": {
      "text/plain": [
       "(array([0, 0, 0, 0, 0, 0, 0, 0, 0, 0, 0, 0, 0, 0, 0, 0, 0, 0, 0, 0, 0, 0,\n",
       "        0, 0, 0, 0, 0, 0, 0, 0, 0, 0, 0, 0, 0, 0, 0, 0, 0, 0, 0, 0, 0, 0,\n",
       "        0, 0, 0, 0, 0, 0, 1, 1, 1, 1, 1, 1, 1, 1, 1, 1, 1, 1, 1, 1, 1, 1,\n",
       "        1, 1, 1, 1, 1, 1, 1, 1, 1, 1, 1, 1, 1, 1, 1, 1, 1, 1, 1, 1, 1, 1,\n",
       "        1, 1, 1, 1, 1, 1, 1, 1, 1, 1, 1, 1, 2, 2, 2, 2, 2, 2, 2, 2, 2, 2,\n",
       "        2, 2, 2, 2, 2, 2, 2, 2, 2, 2, 2, 2, 2, 2, 2, 2, 2, 2, 2, 2, 2, 2,\n",
       "        2, 2, 2, 2, 2, 2, 2, 2, 2, 2, 2, 2, 2, 2, 2, 2, 2, 2], dtype=int64),\n",
       " Index(['setosa', 'versicolor', 'virginica'], dtype='object'))"
      ]
     },
     "execution_count": 12,
     "metadata": {},
     "output_type": "execute_result"
    }
   ],
   "source": [
    "colors, mapping = pd.factorize(iris_df[\"species\"])\n",
    "colors, mapping"
   ]
  },
  {
   "cell_type": "code",
   "execution_count": 13,
   "metadata": {},
   "outputs": [
    {
     "data": {
      "text/plain": [
       "<matplotlib.axes._subplots.AxesSubplot at 0x169d769e788>"
      ]
     },
     "execution_count": 13,
     "metadata": {},
     "output_type": "execute_result"
    },
    {
     "data": {
      "image/png": "[encoded data removed]",
      "text/plain": [
       "<Figure size 720x540 with 1 Axes>"
      ]
     },
     "metadata": {
      "needs_background": "light"
     },
     "output_type": "display_data"
    }
   ],
   "source": [
    "iris_2d_df.plot.scatter(x=\"pca_0\", y=\"pca_1\", \n",
    "                        c=colors, cmap=\"tab20\", colorbar=False,\n",
    "                        figsize=(10.0, 7.5))"
   ]
  },
  {
   "cell_type": "markdown",
   "metadata": {},
   "source": [
    "PCA może być traktowane jako forma zmniejszania wymiarowości danych, którą możemy trenować na naszym zbiorze. Tak stworzony, może być wykorzystany do tranformacji nowych punktów w tę samą, nauczoną przestrzeń. **Co ważne, PCA nie jest bezstratną metodą kompresji i zazwyczaj tracimy informacje po przejściu do niżejwymiarowej przestrzeni!**"
   ]
  },
  {
   "cell_type": "markdown",
   "metadata": {},
   "source": [
    "## t-SNE - t-distributed Stochastic Neighbor Embedding\n",
    "\n",
    "Metoda t-SNE jest stworzona głównie na potrzeby wizualizacji danych wielowymiarowych. W odróżnieniu od PCA, możemy jedynie zwizualizować dany zbiór, jednak otrzymując nowe punkty, nie jesteśmy w stanie w łatwy sposób dokonać ich transformacji do nowej przestrzeni. PCA jest metodą dużo wydajniejszą i zaleca się najpierw skorzystać z PCA, aby ograniczyć wymiarowość danych do co najwyżej 50 cech, a dopiero później wykorzystać t-SNE."
   ]
  },
  {
   "cell_type": "code",
   "execution_count": 14,
   "metadata": {},
   "outputs": [],
   "source": [
    "from sklearn.manifold import TSNE"
   ]
  },
  {
   "cell_type": "code",
   "execution_count": 15,
   "metadata": {},
   "outputs": [
    {
     "data": {
      "text/html": [
       "<div>\n",
       "<style scoped>\n",
       "    .dataframe tbody tr th:only-of-type {\n",
       "        vertical-align: middle;\n",
       "    }\n",
       "\n",
       "    .dataframe tbody tr th {\n",
       "        vertical-align: top;\n",
       "    }\n",
       "\n",
       "    .dataframe thead th {\n",
       "        text-align: right;\n",
       "    }\n",
       "</style>\n",
       "<table border=\"1\" class=\"dataframe\">\n",
       "  <thead>\n",
       "    <tr style=\"text-align: right;\">\n",
       "      <th></th>\n",
       "      <th>tsne_0</th>\n",
       "      <th>tsne_1</th>\n",
       "    </tr>\n",
       "  </thead>\n",
       "  <tbody>\n",
       "    <tr>\n",
       "      <th>133</th>\n",
       "      <td>-7.358649</td>\n",
       "      <td>7.859347</td>\n",
       "    </tr>\n",
       "    <tr>\n",
       "      <th>89</th>\n",
       "      <td>-9.169380</td>\n",
       "      <td>14.545543</td>\n",
       "    </tr>\n",
       "    <tr>\n",
       "      <th>110</th>\n",
       "      <td>-7.628790</td>\n",
       "      <td>5.369832</td>\n",
       "    </tr>\n",
       "    <tr>\n",
       "      <th>117</th>\n",
       "      <td>-6.535101</td>\n",
       "      <td>0.799670</td>\n",
       "    </tr>\n",
       "    <tr>\n",
       "      <th>73</th>\n",
       "      <td>-8.522057</td>\n",
       "      <td>10.670490</td>\n",
       "    </tr>\n",
       "  </tbody>\n",
       "</table>\n",
       "</div>"
      ],
      "text/plain": [
       "       tsne_0     tsne_1\n",
       "133 -7.358649   7.859347\n",
       "89  -9.169380  14.545543\n",
       "110 -7.628790   5.369832\n",
       "117 -6.535101   0.799670\n",
       "73  -8.522057  10.670490"
      ]
     },
     "execution_count": 15,
     "metadata": {},
     "output_type": "execute_result"
    }
   ],
   "source": [
    "tsne = TSNE(n_components=2)\n",
    "iris_2d_tsne = tsne.fit_transform(\n",
    "    iris_df.drop(columns=\"species\")\n",
    ")\n",
    "iris_2d_tsne_df = pd.DataFrame(iris_2d_tsne, \n",
    "                          columns=[\"tsne_0\", \"tsne_1\"])\n",
    "iris_2d_tsne_df.sample(n=5)"
   ]
  },
  {
   "cell_type": "code",
   "execution_count": 16,
   "metadata": {},
   "outputs": [
    {
     "data": {
      "text/plain": [
       "<matplotlib.axes._subplots.AxesSubplot at 0x169d7c97d88>"
      ]
     },
     "execution_count": 16,
     "metadata": {},
     "output_type": "execute_result"
    },
    {
     "data": {
      "image/png": "[encoded data removed]",
      "text/plain": [
       "<Figure size 720x540 with 1 Axes>"
      ]
     },
     "metadata": {
      "needs_background": "light"
     },
     "output_type": "display_data"
    }
   ],
   "source": [
    "iris_2d_tsne_df.plot.scatter(x=\"tsne_0\", y=\"tsne_1\", \n",
    "                             c=colors, cmap=\"tab20\", colorbar=False,\n",
    "                             figsize=(10.0, 7.5))"
   ]
  },
  {
   "cell_type": "code",
   "execution_count": null,
   "metadata": {},
   "outputs": [],
   "source": []
  }
 ],
 "metadata": {
  "kernelspec": {
   "display_name": "Python 3",
   "language": "python",
   "name": "python3"
  },
  "language_info": {
   "codemirror_mode": {
    "name": "ipython",
    "version": 3
   },
   "file_extension": ".py",
   "mimetype": "text/x-python",
   "name": "python",
   "nbconvert_exporter": "python",
   "pygments_lexer": "ipython3",
   "version": "3.7.7"
  }
 },
 "nbformat": 4,
 "nbformat_minor": 4
}
