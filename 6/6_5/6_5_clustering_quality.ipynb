{
 "cells": [
  {
   "cell_type": "markdown",
   "metadata": {},
   "source": [
    "# 6.5. Pomiar jakości klastrowania\n",
    "\n",
    "W przypadku metod klastrowania, możemy rozpatrywać kwestię jakości na dwa sposoby. Jeśli znamy oczekiwany docelowy podział, to możemy sprawdzić czy wygenerowane klastry odpowiadają naszym oczekiwaniom. Jeśli jednak szukamy naturalnego podziału danych, ale nie zakładamy nic na temat podobieństwa poszczególnych obserwacji, to możemy rozpatrywać jakość w kategorii podobieństw wewnątrz klastrów."
   ]
  },
  {
   "cell_type": "markdown",
   "metadata": {},
   "source": [
    "## Jakość w przypadku nadzorowanym\n",
    "\n",
    "Powróćmy do przypadku zbioru danych Titanic. Nauczmy jeszcze raz ten sam model co w poprzednim rozdziale i zbadajmy jaka jest jakość takiego rozwiązania."
   ]
  },
  {
   "cell_type": "code",
   "execution_count": 1,
   "metadata": {},
   "outputs": [],
   "source": [
    "import pandas as pd"
   ]
  },
  {
   "cell_type": "code",
   "execution_count": 2,
   "metadata": {},
   "outputs": [
    {
     "data": {
      "text/html": [
       "<div>\n",
       "<style scoped>\n",
       "    .dataframe tbody tr th:only-of-type {\n",
       "        vertical-align: middle;\n",
       "    }\n",
       "\n",
       "    .dataframe tbody tr th {\n",
       "        vertical-align: top;\n",
       "    }\n",
       "\n",
       "    .dataframe thead th {\n",
       "        text-align: right;\n",
       "    }\n",
       "</style>\n",
       "<table border=\"1\" class=\"dataframe\">\n",
       "  <thead>\n",
       "    <tr style=\"text-align: right;\">\n",
       "      <th></th>\n",
       "      <th>Survived</th>\n",
       "      <th>Pclass</th>\n",
       "      <th>Age</th>\n",
       "      <th>Siblings/Spouses Aboard</th>\n",
       "      <th>Parents/Children Aboard</th>\n",
       "      <th>Fare</th>\n",
       "      <th>Master.</th>\n",
       "      <th>Dr.</th>\n",
       "      <th>Rev.</th>\n",
       "      <th>Names_count</th>\n",
       "    </tr>\n",
       "  </thead>\n",
       "  <tbody>\n",
       "    <tr>\n",
       "      <th>758</th>\n",
       "      <td>1</td>\n",
       "      <td>3</td>\n",
       "      <td>20.0</td>\n",
       "      <td>0</td>\n",
       "      <td>0</td>\n",
       "      <td>7.2292</td>\n",
       "      <td>False</td>\n",
       "      <td>False</td>\n",
       "      <td>False</td>\n",
       "      <td>4</td>\n",
       "    </tr>\n",
       "    <tr>\n",
       "      <th>583</th>\n",
       "      <td>0</td>\n",
       "      <td>2</td>\n",
       "      <td>47.0</td>\n",
       "      <td>0</td>\n",
       "      <td>0</td>\n",
       "      <td>15.0000</td>\n",
       "      <td>False</td>\n",
       "      <td>False</td>\n",
       "      <td>False</td>\n",
       "      <td>4</td>\n",
       "    </tr>\n",
       "    <tr>\n",
       "      <th>265</th>\n",
       "      <td>1</td>\n",
       "      <td>3</td>\n",
       "      <td>25.0</td>\n",
       "      <td>1</td>\n",
       "      <td>0</td>\n",
       "      <td>7.7750</td>\n",
       "      <td>False</td>\n",
       "      <td>False</td>\n",
       "      <td>False</td>\n",
       "      <td>4</td>\n",
       "    </tr>\n",
       "    <tr>\n",
       "      <th>493</th>\n",
       "      <td>1</td>\n",
       "      <td>1</td>\n",
       "      <td>54.0</td>\n",
       "      <td>1</td>\n",
       "      <td>0</td>\n",
       "      <td>78.2667</td>\n",
       "      <td>False</td>\n",
       "      <td>False</td>\n",
       "      <td>False</td>\n",
       "      <td>4</td>\n",
       "    </tr>\n",
       "    <tr>\n",
       "      <th>56</th>\n",
       "      <td>0</td>\n",
       "      <td>3</td>\n",
       "      <td>28.5</td>\n",
       "      <td>0</td>\n",
       "      <td>0</td>\n",
       "      <td>7.2292</td>\n",
       "      <td>False</td>\n",
       "      <td>False</td>\n",
       "      <td>False</td>\n",
       "      <td>3</td>\n",
       "    </tr>\n",
       "  </tbody>\n",
       "</table>\n",
       "</div>"
      ],
      "text/plain": [
       "     Survived  Pclass   Age  Siblings/Spouses Aboard  Parents/Children Aboard  \\\n",
       "758         1       3  20.0                        0                        0   \n",
       "583         0       2  47.0                        0                        0   \n",
       "265         1       3  25.0                        1                        0   \n",
       "493         1       1  54.0                        1                        0   \n",
       "56          0       3  28.5                        0                        0   \n",
       "\n",
       "        Fare  Master.    Dr.   Rev.  Names_count  \n",
       "758   7.2292    False  False  False            4  \n",
       "583  15.0000    False  False  False            4  \n",
       "265   7.7750    False  False  False            4  \n",
       "493  78.2667    False  False  False            4  \n",
       "56    7.2292    False  False  False            3  "
      ]
     },
     "execution_count": 2,
     "metadata": {},
     "output_type": "execute_result"
    }
   ],
   "source": [
    "reduced_titanic_df = pd \\\n",
    "    .read_parquet(\"../data/titanic-reduced.parquet\")\n",
    "reduced_titanic_df.sample(n=5)"
   ]
  },
  {
   "cell_type": "code",
   "execution_count": 3,
   "metadata": {},
   "outputs": [
    {
     "data": {
      "text/html": [
       "<div>\n",
       "<style scoped>\n",
       "    .dataframe tbody tr th:only-of-type {\n",
       "        vertical-align: middle;\n",
       "    }\n",
       "\n",
       "    .dataframe tbody tr th {\n",
       "        vertical-align: top;\n",
       "    }\n",
       "\n",
       "    .dataframe thead th {\n",
       "        text-align: right;\n",
       "    }\n",
       "</style>\n",
       "<table border=\"1\" class=\"dataframe\">\n",
       "  <thead>\n",
       "    <tr style=\"text-align: right;\">\n",
       "      <th></th>\n",
       "      <th>Survived</th>\n",
       "      <th>Pclass</th>\n",
       "      <th>Age</th>\n",
       "      <th>Siblings/Spouses Aboard</th>\n",
       "      <th>Parents/Children Aboard</th>\n",
       "      <th>Fare</th>\n",
       "      <th>Mr.</th>\n",
       "      <th>Miss.</th>\n",
       "      <th>Mrs.</th>\n",
       "      <th>Master.</th>\n",
       "      <th>Dr.</th>\n",
       "      <th>Rev.</th>\n",
       "      <th>Names_count</th>\n",
       "      <th>Sex_female</th>\n",
       "    </tr>\n",
       "  </thead>\n",
       "  <tbody>\n",
       "    <tr>\n",
       "      <th>449</th>\n",
       "      <td>0</td>\n",
       "      <td>1</td>\n",
       "      <td>30.0</td>\n",
       "      <td>0</td>\n",
       "      <td>0</td>\n",
       "      <td>27.7500</td>\n",
       "      <td>True</td>\n",
       "      <td>False</td>\n",
       "      <td>False</td>\n",
       "      <td>False</td>\n",
       "      <td>False</td>\n",
       "      <td>False</td>\n",
       "      <td>4</td>\n",
       "      <td>0</td>\n",
       "    </tr>\n",
       "    <tr>\n",
       "      <th>589</th>\n",
       "      <td>0</td>\n",
       "      <td>3</td>\n",
       "      <td>47.0</td>\n",
       "      <td>0</td>\n",
       "      <td>0</td>\n",
       "      <td>7.2500</td>\n",
       "      <td>True</td>\n",
       "      <td>False</td>\n",
       "      <td>False</td>\n",
       "      <td>False</td>\n",
       "      <td>False</td>\n",
       "      <td>False</td>\n",
       "      <td>4</td>\n",
       "      <td>0</td>\n",
       "    </tr>\n",
       "    <tr>\n",
       "      <th>756</th>\n",
       "      <td>0</td>\n",
       "      <td>3</td>\n",
       "      <td>23.0</td>\n",
       "      <td>0</td>\n",
       "      <td>0</td>\n",
       "      <td>14.5000</td>\n",
       "      <td>True</td>\n",
       "      <td>False</td>\n",
       "      <td>False</td>\n",
       "      <td>False</td>\n",
       "      <td>False</td>\n",
       "      <td>False</td>\n",
       "      <td>3</td>\n",
       "      <td>0</td>\n",
       "    </tr>\n",
       "    <tr>\n",
       "      <th>744</th>\n",
       "      <td>0</td>\n",
       "      <td>1</td>\n",
       "      <td>19.0</td>\n",
       "      <td>1</td>\n",
       "      <td>0</td>\n",
       "      <td>53.1000</td>\n",
       "      <td>True</td>\n",
       "      <td>False</td>\n",
       "      <td>False</td>\n",
       "      <td>False</td>\n",
       "      <td>False</td>\n",
       "      <td>False</td>\n",
       "      <td>4</td>\n",
       "      <td>0</td>\n",
       "    </tr>\n",
       "    <tr>\n",
       "      <th>8</th>\n",
       "      <td>1</td>\n",
       "      <td>3</td>\n",
       "      <td>27.0</td>\n",
       "      <td>0</td>\n",
       "      <td>2</td>\n",
       "      <td>11.1333</td>\n",
       "      <td>False</td>\n",
       "      <td>False</td>\n",
       "      <td>True</td>\n",
       "      <td>False</td>\n",
       "      <td>False</td>\n",
       "      <td>False</td>\n",
       "      <td>7</td>\n",
       "      <td>1</td>\n",
       "    </tr>\n",
       "  </tbody>\n",
       "</table>\n",
       "</div>"
      ],
      "text/plain": [
       "     Survived  Pclass   Age  Siblings/Spouses Aboard  Parents/Children Aboard  \\\n",
       "449         0       1  30.0                        0                        0   \n",
       "589         0       3  47.0                        0                        0   \n",
       "756         0       3  23.0                        0                        0   \n",
       "744         0       1  19.0                        1                        0   \n",
       "8           1       3  27.0                        0                        2   \n",
       "\n",
       "        Fare    Mr.  Miss.   Mrs.  Master.    Dr.   Rev.  Names_count  \\\n",
       "449  27.7500   True  False  False    False  False  False            4   \n",
       "589   7.2500   True  False  False    False  False  False            4   \n",
       "756  14.5000   True  False  False    False  False  False            3   \n",
       "744  53.1000   True  False  False    False  False  False            4   \n",
       "8    11.1333  False  False   True    False  False  False            7   \n",
       "\n",
       "     Sex_female  \n",
       "449           0  \n",
       "589           0  \n",
       "756           0  \n",
       "744           0  \n",
       "8             1  "
      ]
     },
     "execution_count": 3,
     "metadata": {},
     "output_type": "execute_result"
    }
   ],
   "source": [
    "titanic_df = pd.read_parquet(\"../data/titanic-final.parquet\")\n",
    "titanic_df.sample(n=5)"
   ]
  },
  {
   "cell_type": "markdown",
   "metadata": {},
   "source": [
    "### Ponowne nauczenie modelu\n",
    "\n",
    "Stworzymy ten sam model co poprzednio, zanim jeszcze zaczniemy mierzyć jakość powstałych klastrów."
   ]
  },
  {
   "cell_type": "code",
   "execution_count": 4,
   "metadata": {},
   "outputs": [],
   "source": [
    "from sklearn.pipeline import Pipeline\n",
    "from sklearn.preprocessing import StandardScaler\n",
    "from sklearn.cluster import KMeans"
   ]
  },
  {
   "cell_type": "code",
   "execution_count": 5,
   "metadata": {},
   "outputs": [],
   "source": [
    "pipeline = Pipeline(steps=[\n",
    "    (\"scaling\", StandardScaler()),\n",
    "    (\"clustering\", KMeans(n_clusters=2, \n",
    "                          random_state=2019)),\n",
    "])"
   ]
  },
  {
   "cell_type": "code",
   "execution_count": 6,
   "metadata": {},
   "outputs": [],
   "source": [
    "import numpy as np"
   ]
  },
  {
   "cell_type": "code",
   "execution_count": 7,
   "metadata": {},
   "outputs": [],
   "source": [
    "clusters = pipeline.fit_predict(\n",
    "    reduced_titanic_df.drop(columns=\"Survived\")\n",
    ")"
   ]
  },
  {
   "cell_type": "markdown",
   "metadata": {},
   "source": [
    "### Jednorodność (ang. *Homogeneity*)\n",
    "\n",
    "Jednorodność jest miarą, która pozwala oszacować czy powstałe klastry są zgodne z oczekiwanym podziałem, tj. czy każdy klaster zawiera tylko elementy pojedynczej klasy. Miara ta jest wartością z przedziału $ [0, 1] $, gdzie $ 1 $ oznacza perfekcyjne dopasowanie."
   ]
  },
  {
   "cell_type": "code",
   "execution_count": 8,
   "metadata": {},
   "outputs": [],
   "source": [
    "from sklearn.metrics import homogeneity_score"
   ]
  },
  {
   "cell_type": "code",
   "execution_count": 9,
   "metadata": {},
   "outputs": [
    {
     "data": {
      "text/plain": [
       "0.0003201906697905245"
      ]
     },
     "execution_count": 9,
     "metadata": {},
     "output_type": "execute_result"
    }
   ],
   "source": [
    "homogeneity_score(reduced_titanic_df[\"Survived\"], \n",
    "                  clusters)"
   ]
  },
  {
   "cell_type": "markdown",
   "metadata": {},
   "source": [
    "### Kompletność (ang. *Completeness*)\n",
    "\n",
    "Kompletność mierzy jakość klastrowania poprzez sprawdzenie czy wszystkie elementy należące do każdej klasy, należą równocześnie do tego samego klastra."
   ]
  },
  {
   "cell_type": "code",
   "execution_count": 10,
   "metadata": {},
   "outputs": [],
   "source": [
    "from sklearn.metrics import completeness_score"
   ]
  },
  {
   "cell_type": "code",
   "execution_count": 25,
   "metadata": {},
   "outputs": [
    {
     "data": {
      "text/plain": [
       "0.0006315633833212408"
      ]
     },
     "execution_count": 25,
     "metadata": {},
     "output_type": "execute_result"
    }
   ],
   "source": [
    "completeness_score(reduced_titanic_df[\"Survived\"],\n",
    "                   clusters)"
   ]
  },
  {
   "cell_type": "markdown",
   "metadata": {},
   "source": [
    "### V-measure\n",
    "\n",
    "Gdybyśmy wykorzystali średnią harmoniczną jednorodności oraz kompletności, to otrzymamy metrykę *V-measure*."
   ]
  },
  {
   "cell_type": "code",
   "execution_count": 12,
   "metadata": {},
   "outputs": [],
   "source": [
    "from sklearn.metrics import v_measure_score"
   ]
  },
  {
   "cell_type": "code",
   "execution_count": 13,
   "metadata": {},
   "outputs": [
    {
     "data": {
      "text/plain": [
       "0.0004249431921190903"
      ]
     },
     "execution_count": 13,
     "metadata": {},
     "output_type": "execute_result"
    }
   ],
   "source": [
    "v_measure_score(reduced_titanic_df[\"Survived\"], clusters)"
   ]
  },
  {
   "cell_type": "markdown",
   "metadata": {},
   "source": [
    "## Pomiar jakości, a uczenie nienadzorowane\n",
    "\n",
    "Rozpatrując klastrowanie w uczeniu nadzorowanym, jesteśmy w stanie równie dobrze skorzystać z metryk charakterystycznych dla klasyfikacji, żeby zmierzyć skuteczość naszego rozwiązania. W sytuacji uczenia bez podanych etykiet, musimy do problemu podejść w inny sposób i oprzeć pomiar jakości na odległości poszczególnych obserwacji od siebie.\n",
    "\n",
    "Metody te potrzebują do obliczeń zbioru danych, ale w takiej postaci, w jakiej jest on przekazany do metody klastrowania."
   ]
  },
  {
   "cell_type": "code",
   "execution_count": 14,
   "metadata": {},
   "outputs": [],
   "source": [
    "X = pipeline.named_steps[\"scaling\"] \\\n",
    "    .transform(reduced_titanic_df.drop(columns=\"Survived\"))"
   ]
  },
  {
   "cell_type": "markdown",
   "metadata": {},
   "source": [
    "### Silhouette\n",
    "\n",
    "Ta metoda pozwala na obliczenie tego, jak bardzo dany obiekt jest podobny do swojego klastra w porównaniu do innych klastrów. Metryka zwraca wartość w przedziale $ [-1, 1] $."
   ]
  },
  {
   "cell_type": "code",
   "execution_count": 15,
   "metadata": {},
   "outputs": [],
   "source": [
    "from sklearn.metrics import silhouette_score, \\\n",
    "    silhouette_samples"
   ]
  },
  {
   "cell_type": "code",
   "execution_count": 16,
   "metadata": {},
   "outputs": [
    {
     "data": {
      "text/plain": [
       "array([ 0.54662522,  0.3688598 ,  0.60781224,  0.37453795,  0.61861495,\n",
       "        0.60991318,  0.52206411,  0.29136251,  0.23347247,  0.47131705,\n",
       "        0.31169601,  0.50434287,  0.59526378,  0.06301867,  0.50991968,\n",
       "        0.53930959,  0.29831891,  0.60810446,  0.38133393,  0.59507   ,\n",
       "        0.62746851,  0.61320217,  0.55207398,  0.54998116, -0.09523231,\n",
       "        0.06318492,  0.61660068,  0.02848851,  0.60253186,  0.59916899,\n",
       "        0.5610467 ,  0.35067477,  0.5832602 ,  0.51042495,  0.4730053 ,\n",
       "        0.51398099,  0.57304306,  0.60032663,  0.38278148,  0.48852145,\n",
       "        0.46226271,  0.31749495, -0.12856658,  0.58953041,  0.62188267,\n",
       "        0.52586264,  0.60975156,  0.38996428,  0.48455288,  0.30665434,\n",
       "        0.60026905,  0.42190782,  0.47116576,  0.42486704,  0.53697552,\n",
       "        0.58396925,  0.61159004, -0.18095924,  0.33628239,  0.59507146,\n",
       "        0.51365868,  0.48339678,  0.31818733,  0.49132998,  0.18056554,\n",
       "        0.62482906,  0.5895913 ,  0.09212674,  0.43749707,  0.62785627,\n",
       "        0.16300253,  0.55054721,  0.54987919,  0.57750072,  0.61434898,\n",
       "        0.59916899,  0.62026186,  0.18705134,  0.61303358,  0.59539892,\n",
       "        0.62161949,  0.62189907,  0.54465548,  0.5626913 ,  0.23758615,\n",
       "       -0.05134651,  0.59526378,  0.01961206,  0.60257058,  0.61224256,\n",
       "        0.59521913,  0.50285065,  0.27065161,  0.51997347,  0.60467448,\n",
       "        0.46049915,  0.44341839,  0.37479431,  0.56800567,  0.61126759,\n",
       "        0.61220521,  0.42193315,  0.62113888,  0.46528889,  0.61126759,\n",
       "        0.60022767,  0.62123424,  0.60268333,  0.55242032,  0.54130571,\n",
       "        0.4919837 ,  0.60467448,  0.5258129 ,  0.56647618,  0.59054975,\n",
       "        0.46576244,  0.54116275,  0.20022073,  0.14933027,  0.40594734,\n",
       "        0.58957021,  0.56592025,  0.61312744,  0.44596783,  0.07315794,\n",
       "        0.57944483,  0.61138168,  0.29129117,  0.58048504,  0.61140801,\n",
       "        0.59497672,  0.38844785,  0.47116576,  0.57296986,  0.59312935,\n",
       "        0.3059377 ,  0.51463945,  0.56962155,  0.49217283,  0.36693017,\n",
       "        0.60460154,  0.36532228,  0.57915829,  0.58261338,  0.43499078,\n",
       "        0.61869838, -0.06421859,  0.3756414 ,  0.08785151,  0.09281786,\n",
       "        0.44531774,  0.53628862,  0.34551531,  0.61855957,  0.46454333,\n",
       "        0.55941464,  0.61270324,  0.6051291 ,  0.28799211,  0.51814053,\n",
       "        0.51587212,  0.61676284,  0.56664405,  0.31312671,  0.17438523,\n",
       "        0.45350054, -0.01107714,  0.50772151,  0.57321538,  0.48402959,\n",
       "        0.29655663,  0.28786641,  0.60029927,  0.52248171,  0.41932854,\n",
       "        0.28896008,  0.5420774 ,  0.61119118,  0.60355483,  0.2083182 ,\n",
       "        0.60825408,  0.33284515,  0.24651554,  0.22575267,  0.55356297,\n",
       "        0.51824841,  0.5543113 ,  0.46649556,  0.60701414,  0.61292647,\n",
       "        0.57434327,  0.48972332,  0.19405771,  0.47770397,  0.40548872,\n",
       "        0.61122937,  0.48970445,  0.59051249,  0.59671613,  0.56878005,\n",
       "        0.19006142,  0.61950989,  0.57864696,  0.57321991,  0.36453375,\n",
       "        0.5711889 ,  0.61622   ,  0.55941814,  0.54613981,  0.6022853 ,\n",
       "        0.62845819,  0.60445377,  0.62683761,  0.53503062,  0.4266575 ,\n",
       "        0.60979915,  0.57493311,  0.51381347,  0.61068295,  0.56942741,\n",
       "        0.62125898,  0.56657901,  0.59526532,  0.47837779,  0.55178547,\n",
       "        0.58817289,  0.59764099,  0.58282523, -0.12425276,  0.4154676 ,\n",
       "        0.62123424,  0.54620543,  0.14736165,  0.56918705,  0.60019745,\n",
       "        0.55599402,  0.26629651,  0.58817289,  0.62857282,  0.52055486,\n",
       "        0.51468705,  0.62482906,  0.60441114,  0.61247259,  0.07625379,\n",
       "        0.56161751,  0.3516995 ,  0.43949673,  0.08382837,  0.58312152,\n",
       "        0.37226712,  0.49966056,  0.56974629,  0.34508345,  0.28474915,\n",
       "        0.52720257,  0.49893375,  0.07913375,  0.51934182,  0.33967381,\n",
       "        0.40201696,  0.54156076,  0.59051249,  0.6115159 , -0.01247235,\n",
       "        0.55839384,  0.31652728,  0.43514641,  0.53688582,  0.61042833,\n",
       "        0.51039994,  0.49180941,  0.61136939,  0.44399921,  0.59120863,\n",
       "        0.58001344,  0.2922289 ,  0.44333157,  0.49176202,  0.56846113,\n",
       "        0.56965543,  0.58957021,  0.51923276,  0.61157631,  0.62218615,\n",
       "        0.59526532,  0.6014613 ,  0.59523267,  0.49863633,  0.36562239,\n",
       "        0.62727331,  0.60270582,  0.60253586,  0.55605065,  0.60071789,\n",
       "       -0.09173551,  0.53600412,  0.21566429,  0.59519161,  0.42888499,\n",
       "        0.53584412,  0.60319082,  0.62026186,  0.19295711,  0.47378557,\n",
       "        0.07874259,  0.56453673,  0.54217356,  0.49895468, -0.01789724,\n",
       "        0.44217069,  0.61126759,  0.48023087,  0.61678392,  0.52552188,\n",
       "        0.10649202,  0.22798564,  0.26060193,  0.59507848,  0.60979202,\n",
       "        0.62670878,  0.30036543,  0.19037489,  0.44463045,  0.51850339,\n",
       "        0.58706689,  0.30956593,  0.41524275,  0.44193149,  0.53929889,\n",
       "        0.35749009,  0.37186697,  0.36570845,  0.61266604,  0.49251921,\n",
       "        0.44845172,  0.59127758,  0.55286958,  0.19602964,  0.01710998,\n",
       "        0.62355483,  0.57296986,  0.62729821,  0.59671613,  0.62071762,\n",
       "        0.38581638,  0.20434699,  0.59146811,  0.60863417,  0.55637358,\n",
       "        0.39271565,  0.54658568,  0.59897544,  0.56878005,  0.44589384,\n",
       "        0.62459736,  0.59526189,  0.60835318, -0.02607788,  0.57724277,\n",
       "        0.51576748,  0.60856101,  0.55234023,  0.57104301,  0.35712641,\n",
       "        0.61838524,  0.59523267,  0.51456909,  0.48991976,  0.52514412,\n",
       "        0.58957021,  0.40802347, -0.06599839,  0.39490063,  0.60445377,\n",
       "        0.16788565,  0.58373141,  0.58950408,  0.30205302,  0.21150536,\n",
       "        0.61224669,  0.37496318,  0.60979202,  0.53578663,  0.34511771,\n",
       "        0.61203411,  0.57943992,  0.56291475,  0.23983631,  0.60026795,\n",
       "        0.45275482,  0.40506397,  0.26939602,  0.59524359,  0.61263688,\n",
       "        0.6032528 ,  0.09157328,  0.50732608,  0.600183  ,  0.60784101,\n",
       "        0.54237662,  0.56671576,  0.58539387,  0.56883241,  0.56651999,\n",
       "        0.19178288,  0.54742339, -0.07217425,  0.5913148 ,  0.60946149,\n",
       "        0.47368597,  0.59860532,  0.594848  ,  0.49756018,  0.33248023,\n",
       "        0.32556744,  0.62683761,  0.26097734,  0.59050826,  0.61219966,\n",
       "        0.24263689,  0.4179341 ,  0.54294347,  0.39139378,  0.58714338,\n",
       "        0.61122937,  0.57260018,  0.55180379,  0.4603232 ,  0.40691614,\n",
       "        0.5763136 ,  0.4984073 , -0.16854678, -0.13725452, -0.01904101,\n",
       "       -0.03322544,  0.58503399,  0.40787365,  0.58547809,  0.55839384,\n",
       "        0.60788554,  0.61225662,  0.1453922 ,  0.46162067,  0.56140918,\n",
       "       -0.20972658,  0.53591692,  0.32406116,  0.52282472,  0.55604739,\n",
       "        0.47128877,  0.60257058,  0.61220521,  0.48719908,  0.49105745,\n",
       "        0.57459914,  0.56647625,  0.53421872,  0.61027559,  0.54774315,\n",
       "        0.5959303 ,  0.61027559,  0.61241848,  0.58001344,  0.52285644,\n",
       "        0.59522563, -0.17917892,  0.60001456,  0.60285161,  0.21401229,\n",
       "        0.4149282 ,  0.60494141,  0.55167948,  0.58423792,  0.56749319,\n",
       "        0.60453726,  0.36438871,  0.33924721,  0.62052114,  0.57100405,\n",
       "        0.50142855,  0.45251655, -0.10000503,  0.35284414,  0.51519372,\n",
       "        0.62188267,  0.18891   ,  0.48952031,  0.59036827,  0.52603471,\n",
       "        0.44907927,  0.60032663,  0.60779721,  0.47121636,  0.54863067,\n",
       "       -0.11236905,  0.60251065,  0.56664405,  0.59051249,  0.6002216 ,\n",
       "        0.61526114,  0.45153266,  0.29617592,  0.31162059,  0.54788392,\n",
       "        0.61833248,  0.56887061,  0.62122689,  0.48705069,  0.56241192,\n",
       "        0.4250667 ,  0.60242702,  0.54899949,  0.62800339,  0.60914579,\n",
       "        0.4043721 ,  0.61223951,  0.49008241,  0.59526532,  0.60861179,\n",
       "        0.35407517,  0.57304306,  0.59594717,  0.57459914,  0.31212443,\n",
       "        0.6101819 ,  0.35003501,  0.31030629,  0.56635293,  0.41297966,\n",
       "        0.30790534,  0.612829  ,  0.26068074,  0.5543113 ,  0.47235147,\n",
       "        0.47968146,  0.30962129,  0.33487666,  0.13668709,  0.12986634,\n",
       "        0.56677038,  0.44872973,  0.49144277,  0.5024654 ,  0.57864471,\n",
       "        0.47478978,  0.17342309,  0.22782037,  0.57796246,  0.59053007,\n",
       "        0.59507   ,  0.59523875,  0.48966554,  0.48837354,  0.30363586,\n",
       "        0.3981599 ,  0.46254217,  0.62179893,  0.59744569,  0.62363346,\n",
       "        0.59748018,  0.51385956,  0.43774073,  0.57947677, -0.02488125,\n",
       "        0.61106579,  0.61222844,  0.5209749 ,  0.37265361,  0.56240553,\n",
       "        0.59523267,  0.52211512,  0.57927423,  0.61320217,  0.43874169,\n",
       "        0.4848386 ,  0.61224669,  0.46910837,  0.28028588,  0.57026271,\n",
       "        0.55906164,  0.55957721,  0.27097963,  0.60002858,  0.38735021,\n",
       "        0.59529194,  0.59529194,  0.60858335,  0.41705118,  0.58339735,\n",
       "        0.36304102,  0.58264677,  0.44334904,  0.62382185,  0.56244481,\n",
       "        0.57304196,  0.47902724,  0.23485601,  0.5913148 ,  0.55819456,\n",
       "        0.59487689,  0.547406  ,  0.56974523,  0.61266604,  0.54863564,\n",
       "        0.17577406,  0.4178877 ,  0.06848068,  0.60002932,  0.52573732,\n",
       "        0.59523267,  0.61861495,  0.26002048,  0.47659806,  0.3707753 ,\n",
       "       -0.22061347,  0.60258439,  0.55239059,  0.49020829,  0.42233756,\n",
       "        0.60028258,  0.59976825,  0.49276542,  0.09482102,  0.4938582 ,\n",
       "        0.60780508,  0.58325605,  0.4113661 ,  0.56636812,  0.09722199,\n",
       "        0.52233088,  0.03648656,  0.60788554,  0.62162737,  0.47644974,\n",
       "        0.02839342,  0.55648087,  0.59521913,  0.50235738,  0.08039311,\n",
       "        0.57750072, -0.18280348,  0.48605082,  0.57947677,  0.52158484,\n",
       "        0.59045855,  0.55519485,  0.59916899,  0.48181013,  0.60039601,\n",
       "        0.55943382,  0.57290568,  0.41919351,  0.60979202,  0.47411046,\n",
       "        0.60810446,  0.30522824,  0.07515951,  0.59727788,  0.55004408,\n",
       "        0.60691481,  0.53691738,  0.43242917,  0.61545717,  0.57526001,\n",
       "        0.58795816,  0.37956946,  0.27490805,  0.49459241,  0.49005181,\n",
       "        0.61224538,  0.58383744,  0.58326615,  0.61310195,  0.58355027,\n",
       "        0.09455416,  0.05513892,  0.61132089,  0.50362938,  0.59544444,\n",
       "        0.1690704 ,  0.42245994,  0.26133176, -0.00157135,  0.5797208 ,\n",
       "        0.58327068,  0.21905526,  0.50514959,  0.37560061,  0.57511981,\n",
       "        0.60518652,  0.49716467,  0.57933816,  0.58441157,  0.57944092,\n",
       "        0.38093846,  0.49634608,  0.18462824,  0.56206165,  0.47292728,\n",
       "        0.60533223,  0.56137699,  0.62243998,  0.59291878,  0.5590931 ,\n",
       "        0.38348286,  0.20227351,  0.5310304 ,  0.54591524,  0.50510678,\n",
       "        0.62161675,  0.5668902 ,  0.46439404,  0.30186273,  0.62069788,\n",
       "        0.62091732,  0.40482586,  0.51897471,  0.62861478,  0.58787001,\n",
       "        0.49812258,  0.58539387,  0.29068345,  0.61122579,  0.52918571,\n",
       "        0.55842812,  0.31267738,  0.48978295,  0.61314065,  0.60810446,\n",
       "        0.60810446,  0.61147625, -0.12947028,  0.07848289,  0.58525365,\n",
       "        0.61223951,  0.55399607,  0.49076982, -0.02510918,  0.54343228,\n",
       "        0.61265506,  0.37265959,  0.40484066,  0.61119118,  0.46594506,\n",
       "        0.61260854,  0.32363254,  0.11621083,  0.57307921,  0.59916899,\n",
       "        0.29959967,  0.17998062,  0.62019185,  0.58261338,  0.61997429,\n",
       "        0.32440922,  0.59887085,  0.56430098,  0.59503656,  0.20324597,\n",
       "        0.56936874,  0.41865626,  0.10304844,  0.61266417,  0.56477164,\n",
       "        0.62174026,  0.61192767,  0.57947285,  0.54449984,  0.6120038 ,\n",
       "        0.17215832,  0.4602194 ,  0.58521931,  0.47839148,  0.60459824,\n",
       "        0.22368337,  0.53653067,  0.38327256,  0.5536892 ,  0.29988021,\n",
       "        0.60513075,  0.56150123,  0.5831929 ,  0.30300573,  0.25553681,\n",
       "        0.50796243,  0.58521931,  0.5553791 ,  0.19196355,  0.55728793,\n",
       "        0.60537012,  0.60799926,  0.10495442,  0.61282064,  0.62163623,\n",
       "        0.24568237,  0.61320217,  0.39657946,  0.18285149,  0.13803407,\n",
       "        0.61845103,  0.62189555,  0.55521585,  0.58326615,  0.60799926,\n",
       "        0.43425142,  0.60780289,  0.59865139,  0.62751892,  0.14030164,\n",
       "        0.62197732,  0.54215716,  0.60836529,  0.47208678,  0.5597377 ,\n",
       "        0.32285198,  0.30090743,  0.60994938,  0.55565358,  0.50931199,\n",
       "        0.31260378,  0.60676153,  0.55950054,  0.17809757,  0.58949741,\n",
       "        0.42352298,  0.46709354,  0.19566049,  0.61247398,  0.59915853,\n",
       "        0.58336744,  0.4143766 ,  0.59066811,  0.58528672,  0.57750072,\n",
       "        0.53935659,  0.59523604,  0.56984008,  0.54103845,  0.61885539,\n",
       "        0.56664405,  0.59123259,  0.19719377,  0.60878315,  0.06789455,\n",
       "        0.41448927,  0.33899809,  0.44949724,  0.34870775,  0.42585714,\n",
       "        0.47796021,  0.44536605,  0.2701009 ,  0.53932612, -0.14853901,\n",
       "        0.61247398,  0.46437132,  0.54966089,  0.41327734,  0.20269511,\n",
       "        0.61197668,  0.6014613 ,  0.53606744,  0.52082102,  0.60867315,\n",
       "        0.20057686,  0.60780508,  0.37568471,  0.55643518,  0.58376971,\n",
       "        0.53852353,  0.56179651,  0.59549351,  0.57947677,  0.59916899,\n",
       "        0.33686607,  0.42683704,  0.61140801,  0.60497894,  0.62297894,\n",
       "        0.61416893,  0.02633959,  0.08253462,  0.51809665, -0.17180524,\n",
       "        0.54580039,  0.61219933])"
      ]
     },
     "execution_count": 16,
     "metadata": {},
     "output_type": "execute_result"
    }
   ],
   "source": [
    "silhouette_samples(X, clusters)"
   ]
  },
  {
   "cell_type": "code",
   "execution_count": 20,
   "metadata": {},
   "outputs": [
    {
     "data": {
      "text/plain": [
       "0.46973465065192194"
      ]
     },
     "execution_count": 20,
     "metadata": {},
     "output_type": "execute_result"
    }
   ],
   "source": [
    "silhouette_score(X, clusters)"
   ]
  },
  {
   "cell_type": "markdown",
   "metadata": {},
   "source": [
    "Możemy też wykorzystać tę metrykę do tego, aby sprawdzić jak podobne byłyby do siebie wektory, jeśli odnaleźlibyśmy metodę, która przeprowadzi idealne klastrowanie pod kątem przetrwania katastrofy."
   ]
  },
  {
   "cell_type": "code",
   "execution_count": 21,
   "metadata": {},
   "outputs": [
    {
     "data": {
      "text/plain": [
       "0.07008673847575181"
      ]
     },
     "execution_count": 21,
     "metadata": {},
     "output_type": "execute_result"
    }
   ],
   "source": [
    "silhouette_score(X, reduced_titanic_df[\"Survived\"])"
   ]
  },
  {
   "cell_type": "markdown",
   "metadata": {},
   "source": [
    "### Davies-Bouldin score\n",
    "\n",
    "Metoda Davies-Bouldin score wylicza średnie podobieństwo pomiędzy danym klastrem, a najbardziej podobnym do niego innym klastrem. Podobieństwem, w tym wypadku, jest stosunek odległości wewnątrz klastra, do odległości pomiędzy tymi klastrami."
   ]
  },
  {
   "cell_type": "code",
   "execution_count": 22,
   "metadata": {},
   "outputs": [],
   "source": [
    "from sklearn.metrics import davies_bouldin_score"
   ]
  },
  {
   "cell_type": "code",
   "execution_count": 23,
   "metadata": {},
   "outputs": [
    {
     "data": {
      "text/plain": [
       "1.4628528069110356"
      ]
     },
     "execution_count": 23,
     "metadata": {},
     "output_type": "execute_result"
    }
   ],
   "source": [
    "davies_bouldin_score(X, clusters)"
   ]
  },
  {
   "cell_type": "markdown",
   "metadata": {},
   "source": [
    "Zwracana wartość pochodzi z przedziału $ [0, \\infty) $ i im mniejsza wartość, tym lepsze klastrowanie."
   ]
  },
  {
   "cell_type": "code",
   "execution_count": null,
   "metadata": {},
   "outputs": [],
   "source": []
  }
 ],
 "metadata": {
  "kernelspec": {
   "display_name": "Python 3",
   "language": "python",
   "name": "python3"
  },
  "language_info": {
   "codemirror_mode": {
    "name": "ipython",
    "version": 3
   },
   "file_extension": ".py",
   "mimetype": "text/x-python",
   "name": "python",
   "nbconvert_exporter": "python",
   "pygments_lexer": "ipython3",
   "version": "3.7.7"
  }
 },
 "nbformat": 4,
 "nbformat_minor": 4
}
